{
 "metadata": {
  "name": "",
  "signature": "sha256:66d375c68faac14683ffefa53316cc4bfb5648e7c75786f179ce2bf82f94ed47"
 },
 "nbformat": 3,
 "nbformat_minor": 0,
 "worksheets": [
  {
   "cells": [
    {
     "cell_type": "markdown",
     "metadata": {},
     "source": [
      "# Ch2. Linear Regression\n",
      "\n",
      "## Overview\n",
      "[TOC]\n",
      "- Simple linear regression\n",
      "- Evaluating the model\n",
      "- Multiple linear regression\n",
      "- Polynomial regression\n",
      "- Regularization\n",
      "- Applying linear regression\n",
      "- Fitting models with gradient descent\n",
      "- Summary\n",
      "\n",
      "## Simple Linear Regression\n",
      "\n",
      "### Training Data (\ud559\uc2b5 \ub370\uc774\ud130)\n",
      "- used to estimate the **parameters** of a model. \n",
      "- past observations of **explanatory variables** + **respose variables**\n",
      "\n",
      "- cf. **explanatory** variable aka **independent** variable (\ub3c5\ub9bd \ubcc0\uc218, \uc124\uba85 \ubcc0\uc218)\n",
      "- cf. **response** variable aka **dependent** variable (\ubc18\uc751 \ubcc0\uc218, \uc885\uc18d \ubcc0\uc218)\n",
      "\n",
      "###  Prediction (using model) (\uc608\uce21)\n",
      "- using explanatory variables (that have not been previously observes)\n",
      "- estimate response variable\n",
      "\n",
      "### Goal in Regression Problem:\n",
      "- predict the value of a continuous response variable\n",
      "\n",
      "### Simple Linear Regression (\ub2e8\uc21c \uc120\ud615\ud68c\uadc0)\n",
      "- linear relationship betw. 1 response variable and 1 explanatory variable\n",
      "\n",
      "### Ex: Pizza"
     ]
    },
    {
     "cell_type": "code",
     "collapsed": false,
     "input": [
      "import matplotlib.pyplot as plt\n",
      "X = [[6], [8], [10], [14],   [18]]\n",
      "y = [[7], [9], [13], [17.5], [18]]\n",
      "plt.figure()\n",
      "plt.title('Pizza price plotted against diameter')\n",
      "plt.xlabel('Diameter in inches')\n",
      "plt.ylabel('Price in dollars')\n",
      "plt.plot(X, y, 'k.')\n",
      "plt.axis([0, 25, 0, 25])\n",
      "plt.grid(True)\n",
      "plt.show()"
     ],
     "language": "python",
     "metadata": {},
     "outputs": [
      {
       "metadata": {},
       "output_type": "display_data",
       "png": "[encoded data removed]",
       "text": [
        "<matplotlib.figure.Figure at 0x10b3b5350>"
       ]
      }
     ],
     "prompt_number": 1
    },
    {
     "cell_type": "markdown",
     "metadata": {},
     "source": [
      "### Actual Linear Regression Example"
     ]
    },
    {
     "cell_type": "code",
     "collapsed": false,
     "input": [
      "from sklearn.linear_model import LinearRegression\n",
      "# Training data\n",
      "X = [[6], [8], [10], [14],   [18]]\n",
      "y = [[7], [9], [13], [17.5], [18]]\n",
      "# Create and fit the model\n",
      "model = LinearRegression()\n",
      "model.fit(X, y)\n",
      "print 'A 12\" pizza should cost: $%.2f' % model.predict([12])[0]"
     ],
     "language": "python",
     "metadata": {},
     "outputs": [
      {
       "output_type": "stream",
       "stream": "stdout",
       "text": [
        "A 12\" pizza should cost: $13.68\n"
       ]
      }
     ],
     "prompt_number": 2
    },
    {
     "cell_type": "markdown",
     "metadata": {},
     "source": [
      "### Hyperplane\n",
      "- assumption: linear relationship exists betw. response var. and explanatory var.\n",
      "- this relationship is modeled as a linear surface, **hyperplane**\n",
      "- subspace that's 1 dim. less than the ambient space that contains it\n",
      "\n",
      "### Estimator (\uc608\uce21 \uaddc\uce59, \uc608\uce21 \ubaa8\ub378?)\n",
      "- eg: **`sklearn.linear_model.LinearRegression`** class\n",
      "- predicts a value based on the *observed* data\n",
      "- important methods (all estimator implements)\n",
      "\n",
      "name | role\n",
      "-|-\n",
      "`fit()` | learns the parameters of a model \n",
      "`predict()` | predicts the value of response variable, using learned parameters\n",
      "\n",
      "```\n",
      "    y = \u03b1 + \u03b2x\n",
      "```\n",
      "\n",
      "name | desc.\n",
      "-|-\n",
      "y | predicted value of the response var. \n",
      "x | explanatory variable\n",
      "\u03b1,\u03b2 | intercept term / coefficient - paramters of the model (learned by the learning algorithm)\n"
     ]
    },
    {
     "cell_type": "code",
     "collapsed": false,
     "input": [
      "plt.xlabel('Diameter in inches'); plt.ylabel('Price in dollars');\n",
      "X2 = [[0], [10], [14], [25]]\n",
      "plt.plot(X2, model.predict(X2), color='blue', linewidth=2)\n",
      "plt.plot(X,y, 'k.')\n",
      "plt.grid(True)\n",
      "plt.show()"
     ],
     "language": "python",
     "metadata": {},
     "outputs": [
      {
       "metadata": {},
       "output_type": "display_data",
       "png": "[encoded data removed]",
       "text": [
        "<matplotlib.figure.Figure at 0x10b0cf590>"
       ]
      }
     ],
     "prompt_number": 3
    },
    {
     "cell_type": "markdown",
     "metadata": {},
     "source": [
      "### Ordinary Least Squares (or Linear Least Squares)\n",
      "want to find model that produces the **best fitting** model\n",
      "- model that fits the **training data**\n",
      "\n",
      "### Evaluating the fitness of a model with a cost function\n",
      "\n",
      "what's **criteria** for best-fitting regression?\n",
      "\n",
      "#### Cost Function (aka Loss Function)\n",
      "\n",
      "Used to define & measure the **error** (\uc624\ucc28) of a model\n",
      "\n",
      "- **residual** (or training error, \uc794\ucc28): differences betw. predicted values & observed values in the training set\n",
      "- **prediction error / test error**: diff. in the test set\n",
      "\n",
      "**Residual sum of squares** cost function\n",
      "\n",
      "<img src=\"http://ww2.tnstate.edu/ganter/BIO-311-Ch12-Eq5a.gif\" width=200></img>\n"
     ]
    },
    {
     "cell_type": "code",
     "collapsed": false,
     "input": [
      "import numpy as np\n",
      "print \"Residual sum of squares: %.2f\" % np.mean((model.predict(X) - y) ** 2)"
     ],
     "language": "python",
     "metadata": {},
     "outputs": [
      {
       "output_type": "stream",
       "stream": "stdout",
       "text": [
        "Residual sum of squares: 1.75\n"
       ]
      }
     ],
     "prompt_number": 4
    },
    {
     "cell_type": "markdown",
     "metadata": {},
     "source": [
      "### Solving ordinary least squares (\ucd5c\uc18c \uc790\uc2b9) for simple linear regression\n",
      "\n",
      "#### 1) solve \u03b2: calculate **variance** (\ubd84\uc0b0) & **covariance** (\uacf5\ubd84\uc0b0) of x\n",
      "\n",
      "<img src='https://encrypted-tbn2.gstatic.com/images?q=tbn:ANd9GcSgqtL6JZb3CgHdXki2I-JimIc3hv5JH9jwN7KYEpYUiqrdN4tUDQ' width=200></img>\n",
      "\n",
      "\n",
      "<img src='http://education.howthemarketworks.com/wp-content/uploads/2013/09/Covariance-Formula.jpg' width=250></img>\n",
      "\n",
      "```\n",
      "\u03b2 = cov(x,y) / var(x)\n",
      "```\n",
      "#### 2) solve \u03b1: calculate using means of x,y and \u03b2\n",
      "\n",
      "```\n",
      "\u03b1 = mean(y) - \u03b2 mean(x)\n",
      "```"
     ]
    },
    {
     "cell_type": "markdown",
     "metadata": {},
     "source": [
      "## Evaluating the Model\n",
      "\n",
      "### r-squared\n",
      "\n",
      "how well the observed values of the response variables are predicted by the model\n",
      "- proportion of the variance in the response variable that is explaned by the model\n",
      "\n",
      "<img src='https://encrypted-tbn3.gstatic.com/images?q=tbn:ANd9GcQzfE5dS4wf2D645dxy8qrgQfrXkzijU0oGUa0iosrGlqMel2_oTg' width=200></img>\n",
      "\n"
     ]
    },
    {
     "cell_type": "code",
     "collapsed": false,
     "input": [
      "from sklearn.linear_model import LinearRegression\n",
      "\n",
      "X = [[6], [8], [10], [14], [18]]; y = [[7], [9], [13], [17.5], [18]]\n",
      "X_test = [[8],  [9],  [11], [16], [12]]; y_test = [[11], [8.5], [15], [18], [11]]\n",
      "\n",
      "model = LinearRegression()\n",
      "model.fit(X, y)\n",
      "print 'R-squared: %.4f' % model.score(X_test, y_test)"
     ],
     "language": "python",
     "metadata": {},
     "outputs": [
      {
       "output_type": "stream",
       "stream": "stdout",
       "text": [
        "R-squared: 0.6620\n"
       ]
      }
     ],
     "prompt_number": 5
    },
    {
     "cell_type": "markdown",
     "metadata": {},
     "source": [
      "## Multiple Linear Regiression \n",
      "\n",
      "### Formal Definition\n",
      "\n",
      "> multiple linear regression uses a coefficient for **each** of an arbitrary number of **explanatory variables**\n",
      "\n",
      "<img src='http://www.saedsayad.com/images/MLR_1b.png' width=500></img>\n",
      "\n",
      "in matrix form: \n",
      "\n",
      "<img src='http://wiki.stat.ucla.edu/socr/uploads/math/3/0/f/30fe0ab6589c9992f21487bd912085e7.png' height=18></img>\n",
      "\n",
      "<img src='http://wiki.stat.ucla.edu/socr/uploads/math/8/9/7/89764b9d5fee46cedb3301257d28aa51.png' width=400></img>\n",
      "\n",
      "### estimation of \u03b2 (using matrix notation)\n",
      "<img src='http://wiki.stat.ucla.edu/socr/uploads/math/2/d/7/2d74063fcebd6bbebe99ace856d0207b.png' height=18/>"
     ]
    },
    {
     "cell_type": "code",
     "collapsed": false,
     "input": [
      "from numpy.linalg import inv; from numpy import dot, transpose\n",
      "X = [[1, 6, 2], [1, 8, 1], [1, 10, 0], [1, 14, 2], [1, 18, 0]]; y = [[7],    [9],    [13],    [17.5],  [18]]\n",
      "print dot(inv(dot(transpose(X), X)), dot(transpose(X), y))"
     ],
     "language": "python",
     "metadata": {},
     "outputs": [
      {
       "output_type": "stream",
       "stream": "stdout",
       "text": [
        "[[ 1.1875    ]\n",
        " [ 1.01041667]\n",
        " [ 0.39583333]]\n"
       ]
      }
     ],
     "prompt_number": 6
    },
    {
     "cell_type": "markdown",
     "metadata": {},
     "source": [
      "or, use least square function that `NumPy` provides:"
     ]
    },
    {
     "cell_type": "code",
     "collapsed": false,
     "input": [
      "from numpy.linalg import lstsq\n",
      "print lstsq(X, y)[0]"
     ],
     "language": "python",
     "metadata": {},
     "outputs": [
      {
       "output_type": "stream",
       "stream": "stdout",
       "text": [
        "[[ 1.1875    ]\n",
        " [ 1.01041667]\n",
        " [ 0.39583333]]\n"
       ]
      }
     ],
     "prompt_number": 7
    },
    {
     "cell_type": "markdown",
     "metadata": {},
     "source": [
      "Let's predict `y` (with second explanatory variable)! "
     ]
    },
    {
     "cell_type": "code",
     "collapsed": false,
     "input": [
      "X = [[6, 2], [8, 1], [10, 0], [14, 2], [18, 0]]; y = [[7],    [9],    [13],    [17.5],  [18]]\n",
      "model = LinearRegression()\n",
      "model.fit(X, y)\n",
      "X_test = [[8, 2], [9, 0], [11, 2], [16, 2], [12, 0]]; y_test = [[11],   [8.5],  [15],    [18],    [11]]\n",
      "predictions = model.predict(X_test)\n",
      "\n",
      "for i, prediction in enumerate(predictions):\n",
      "\tprint 'Predicted: %s, Target: %s' % (prediction, y_test[i])\n",
      "print 'R-squared: %.2f' % model.score(X_test, y_test)"
     ],
     "language": "python",
     "metadata": {},
     "outputs": [
      {
       "output_type": "stream",
       "stream": "stdout",
       "text": [
        "Predicted: [ 10.0625], Target: [11]\n",
        "Predicted: [ 10.28125], Target: [8.5]\n",
        "Predicted: [ 13.09375], Target: [15]\n",
        "Predicted: [ 18.14583333], Target: [18]\n",
        "Predicted: [ 13.3125], Target: [11]\n",
        "R-squared: 0.77\n"
       ]
      }
     ],
     "prompt_number": 8
    },
    {
     "cell_type": "markdown",
     "metadata": {},
     "source": [
      "### Analysis\n",
      "\n",
      "- additional explanatory variable improved the **performance** of the model\n",
      "- multiple linear regression model performs **significantly better** than the simple LR model. \n"
     ]
    },
    {
     "cell_type": "markdown",
     "metadata": {},
     "source": [
      "## Polynomial Regression \n",
      "\n",
      "### Quadratic Regression\n",
      "\n",
      "cf. `PolynomialFeatures` transformer can be used to add polynomial features to a feature representation\n",
      "\n",
      "cf. **Feature**: tuple of explanatory variables"
     ]
    },
    {
     "cell_type": "code",
     "collapsed": false,
     "input": [
      "import numpy as np\n",
      "import matplotlib.pyplot as plt\n",
      "from sklearn.linear_model import LinearRegression\n",
      "from sklearn.preprocessing import PolynomialFeatures\n",
      "\n",
      "X_train = [[6], [8], [10], [14], [18]]\n",
      "y_train = [[7],    [9],    [13],    [17.5],  [18]]\n",
      "X_test = [[6],  [8],   [11], [16]]\n",
      "y_test = [[8],   [12],  [15], [18]]\n",
      "\n",
      "regressor = LinearRegression()\n",
      "regressor.fit(X_train, y_train)\n",
      "xx = np.linspace(0, 26, 100)\n",
      "yy = regressor.predict(xx.reshape(xx.shape[0], 1))\n",
      "plt.plot(xx, yy)\n",
      "\n",
      "featurizer = PolynomialFeatures(degree=2)\n",
      "X_train_quad = featurizer.fit_transform(X_train)\n",
      "X_test_quad = featurizer.transform(X_test)\n",
      "\n",
      "regressor_quad = LinearRegression()\n",
      "regressor_quad.fit(X_train_quad, y_train)\n",
      "xx_quad = featurizer.transform(xx.reshape(xx.shape[0], 1))\n",
      "\n",
      "plt.plot(xx, regressor_quad.predict(xx_quad), c='r', linestyle='--')\n",
      "plt.title('Pizza price regressed on diameter (linear, quadratic)')\n",
      "plt.xlabel('Diameter in inches')\n",
      "plt.ylabel('Price in dollars')\n",
      "plt.axis([0, 25, 0, 25])\n",
      "plt.grid(True)\n",
      "plt.scatter(X_train, y_train)\n",
      "plt.show()\n",
      "\n",
      "print X_train\n",
      "print X_train_quad\n",
      "print X_test\n",
      "print X_test_quad\n",
      "\n",
      "print 'Simple LR R^2', regressor.score(X_test, y_test)\n",
      "print 'Quadratic Regression R^2', regressor_quad.score(X_test_quad, y_test)\n"
     ],
     "language": "python",
     "metadata": {},
     "outputs": [
      {
       "metadata": {},
       "output_type": "display_data",
       "png": "[encoded data removed]",
       "text": [
        "<matplotlib.figure.Figure at 0x10dad46d0>"
       ]
      },
      {
       "output_type": "stream",
       "stream": "stdout",
       "text": [
        "[[6], [8], [10], [14], [18]]\n",
        "[[  1   6  36]\n",
        " [  1   8  64]\n",
        " [  1  10 100]\n",
        " [  1  14 196]\n",
        " [  1  18 324]]\n",
        "[[6], [8], [11], [16]]\n",
        "[[  1   6  36]\n",
        " [  1   8  64]\n",
        " [  1  11 121]\n",
        " [  1  16 256]]\n",
        "Simple LR R^2 0.809726797708\n",
        "Quadratic Regression R^2 0.867544365635\n"
       ]
      }
     ],
     "prompt_number": 9
    },
    {
     "cell_type": "markdown",
     "metadata": {},
     "source": [
      "### Overfitting (\uacfc\uc801\ud569)\n",
      "\n",
      "- instead of **induce** a **general rule**,\n",
      "- **memorized** the inputs and outputs from the training data\n",
      "- so **performs poorly** on **test data**\n",
      "\n",
      "### Overfitting and Underfitting\n",
      "\n",
      "![overfit_underfit](https://lh3.googleusercontent.com/SHaR2tFNH5hk8frtNb9druSleu13584riMKK5rVDrBg=w1248-h936-no)\n",
      "\n"
     ]
    },
    {
     "cell_type": "markdown",
     "metadata": {},
     "source": [
      "## Regularization\n",
      "\n",
      "Collection of techniques that can be used to **prevent overfitting**\n",
      "\n",
      "> **Penalty** against **complexity**\n",
      "\n",
      "\n",
      "### Ridge Regression \n",
      "\n",
      "using L2 norm of the coefficients\n",
      "\n",
      "### Least Absolute Shrinkage and Selection Operator (LASSO)\n",
      "\n",
      "using L1 norm of the coefficients\n",
      "\n",
      "### Elastic Net Regularization\n",
      "\n",
      "linearly combines L1 and L2 penalties(norms)"
     ]
    },
    {
     "cell_type": "markdown",
     "metadata": {},
     "source": [
      "## Applying LR\n"
     ]
    },
    {
     "cell_type": "code",
     "collapsed": false,
     "input": [
      "import pandas as pd\n",
      "df = pd.read_csv('/Users/apollos/Desktop/Python/scikit-learn/winequality-red.csv', sep=';') \n",
      "df.describe()\n",
      "\n",
      "import matplotlib.pylab as plt\n",
      "plt.scatter(df['alcohol'], df['quality'])\n",
      "plt.xlabel('Alcohol')\n",
      "plt.ylabel('Quality')\n",
      "plt.title('Alcohol Against Quality')\n",
      "plt.show()\n",
      "\n",
      "from sklearn.linear_model import LinearRegression\n",
      "import pandas as pd\n",
      "import matplotlib.pylab as plt\n",
      "from sklearn.cross_validation import train_test_split\n",
      "\n",
      "df = pd.read_csv('/Users/apollos/Desktop/Python/scikit-learn/winequality-red.csv', sep=';')\n",
      "X = df[list(df.columns)[:-1]]\n",
      "y = df['quality']\n",
      "X_train, X_test, y_train, y_test = train_test_split(X, y)\n",
      "\n",
      "regressor = LinearRegression()\n",
      "regressor.fit(X_train, y_train)\n",
      "y_predictions = regressor.predict(X_test)\n",
      "print 'R-squared:', regressor.score(X_test, y_test)\n",
      "\n"
     ],
     "language": "python",
     "metadata": {},
     "outputs": [
      {
       "output_type": "stream",
       "stream": "stderr",
       "text": [
        "/Users/apollos/Library/Enthought/Canopy_64bit/User/lib/python2.7/site-packages/pandas/io/excel.py:626: UserWarning: Installed openpyxl is not supported at this time. Use >=1.6.1 and <2.0.0.\n",
        "  .format(openpyxl_compat.start_ver, openpyxl_compat.stop_ver))\n"
       ]
      },
      {
       "metadata": {},
       "output_type": "display_data",
       "png": "[encoded data removed]",
       "text": [
        "<matplotlib.figure.Figure at 0x10ec69150>"
       ]
      },
      {
       "output_type": "stream",
       "stream": "stdout",
       "text": [
        "R-squared: 0.333280171254\n"
       ]
      }
     ],
     "prompt_number": 10
    },
    {
     "cell_type": "markdown",
     "metadata": {},
     "source": [
      "## Fitting Models with Gradient Descent\n",
      "\n",
      "### Gradient Descent\n",
      "\n",
      "an optimization algorithm that can be used to estimate the local minimum of a function\n",
      "\n",
      "**learning rate** : controls the size of the steps\n",
      "- too small: too long time for convergence\n",
      "- too large: overstepping -> could oscillate around the optimal values\n",
      "\n",
      "type | training data coverage | result\n",
      "-|-|-\n",
      "Batch GD | all | deterministic\n",
      "Stochastic GD (SGD) | one / iteration | random"
     ]
    },
    {
     "cell_type": "code",
     "collapsed": false,
     "input": [
      "import numpy as np\n",
      "import random\n",
      "from sklearn.datasets import load_boston\n",
      "from sklearn.linear_model import SGDRegressor\n",
      "from sklearn.cross_validation import cross_val_score\n",
      "from sklearn.preprocessing import StandardScaler\n",
      "from sklearn.cross_validation import train_test_split\n",
      "\n",
      "data = load_boston()\n",
      "X_train, X_test, y_train, y_test = train_test_split(data.data, data.target)\n",
      "print 'length of training set: ', len(y_train)\n",
      "print 'length of test set: ', len(y_test) # train:test = 3:1\n",
      "# random.seed(len(y_train))\n",
      "X_scaler = StandardScaler()\n",
      "y_scaler = StandardScaler()\n",
      "X_train = X_scaler.fit_transform(X_train)\n",
      "y_train = y_scaler.fit_transform(y_train)\n",
      "X_test = X_scaler.transform(X_test)\n",
      "y_test = y_scaler.transform(y_test)\n",
      "\n",
      "regressor = SGDRegressor(loss='squared_loss')\n",
      "scores = cross_val_score(regressor, X_train, y_train, cv=5)\n",
      "print 'Cross validation r-sqaured scores:', scores\n",
      "print 'Average cross validation r-squared score:', np.mean(scores)\n",
      "regressor.fit_transform(X_train, y_train)\n",
      "print 'Test set r-squared score', regressor.score(X_test, y_test)\n"
     ],
     "language": "python",
     "metadata": {},
     "outputs": [
      {
       "output_type": "stream",
       "stream": "stdout",
       "text": [
        "length of training set:  379\n",
        "length of test set:  127\n",
        "Cross validation r-sqaured scores: [ 0.56648863  0.6538719   0.69710693  0.7509363   0.62969822]\n",
        "Average cross validation r-squared score: 0.659620397034\n",
        "Test set r-squared score 0.75891216356\n"
       ]
      }
     ],
     "prompt_number": 11
    },
    {
     "cell_type": "markdown",
     "metadata": {},
     "source": [
      "## Summary\n",
      "\n",
      "### 3 Cases of LR\n",
      "- Simple LR\n",
      "- Multiple LR\n",
      "- Polynomial Regression\n",
      "\n",
      "### Generalized Linear Model\n",
      "- framework for modeling linear relationships\n",
      "\n",
      "### How to minimize cost function (solve the model, find parameters, ...)\n",
      "- solve analytically (using Linear Algebra)\n",
      "- use gradient descent \n",
      "\n",
      "### Next Chapter\n",
      "- how to create features for different types of explanatory variables\n",
      "- especially, categorical variables, texts, images"
     ]
    }
   ],
   "metadata": {}
  }
 ]
}
