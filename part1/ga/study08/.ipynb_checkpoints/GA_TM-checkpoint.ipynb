{
 "cells": [
  {
   "cell_type": "markdown",
   "metadata": {},
   "source": [
    "# 구글 태그 매니저"
   ]
  },
  {
   "cell_type": "markdown",
   "metadata": {},
   "source": [
    "* 소비자On : 파트1 - GA [1]\n",
    "* 김무성"
   ]
  },
  {
   "cell_type": "markdown",
   "metadata": {},
   "source": [
    "# Contents"
   ]
  },
  {
   "cell_type": "markdown",
   "metadata": {},
   "source": [
    "* 준비단계\n",
    "* Unit 1 - Starting out with Google Tag Manager\n",
    "* Unit 2 - Setting up Google Tag Manager\n",
    "* Unit 3 - Collecting data using the Data Layer, variables, and events"
   ]
  },
  {
   "cell_type": "markdown",
   "metadata": {},
   "source": [
    "# 준비단계 "
   ]
  },
  {
   "cell_type": "markdown",
   "metadata": {},
   "source": [
    "1. 자기만의 웹페이지를 만든다.\n",
    "    - [Jekyll,Git 을 몰라도 무료 Github Pages 즐기기](http://ilmol.com/2015/01/Jekyll,Git%20%EC%9D%84%20%EB%AA%B0%EB%9D%BC%EB%8F%84%20%EB%AC%B4%EB%A3%8C%20Github%20Pages%20%EC%A6%90%EA%B8%B0%EA%B8%B0.html)\n",
    "2. google analytics 계정을 만든다.\n",
    "3. google tag manager로 태그를 만들어 심는다."
   ]
  },
  {
   "cell_type": "markdown",
   "metadata": {},
   "source": [
    "# Unit 1 - Starting out with Google Tag Manager"
   ]
  },
  {
   "cell_type": "markdown",
   "metadata": {},
   "source": [
    "* Course Introduction\n",
    "* Start with a measurement plan\n",
    "* Develop a tag implementation strategy\n",
    "* Tag Manager overview"
   ]
  },
  {
   "cell_type": "markdown",
   "metadata": {},
   "source": [
    "## Course Introduction"
   ]
  },
  {
   "cell_type": "markdown",
   "metadata": {},
   "source": [
    "<img src=\"figures/capu1.1.1.png\" width=600 />\n",
    "<img src=\"figures/capu1.1.2.png\" width=600 />\n",
    "<img src=\"figures/capu1.1.3.png\" width=600 />\n",
    "<img src=\"figures/capu1.1.4.png\" width=600 />\n",
    "<img src=\"figures/capu1.1.5.png\" width=600 />\n",
    "<img src=\"figures/capu1.1.6.png\" width=600 />\n",
    "<img src=\"figures/capu1.1.7.png\" width=600 />\n",
    "<img src=\"figures/capu1.1.8.png\" width=600 />"
   ]
  },
  {
   "cell_type": "markdown",
   "metadata": {},
   "source": [
    "## Start with a measurement plan"
   ]
  },
  {
   "cell_type": "markdown",
   "metadata": {},
   "source": [
    "<img src=\"figures/capu1.2.1.png\" width=600 />"
   ]
  },
  {
   "cell_type": "markdown",
   "metadata": {},
   "source": [
    "## Develop a tag implementation strategy"
   ]
  },
  {
   "cell_type": "markdown",
   "metadata": {},
   "source": [
    "<img src=\"figures/capu1.3.1.png\" width=600 />\n",
    "<img src=\"figures/capu1.3.2.png\" width=600 />\n",
    "<img src=\"figures/capu1.3.3.png\" width=600 />\n",
    "<img src=\"figures/capu1.3.4.png\" width=600 />\n",
    "<img src=\"figures/capu1.3.5.png\" width=600 />\n",
    "<img src=\"figures/capu1.3.6.png\" width=600 />\n",
    "<img src=\"figures/capu1.3.7.png\" width=600 />\n",
    "<img src=\"figures/capu1.3.8.png\" width=600 />\n",
    "<img src=\"figures/capu1.3.9.png\" width=600 />\n",
    "<img src=\"figures/capu1.3.10.png\" width=600 />\n",
    "<img src=\"figures/capu1.3.11.png\" width=600 />\n",
    "<img src=\"figures/capu1.3.12.png\" width=600 />\n",
    "<img src=\"figures/capu1.3.13.png\" width=600 />\n",
    "<img src=\"figures/capu1.3.14.png\" width=600 />\n",
    "<img src=\"figures/capu1.3.15.png\" width=600 />\n",
    "<img src=\"figures/capu1.3.16.png\" width=600 />\n",
    "<img src=\"figures/capu1.3.17.png\" width=600 />\n",
    "<img src=\"figures/capu1.3.18.png\" width=600 />\n",
    "<img src=\"figures/capu1.3.19.png\" width=600 />\n",
    "<img src=\"figures/capu1.3.20.png\" width=600 />\n",
    "<img src=\"figures/capu1.3.21.png\" width=600 />\n",
    "<img src=\"figures/capu1.3.22.png\" width=600 />\n",
    "<img src=\"figures/capu1.3.23.png\" width=600 />\n",
    "<img src=\"figures/capu1.3.24.png\" width=600 />\n",
    "<img src=\"figures/capu1.3.25.png\" width=600 />\n",
    "<img src=\"figures/capu1.3.26.png\" width=600 />\n",
    "<img src=\"figures/capu1.3.27.png\" width=600 />"
   ]
  },
  {
   "cell_type": "markdown",
   "metadata": {},
   "source": [
    "# Unit 2 - Setting up Google Tag Manager"
   ]
  },
  {
   "cell_type": "markdown",
   "metadata": {},
   "source": [
    "* Install the Google Analytics tag\n",
    "* Set up a GA Property variable\n",
    "* Set up cross-domain tracking\n",
    "* Understand the Data Layer"
   ]
  },
  {
   "cell_type": "markdown",
   "metadata": {},
   "source": [
    "## Install the Google Analytics tag"
   ]
  },
  {
   "cell_type": "markdown",
   "metadata": {},
   "source": [
    "<img src=\"figures/capu2.1.1.png\" width=600 />\n",
    "<img src=\"figures/capu2.1.2.png\" width=600 />\n",
    "<img src=\"figures/capu2.1.3.png\" width=600 />\n",
    "<img src=\"figures/capu2.1.4.png\" width=600 />\n",
    "<img src=\"figures/capu2.1.5.png\" width=600 />\n",
    "<img src=\"figures/capu2.1.6.png\" width=600 />\n",
    "<img src=\"figures/capu2.1.7.png\" width=600 />\n",
    "<img src=\"figures/capu2.1.8.png\" width=600 />\n",
    "<img src=\"figures/capu2.1.9.png\" width=600 />\n",
    "<img src=\"figures/capu2.1.10.png\" width=600 />\n",
    "<img src=\"figures/capu2.1.11.png\" width=600 />\n",
    "<img src=\"figures/capu2.1.12.png\" width=600 />\n",
    "<img src=\"figures/capu2.1.13.png\" width=600 />\n",
    "<img src=\"figures/capu2.1.14.png\" width=600 />\n",
    "<img src=\"figures/capu2.1.15.png\" width=600 />\n",
    "<img src=\"figures/capu2.1.16.png\" width=600 />\n",
    "<img src=\"figures/capu2.1.17.png\" width=600 />\n",
    "<img src=\"figures/capu2.1.18.png\" width=600 />\n",
    "<img src=\"figures/capu2.1.19.png\" width=600 />\n",
    "<img src=\"figures/capu2.1.20.png\" width=600 />\n",
    "<img src=\"figures/capu2.1.21.png\" width=600 />\n",
    "<img src=\"figures/capu2.1.22.png\" width=600 />\n",
    "<img src=\"figures/capu2.1.23.png\" width=600 />\n",
    "<img src=\"figures/capu2.1.24.png\" width=600 />\n",
    "<img src=\"figures/capu2.1.25.png\" width=600 />\n",
    "<img src=\"figures/capu2.1.26.png\" width=600 />\n",
    "<img src=\"figures/capu2.1.27.png\" width=600 />\n",
    "<img src=\"figures/capu2.1.28.png\" width=600 />\n",
    "<img src=\"figures/capu2.1.29.png\" width=600 />\n",
    "<img src=\"figures/capu2.1.30.png\" width=600 />\n",
    "<img src=\"figures/capu2.1.31.png\" width=600 />\n",
    "<img src=\"figures/capu2.1.32.png\" width=600 />\n",
    "<img src=\"figures/capu2.1.33.png\" width=600 />\n",
    "<img src=\"figures/capu2.1.34.png\" width=600 />\n",
    "<img src=\"figures/capu2.1.35.png\" width=600 />\n",
    "<img src=\"figures/capu2.1.36.png\" width=600 />\n",
    "<img src=\"figures/capu2.1.37.png\" width=600 />\n",
    "<img src=\"figures/capu2.1.38.png\" width=600 />\n",
    "<img src=\"figures/capu2.1.39.png\" width=600 />\n",
    "<img src=\"figures/capu2.1.40.png\" width=600 />\n",
    "<img src=\"figures/capu2.1.41.png\" width=600 />\n",
    "<img src=\"figures/capu2.1.42.png\" width=600 />\n",
    "<img src=\"figures/capu2.1.43.png\" width=600 />\n",
    "<img src=\"figures/capu2.1.44.png\" width=600 />\n",
    "<img src=\"figures/capu2.1.45.png\" width=600 />\n",
    "<img src=\"figures/capu2.1.46.png\" width=600 />\n",
    "<img src=\"figures/capu2.1.47.png\" width=600 />\n",
    "<img src=\"figures/capu2.1.50.png\" width=600 />\n",
    "<img src=\"figures/capu2.1.51.png\" width=600 />\n",
    "<img src=\"figures/capu2.1.52.png\" width=600 />\n",
    "<img src=\"figures/capu2.1.53.png\" width=600 />\n",
    "<img src=\"figures/capu2.1.54.png\" width=600 />\n",
    "<img src=\"figures/capu2.1.55.png\" width=600 />\n",
    "<img src=\"figures/capu2.1.56.png\" width=600 />\n",
    "<img src=\"figures/capu2.1.57.png\" width=600 />"
   ]
  },
  {
   "cell_type": "markdown",
   "metadata": {
    "collapsed": true
   },
   "source": [
    "## Set up a GA Property variable"
   ]
  },
  {
   "cell_type": "markdown",
   "metadata": {},
   "source": [
    "<img src=\"figures/capu2.2.1.png\" width=600 />\n",
    "<img src=\"figures/capu2.2.2.png\" width=600 />\n",
    "<img src=\"figures/capu2.2.3.png\" width=600 />\n",
    "<img src=\"figures/capu2.2.4.png\" width=600 />\n",
    "<img src=\"figures/capu2.2.5.png\" width=600 />\n",
    "<img src=\"figures/capu2.2.6.png\" width=600 />\n",
    "<img src=\"figures/capu2.2.7.png\" width=600 />\n",
    "<img src=\"figures/capu2.2.8.png\" width=600 />\n",
    "<img src=\"figures/capu2.2.9.png\" width=600 />\n",
    "<img src=\"figures/capu2.2.10.png\" width=600 />\n",
    "<img src=\"figures/capu2.2.11.png\" width=600 />\n",
    "<img src=\"figures/capu2.2.12.png\" width=600 />\n",
    "<img src=\"figures/capu2.2.13.png\" width=600 />\n",
    "<img src=\"figures/capu2.2.14.png\" width=600 />\n",
    "<img src=\"figures/capu2.2.15.png\" width=600 />\n",
    "<img src=\"figures/capu2.2.16.png\" width=600 />\n",
    "<img src=\"figures/capu2.2.17.png\" width=600 />\n",
    "<img src=\"figures/capu2.2.18.png\" width=600 />\n",
    "<img src=\"figures/capu2.2.19.png\" width=600 />\n",
    "<img src=\"figures/capu2.2.20.png\" width=600 />\n",
    "<img src=\"figures/capu2.2.21.png\" width=600 />\n",
    "<img src=\"figures/capu2.2.22.png\" width=600 />\n",
    "<img src=\"figures/capu2.2.23.png\" width=600 />\n",
    "<img src=\"figures/capu2.2.24.png\" width=600 />"
   ]
  },
  {
   "cell_type": "markdown",
   "metadata": {},
   "source": [
    "## Set up cross-domain tracking"
   ]
  },
  {
   "cell_type": "markdown",
   "metadata": {
    "collapsed": true
   },
   "source": [
    "<img src=\"figures/capu2.3.1.png\" width=600 />\n",
    "<img src=\"figures/capu2.3.2.png\" width=600 />\n",
    "<img src=\"figures/capu2.3.3.png\" width=600 />\n",
    "<img src=\"figures/capu2.3.4.png\" width=600 />\n",
    "<img src=\"figures/capu2.3.5.png\" width=600 />\n",
    "<img src=\"figures/capu2.3.6.png\" width=600 />\n",
    "<img src=\"figures/capu2.3.7.png\" width=600 />\n",
    "<img src=\"figures/capu2.3.8.png\" width=600 />\n",
    "<img src=\"figures/capu2.3.9.png\" width=600 />\n",
    "<img src=\"figures/capu2.3.10.png\" width=600 />\n",
    "<img src=\"figures/capu2.3.11.png\" width=600 />\n",
    "<img src=\"figures/capu2.3.12.png\" width=600 />\n",
    "<img src=\"figures/capu2.3.13.png\" width=600 />\n",
    "<img src=\"figures/capu2.3.14.png\" width=600 />\n",
    "<img src=\"figures/capu2.3.15.png\" width=600 />\n",
    "<img src=\"figures/capu2.3.16.png\" width=600 />\n",
    "<img src=\"figures/capu2.3.17.png\" width=600 />\n",
    "<img src=\"figures/capu2.3.18.png\" width=600 />\n",
    "<img src=\"figures/capu2.3.19.png\" width=600 />\n",
    "<img src=\"figures/capu2.3.20.png\" width=600 />\n",
    "<img src=\"figures/capu2.3.21.png\" width=600 />\n",
    "<img src=\"figures/capu2.3.22.png\" width=600 />\n",
    "<img src=\"figures/capu2.3.23.png\" width=600 />\n",
    "<img src=\"figures/capu2.3.24.png\" width=600 />\n",
    "<img src=\"figures/capu2.3.25.png\" width=600 />\n",
    "<img src=\"figures/capu2.3.26.png\" width=600 />\n",
    "<img src=\"figures/capu2.3.27.png\" width=600 />\n",
    "<img src=\"figures/capu2.3.28.png\" width=600 />\n",
    "<img src=\"figures/capu2.3.29.png\" width=600 />\n",
    "<img src=\"figures/capu2.3.30.png\" width=600 />\n",
    "<img src=\"figures/capu2.3.31.png\" width=600 />\n",
    "<img src=\"figures/capu2.3.32.png\" width=600 />\n",
    "<img src=\"figures/capu2.3.33.png\" width=600 />\n",
    "<img src=\"figures/capu2.3.34.png\" width=600 />\n",
    "<img src=\"figures/capu2.3.35.png\" width=600 />\n",
    "<img src=\"figures/capu2.3.36.png\" width=600 />\n",
    "<img src=\"figures/capu2.3.37.png\" width=600 />\n",
    "<img src=\"figures/capu2.3.38.png\" width=600 />\n",
    "<img src=\"figures/capu2.3.39.png\" width=600 />\n",
    "<img src=\"figures/capu2.3.40.png\" width=600 />\n",
    "<img src=\"figures/capu2.3.41.png\" width=600 />\n",
    "<img src=\"figures/capu2.3.42.png\" width=600 />"
   ]
  },
  {
   "cell_type": "markdown",
   "metadata": {},
   "source": [
    "## Understand the Data Layer"
   ]
  },
  {
   "cell_type": "code",
   "execution_count": null,
   "metadata": {
    "collapsed": true
   },
   "outputs": [],
   "source": [
    "<img src=\"figures/capu2.4.1.png\" width=600 />\n",
    "<img src=\"figures/capu2.4.2.png\" width=600 />\n",
    "<img src=\"figures/capu2.4.3.png\" width=600 />\n",
    "<img src=\"figures/capu2.4.4.png\" width=600 />\n",
    "<img src=\"figures/capu2.4.5.png\" width=600 />\n",
    "<img src=\"figures/capu2.4.6.png\" width=600 />\n",
    "<img src=\"figures/capu2.4.7.png\" width=600 />\n",
    "<img src=\"figures/capu2.4.8.png\" width=600 />\n",
    "<img src=\"figures/capu2.4.9.png\" width=600 />\n",
    "<img src=\"figures/capu2.4.10.png\" width=600 />\n",
    "<img src=\"figures/capu2.4.11.png\" width=600 />\n",
    "<img src=\"figures/capu2.4.12.png\" width=600 />\n",
    "<img src=\"figures/capu2.4.13.png\" width=600 />\n",
    "<img src=\"figures/capu2.4.14.png\" width=600 />"
   ]
  },
  {
   "cell_type": "markdown",
   "metadata": {},
   "source": [
    "# Unit 3 - Collecting data using the Data Layer, variables, and events"
   ]
  },
  {
   "cell_type": "markdown",
   "metadata": {},
   "source": [
    "* Pass static values into Custom Dimensions\n",
    "* Pass dynamic values into Custom Metrics\n",
    "* Track events with variables"
   ]
  },
  {
   "cell_type": "markdown",
   "metadata": {},
   "source": [
    "## Pass static values into Custom Dimensions"
   ]
  },
  {
   "cell_type": "code",
   "execution_count": null,
   "metadata": {
    "collapsed": true
   },
   "outputs": [],
   "source": [
    "<img src=\"figures/capu3.1.1.png\" width=600 />\n",
    "<img src=\"figures/capu3.1.2.png\" width=600 />\n",
    "<img src=\"figures/capu3.1.3.png\" width=600 />\n",
    "<img src=\"figures/capu3.1.4.png\" width=600 />\n",
    "<img src=\"figures/capu3.1.5.png\" width=600 />\n",
    "<img src=\"figures/capu3.1.6.png\" width=600 />\n",
    "<img src=\"figures/capu3.1.7.png\" width=600 />\n",
    "<img src=\"figures/capu3.1.8.png\" width=600 />\n",
    "<img src=\"figures/capu3.1.9.png\" width=600 />\n",
    "<img src=\"figures/capu3.1.10.png\" width=600 />\n",
    "<img src=\"figures/capu3.1.11.png\" width=600 />\n",
    "<img src=\"figures/capu3.1.12.png\" width=600 />\n",
    "<img src=\"figures/capu3.1.13.png\" width=600 />\n",
    "<img src=\"figures/capu3.1.14.png\" width=600 />\n",
    "<img src=\"figures/capu3.1.15.png\" width=600 />\n",
    "<img src=\"figures/capu3.1.16.png\" width=600 />\n",
    "<img src=\"figures/capu3.1.17.png\" width=600 />\n",
    "<img src=\"figures/capu3.1.18.png\" width=600 />\n",
    "<img src=\"figures/capu3.1.19.png\" width=600 />\n",
    "<img src=\"figures/capu3.1.20.png\" width=600 />\n",
    "<img src=\"figures/capu3.1.21.png\" width=600 />\n",
    "<img src=\"figures/capu3.1.22.png\" width=600 />\n",
    "<img src=\"figures/capu3.1.23.png\" width=600 />\n",
    "<img src=\"figures/capu3.1.24.png\" width=600 />\n",
    "<img src=\"figures/capu3.1.25.png\" width=600 />\n",
    "<img src=\"figures/capu3.1.26.png\" width=600 />\n",
    "<img src=\"figures/capu3.1.27.png\" width=600 />\n",
    "<img src=\"figures/capu3.1.28.png\" width=600 />\n",
    "<img src=\"figures/capu3.1.29.png\" width=600 />\n",
    "<img src=\"figures/capu3.1.30.png\" width=600 />\n",
    "<img src=\"figures/capu3.1.31.png\" width=600 />\n",
    "<img src=\"figures/capu3.1.32.png\" width=600 />\n",
    "<img src=\"figures/capu3.1.33.png\" width=600 />\n",
    "<img src=\"figures/capu3.1.34.png\" width=600 />\n",
    "<img src=\"figures/capu3.1.35.png\" width=600 />\n",
    "<img src=\"figures/capu3.1.36.png\" width=600 />\n",
    "<img src=\"figures/capu3.1.37.png\" width=600 />\n",
    "<img src=\"figures/capu3.1.38.png\" width=600 />\n",
    "<img src=\"figures/capu3.1.39.png\" width=600 />\n",
    "<img src=\"figures/capu3.1.40.png\" width=600 />\n",
    "<img src=\"figures/capu3.1.41.png\" width=600 />\n",
    "<img src=\"figures/capu3.1.42.png\" width=600 />\n",
    "<img src=\"figures/capu3.1.43.png\" width=600 />\n",
    "<img src=\"figures/capu3.1.44.png\" width=600 />\n",
    "<img src=\"figures/capu3.1.45.png\" width=600 />\n",
    "<img src=\"figures/capu3.1.46.png\" width=600 />\n",
    "<img src=\"figures/capu3.1.47.png\" width=600 />\n",
    "<img src=\"figures/capu3.1.48.png\" width=600 />\n",
    "<img src=\"figures/capu3.1.49.png\" width=600 />\n",
    "<img src=\"figures/capu3.1.50.png\" width=600 />\n",
    "<img src=\"figures/capu3.1.51.png\" width=600 />\n",
    "<img src=\"figures/capu3.1.52.png\" width=600 />\n",
    "<img src=\"figures/capu3.1.53.png\" width=600 />\n",
    "<img src=\"figures/capu3.1.54.png\" width=600 />\n",
    "<img src=\"figures/capu3.1.55.png\" width=600 />\n",
    "<img src=\"figures/capu3.1.56.png\" width=600 />\n",
    "<img src=\"figures/capu3.1.57.png\" width=600 />\n",
    "<img src=\"figures/capu3.1.58.png\" width=600 />\n",
    "<img src=\"figures/capu3.1.59.png\" width=600 />\n",
    "<img src=\"figures/capu3.1.60.png\" width=600 />\n",
    "<img src=\"figures/capu3.1.61.png\" width=600 />\n",
    "<img src=\"figures/capu3.1.62.png\" width=600 />\n",
    "<img src=\"figures/capu3.1.63.png\" width=600 />\n",
    "<img src=\"figures/capu3.1.64.png\" width=600 />\n",
    "<img src=\"figures/capu3.1.65.png\" width=600 />\n",
    "<img src=\"figures/capu3.1.66.png\" width=600 />\n",
    "<img src=\"figures/capu3.1.67.png\" width=600 />\n",
    "<img src=\"figures/capu3.1.68.png\" width=600 />\n",
    "<img src=\"figures/capu3.1.69.png\" width=600 />\n",
    "<img src=\"figures/capu3.1.70.png\" width=600 />\n",
    "<img src=\"figures/capu3.1.71.png\" width=600 />\n",
    "<img src=\"figures/capu3.1.72.png\" width=600 />\n",
    "<img src=\"figures/capu3.1.73.png\" width=600 />\n",
    "<img src=\"figures/capu3.1.74.png\" width=600 />\n",
    "<img src=\"figures/capu3.1.75.png\" width=600 />\n",
    "<img src=\"figures/capu3.1.76.png\" width=600 />"
   ]
  },
  {
   "cell_type": "markdown",
   "metadata": {},
   "source": [
    "## Pass dynamic values into Custom Metrics"
   ]
  },
  {
   "cell_type": "code",
   "execution_count": null,
   "metadata": {
    "collapsed": true
   },
   "outputs": [],
   "source": [
    "<img src=\"figures/capu3.2.1.png\" width=600 />\n",
    "<img src=\"figures/capu3.2.2.png\" width=600 />\n",
    "<img src=\"figures/capu3.2.3.png\" width=600 />\n",
    "<img src=\"figures/capu3.2.4.png\" width=600 />\n",
    "<img src=\"figures/capu3.2.5.png\" width=600 />\n",
    "<img src=\"figures/capu3.2.6.png\" width=600 />\n",
    "<img src=\"figures/capu3.2.7.png\" width=600 />\n",
    "<img src=\"figures/capu3.2.8.png\" width=600 />\n",
    "<img src=\"figures/capu3.2.9.png\" width=600 />\n",
    "<img src=\"figures/capu3.2.10.png\" width=600 />\n",
    "<img src=\"figures/capu3.2.11.png\" width=600 />\n",
    "<img src=\"figures/capu3.2.12.png\" width=600 />\n",
    "<img src=\"figures/capu3.2.13.png\" width=600 />\n",
    "<img src=\"figures/capu3.2.14.png\" width=600 />\n",
    "<img src=\"figures/capu3.2.15.png\" width=600 />\n",
    "<img src=\"figures/capu3.2.16.png\" width=600 />\n",
    "<img src=\"figures/capu3.2.17.png\" width=600 />\n",
    "<img src=\"figures/capu3.2.18.png\" width=600 />\n",
    "<img src=\"figures/capu3.2.19.png\" width=600 />\n",
    "<img src=\"figures/capu3.2.20.png\" width=600 />\n",
    "<img src=\"figures/capu3.2.21.png\" width=600 />\n",
    "<img src=\"figures/capu3.2.22.png\" width=600 />\n",
    "<img src=\"figures/capu3.2.23.png\" width=600 />\n",
    "<img src=\"figures/capu3.2.24.png\" width=600 />\n",
    "<img src=\"figures/capu3.2.25.png\" width=600 />\n",
    "<img src=\"figures/capu3.2.26.png\" width=600 />\n",
    "<img src=\"figures/capu3.2.27.png\" width=600 />\n",
    "<img src=\"figures/capu3.2.28.png\" width=600 />\n",
    "<img src=\"figures/capu3.2.29.png\" width=600 />\n",
    "<img src=\"figures/capu3.2.30.png\" width=600 />\n",
    "<img src=\"figures/capu3.2.31.png\" width=600 />\n",
    "<img src=\"figures/capu3.2.32.png\" width=600 />\n",
    "<img src=\"figures/capu3.2.33.png\" width=600 />\n",
    "<img src=\"figures/capu3.2.34.png\" width=600 />\n",
    "<img src=\"figures/capu3.2.35.png\" width=600 />\n",
    "<img src=\"figures/capu3.2.36.png\" width=600 />\n",
    "<img src=\"figures/capu3.2.37.png\" width=600 />\n",
    "<img src=\"figures/capu3.2.38.png\" width=600 />\n",
    "<img src=\"figures/capu3.2.39.png\" width=600 />\n",
    "<img src=\"figures/capu3.2.40.png\" width=600 />\n",
    "<img src=\"figures/capu3.2.41.png\" width=600 />\n",
    "<img src=\"figures/capu3.2.42.png\" width=600 />\n",
    "<img src=\"figures/capu3.2.43.png\" width=600 />\n",
    "<img src=\"figures/capu3.2.44.png\" width=600 />\n",
    "<img src=\"figures/capu3.2.45.png\" width=600 />\n",
    "<img src=\"figures/capu3.2.46.png\" width=600 />\n",
    "<img src=\"figures/capu3.2.47.png\" width=600 />\n",
    "<img src=\"figures/capu3.2.48.png\" width=600 />\n",
    "<img src=\"figures/capu3.2.49.png\" width=600 />\n",
    "<img src=\"figures/capu3.2.50.png\" width=600 />\n",
    "<img src=\"figures/capu3.2.51.png\" width=600 />\n",
    "<img src=\"figures/capu3.2.52.png\" width=600 />\n",
    "<img src=\"figures/capu3.2.53.png\" width=600 />\n",
    "<img src=\"figures/capu3.2.54.png\" width=600 />\n",
    "<img src=\"figures/capu3.2.55.png\" width=600 />\n",
    "<img src=\"figures/capu3.2.56.png\" width=600 />\n",
    "<img src=\"figures/capu3.2.57.png\" width=600 />\n",
    "<img src=\"figures/capu3.2.58.png\" width=600 />\n",
    "<img src=\"figures/capu3.2.59.png\" width=600 />\n",
    "<img src=\"figures/capu3.2.60.png\" width=600 />\n",
    "<img src=\"figures/capu3.2.61.png\" width=600 />\n",
    "<img src=\"figures/capu3.2.62.png\" width=600 />\n",
    "<img src=\"figures/capu3.2.63.png\" width=600 />"
   ]
  },
  {
   "cell_type": "markdown",
   "metadata": {},
   "source": [
    "## Track events with variables"
   ]
  },
  {
   "cell_type": "markdown",
   "metadata": {},
   "source": [
    "<img src=\"figures/capu3.3.1.png\" width=600 />\n",
    "<img src=\"figures/capu3.3.2.png\" width=600 />\n",
    "<img src=\"figures/capu3.3.3.png\" width=600 />\n",
    "<img src=\"figures/capu3.3.4.png\" width=600 />\n",
    "<img src=\"figures/capu3.3.5.png\" width=600 />\n",
    "<img src=\"figures/capu3.3.6.png\" width=600 />\n",
    "<img src=\"figures/capu3.3.7.png\" width=600 />\n",
    "<img src=\"figures/capu3.3.8.png\" width=600 />\n",
    "<img src=\"figures/capu3.3.9.png\" width=600 />\n",
    "<img src=\"figures/capu3.3.10.png\" width=600 />\n",
    "<img src=\"figures/capu3.3.11.png\" width=600 />\n",
    "<img src=\"figures/capu3.3.12.png\" width=600 />\n",
    "<img src=\"figures/capu3.3.13.png\" width=600 />\n",
    "<img src=\"figures/capu3.3.14.png\" width=600 />\n",
    "<img src=\"figures/capu3.3.15.png\" width=600 />\n",
    "<img src=\"figures/capu3.3.16.png\" width=600 />\n",
    "<img src=\"figures/capu3.3.17.png\" width=600 />\n",
    "<img src=\"figures/capu3.3.18.png\" width=600 />\n",
    "<img src=\"figures/capu3.3.19.png\" width=600 />\n",
    "<img src=\"figures/capu3.3.20.png\" width=600 />\n",
    "<img src=\"figures/capu3.3.21.png\" width=600 />\n",
    "<img src=\"figures/capu3.3.22.png\" width=600 />\n",
    "<img src=\"figures/capu3.3.23.png\" width=600 />\n",
    "<img src=\"figures/capu3.3.24.png\" width=600 />\n",
    "<img src=\"figures/capu3.3.25.png\" width=600 />\n",
    "<img src=\"figures/capu3.3.26.png\" width=600 />\n",
    "<img src=\"figures/capu3.3.27.png\" width=600 />\n",
    "<img src=\"figures/capu3.3.28.png\" width=600 />\n",
    "<img src=\"figures/capu3.3.29.png\" width=600 />\n",
    "<img src=\"figures/capu3.3.30.png\" width=600 />\n",
    "<img src=\"figures/capu3.3.31.png\" width=600 />\n",
    "<img src=\"figures/capu3.3.32.png\" width=600 />\n",
    "<img src=\"figures/capu3.3.33.png\" width=600 />\n",
    "<img src=\"figures/capu3.3.34.png\" width=600 />\n",
    "<img src=\"figures/capu3.3.35.png\" width=600 />\n",
    "<img src=\"figures/capu3.3.36.png\" width=600 />\n",
    "<img src=\"figures/capu3.3.37.png\" width=600 />\n",
    "<img src=\"figures/capu3.3.38.png\" width=600 />\n",
    "<img src=\"figures/capu3.3.39.png\" width=600 />\n",
    "<img src=\"figures/capu3.3.40.png\" width=600 />\n",
    "<img src=\"figures/capu3.3.41.png\" width=600 />\n",
    "<img src=\"figures/capu3.3.42.png\" width=600 />\n",
    "<img src=\"figures/capu3.3.43.png\" width=600 />\n",
    "<img src=\"figures/capu3.3.44.png\" width=600 />\n",
    "<img src=\"figures/capu3.3.45.png\" width=600 />\n",
    "<img src=\"figures/capu3.3.46.png\" width=600 />\n",
    "<img src=\"figures/capu3.3.47.png\" width=600 />\n",
    "<img src=\"figures/capu3.3.48.png\" width=600 />\n",
    "<img src=\"figures/capu3.3.49.png\" width=600 />\n",
    "<img src=\"figures/capu3.3.50.png\" width=600 />\n",
    "<img src=\"figures/capu3.3.51.png\" width=600 />\n",
    "<img src=\"figures/capu3.3.52.png\" width=600 />\n",
    "<img src=\"figures/capu3.3.53.png\" width=600 />\n",
    "<img src=\"figures/capu3.3.54.png\" width=600 />\n",
    "<img src=\"figures/capu3.3.55.png\" width=600 />\n",
    "<img src=\"figures/capu3.3.56.png\" width=600 />\n",
    "<img src=\"figures/capu3.3.57.png\" width=600 />\n",
    "<img src=\"figures/capu3.3.58.png\" width=600 />\n",
    "<img src=\"figures/capu3.3.59.png\" width=600 />\n",
    "<img src=\"figures/capu3.3.60.png\" width=600 />\n",
    "<img src=\"figures/capu3.3.61.png\" width=600 />\n",
    "<img src=\"figures/capu3.3.62.png\" width=600 />\n",
    "<img src=\"figures/capu3.3.63.png\" width=600 />\n",
    "<img src=\"figures/capu3.3.64.png\" width=600 />\n",
    "<img src=\"figures/capu3.3.65.png\" width=600 />\n",
    "<img src=\"figures/capu3.3.66.png\" width=600 />\n",
    "<img src=\"figures/capu3.3.67.png\" width=600 />\n",
    "<img src=\"figures/capu3.3.68.png\" width=600 />\n",
    "<img src=\"figures/capu3.3.69.png\" width=600 />\n",
    "<img src=\"figures/capu3.3.70.png\" width=600 />\n",
    "<img src=\"figures/capu3.3.71.png\" width=600 />"
   ]
  },
  {
   "cell_type": "markdown",
   "metadata": {},
   "source": [
    "# 참고문헌"
   ]
  },
  {
   "cell_type": "markdown",
   "metadata": {},
   "source": [
    "* [1] Google Tag Manager Fundamentals - https://analyticsacademy.withgoogle.com/course05"
   ]
  }
 ],
 "metadata": {
  "kernelspec": {
   "display_name": "Python 2",
   "language": "python",
   "name": "python2"
  },
  "language_info": {
   "codemirror_mode": {
    "name": "ipython",
    "version": 2
   },
   "file_extension": ".py",
   "mimetype": "text/x-python",
   "name": "python",
   "nbconvert_exporter": "python",
   "pygments_lexer": "ipython2",
   "version": "2.7.6"
  }
 },
 "nbformat": 4,
 "nbformat_minor": 0
}
