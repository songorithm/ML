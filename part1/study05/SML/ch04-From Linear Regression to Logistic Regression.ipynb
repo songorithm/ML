{
 "cells": [
  {
   "cell_type": "markdown",
   "metadata": {},
   "source": [
    "Chapter 4. From Linear Regression to Logistic Regression\n",
    "=========================================================\n",
    "\n",
    "#### 발표자: 김덕태 (2015-08-31)\n",
    "\n",
    "#### generalized linear model\n",
    "- a flexible framework that requires fewer assumptions than ordinary linear regression\n",
    "- special cases of generalized linear model\n",
    "  - simple linear regression\n",
    "  - multiple linear regression\n",
    "  - polynomial regression\n",
    "  - logistic regression\n",
    "\n",
    "#### logistic regression\n",
    "- used for classification tasks\n",
    "- goal in classification tasks\n",
    "  - find a function that maps an observation to its associated class or label\n",
    "\n",
    "#### A learning algorithm\n",
    "- use pairs of feature vectors and their corresponding labels to induce the values of the mapping function's parameters\n",
    "- produce the best classifier\n",
    "- measured by a particular performance metric\n",
    "\n",
    "#### binary classification\n",
    "- the classifier must assign instances to one of the two classes\n",
    "\n",
    "#### multiclass classification\n",
    "- the classifier must assign one of several labels to each instance\n",
    "\n",
    "#### multilabel classification\n",
    "- the classifier must assign a subset of the labels to each instance\n",
    "\n"
   ]
  },
  {
   "cell_type": "markdown",
   "metadata": {
    "collapsed": false
   },
   "source": [
    "# Binary classification with logistic regression\n",
    "\n",
    "#### normal distribution(also known as the Gaussian distribution or bell curve)\n",
    "- ordinary linear regression assumes that the response variable is normally distributed\n",
    "- Normally distributed data is symmetrical\n",
    "  - half of the values are greater than the mean and the other half of the values are less than the mean.\n",
    "- The mean, median, and mode of normally distributed data are also equal\n",
    "- Many natural phenomena approximately follow normal distributions.\n",
    "  - Ex) the height of people\n",
    "\n",
    "\n",
    "#### Bernoulli distribution\n",
    "- In some problems the response variable is not normally distributed.\n",
    "  - Ex) a coin toss can result in two outcomes: heads or tails\n",
    "- The probability distribution of a random variable that can take the positive case with probability P or the negative case with probability 1-P.\n",
    "- If the response variable represents a probability, it must be constrained to the range {0,1}\n",
    "- Linear regression assumes that a constant change in the value of an explanatory variable results in a constant change in the value of the response variable, an assumption that does not hold if the value of the response variable represents a probability\n",
    "\n",
    "- Generalized linear models remove this assumption by relating a linear combination of the explanatory variables to the response variable using a link function\n",
    "- ordinary linear regression is a special case of the generalized linear model that relates a linear combination of the explanatory variables to a normally distributed response variable using the identity link function\n",
    "- We can use a different link function to relate a linear combination of the explanatory variables to the response variable that is not normally distributed.\n",
    "\n",
    "#### logistic regression\n",
    "- response variable describes the probability that the outcome is the positive case\n",
    "- If the response variable is equal to or exceeds a discrimination threshold, the positive class is predicted\n",
    "- otherwise, the negative class is predicted\n",
    "\n",
    "#### logistic function\n",
    "\n",
    "![](https://upload.wikimedia.org/wikipedia/commons/8/88/Logistic-curve.svg)\n",
    "\n",
    "- The response variable is modeled as a function of a linear combination of the explanatory variables using the logistic function\n",
    "- logistic function\n",
    "$$\\sigma(t) = \\frac{e^t}{e^t + 1} = {1 \\over 1 + e^{-t}}$$\n",
    "- another form of logistic function\n",
    "  - t: a linear combination of explanatory variables ($\\beta_0 + \\beta_1 x$)\n",
    "$$F(x) = {1 \\over 1 + e^{-(\\beta_0 + \\beta_1 x)}}$$\n",
    "  \n",
    "#### logit function\n",
    "- inverse of logistic function\n",
    "- formula\n",
    "$$ g(x) =  ln {x \\over 1-x}$$\n",
    "$$ g(F(x)) =  ln {F(x) \\over 1-F(x)} = \\beta_0 + \\beta_1 x$$\n",
    "\n"
   ]
  },
  {
   "cell_type": "markdown",
   "metadata": {},
   "source": [
    "# Spam filtering\n",
    "- modern version of the canonical binary classification problem\n",
    "- classify spam and ham SMS messages\n",
    "- some predictions using scikit-learn's LogisticRegression class\n",
    "\n",
    "#### data set\n",
    "- SMS Spam Classification Data Set from the UCI Machine Learning Repository\n",
    "  - http://archive.ics.uci.edu/ml/datasets/SMS+Spam+Collection"
   ]
  },
  {
   "cell_type": "markdown",
   "metadata": {},
   "source": [
    "#### explore the data set and calculate some basic summary statistics using pandas"
   ]
  },
  {
   "cell_type": "code",
   "execution_count": 3,
   "metadata": {
    "collapsed": false
   },
   "outputs": [
    {
     "name": "stdout",
     "output_type": "stream",
     "text": [
      "      0                                                  1\n",
      "0   ham  Go until jurong point, crazy.. Available only ...\n",
      "1   ham                      Ok lar... Joking wif u oni...\n",
      "2  spam  Free entry in 2 a wkly comp to win FA Cup fina...\n",
      "3   ham  U dun say so early hor... U c already then say...\n",
      "4   ham  Nah I don't think he goes to usf, he lives aro...\n"
     ]
    }
   ],
   "source": [
    "import pandas as pd\n",
    "df = pd.read_csv('data/SMSSpamCollection', delimiter='\\t', header=None)\n",
    "print(df.head())\n"
   ]
  },
  {
   "cell_type": "markdown",
   "metadata": {
    "collapsed": true
   },
   "source": [
    "- A binary label and a text message comprise each row\n",
    "- 5,574 ham SMS messages\n",
    "  - 4,827 real ham \n",
    "  - 747 spam"
   ]
  },
  {
   "cell_type": "markdown",
   "metadata": {
    "collapsed": true
   },
   "source": [
    "#### Preparation of training and test data \n",
    "- load the .csv file using pandas\n",
    "- split the data set into training and test sets\n",
    "- train_test_split()\n",
    "  - assigns 75 percent of the samples to the training set and allocates the remaining 25 percent of the samples to the test set\n",
    "\n"
   ]
  },
  {
   "cell_type": "code",
   "execution_count": 1,
   "metadata": {
    "collapsed": true
   },
   "outputs": [],
   "source": [
    "import numpy as np\n",
    "import pandas as pd\n",
    "from sklearn.feature_extraction.text import TfidfVectorizer\n",
    "from sklearn.linear_model.logistic import LogisticRegression\n",
    "from sklearn.cross_validation import train_test_split, cross_val_score\n",
    "\n",
    "df = pd.read_csv('data/SMSSpamCollection', delimiter='\\t', header=None)\n",
    "X_train_raw, X_test_raw, y_train, y_test = train_test_split(df[1], df[0])"
   ]
  },
  {
   "cell_type": "markdown",
   "metadata": {},
   "source": [
    "#### extract TF-IDF features\n",
    "- TF-IDF: the product of its term frequency and inverse document frequency\n",
    "- TfidfVectorizer combines CountVectorizer and TfidfTransformer\n",
    "- fit it with the training messages, and transform both the training and test messages\n"
   ]
  },
  {
   "cell_type": "code",
   "execution_count": 2,
   "metadata": {
    "collapsed": true
   },
   "outputs": [],
   "source": [
    "vectorizer = TfidfVectorizer()\n",
    "X_train = vectorizer.fit_transform(X_train_raw)\n",
    "X_test = vectorizer.transform(X_test_raw)"
   ]
  },
  {
   "cell_type": "markdown",
   "metadata": {},
   "source": [
    "#### use LogisticRegression class\n",
    "- create an instance of LogisticRegression and train our model"
   ]
  },
  {
   "cell_type": "code",
   "execution_count": 3,
   "metadata": {
    "collapsed": false
   },
   "outputs": [
    {
     "name": "stdout",
     "output_type": "stream",
     "text": [
      "Prediction: ham. Message: Hi juan. Im coming home on fri hey. Of course i expect a welcome party and lots of presents. Ill phone u when i get back. Loads of love nicky x x x x x x x x x\n",
      "Prediction: ham. Message: Jason says it's cool if we pick some up from his place in like an hour\n",
      "Prediction: ham. Message: Can not use foreign stamps in this country.\n",
      "Prediction: ham. Message: Night has ended for another day, morning has come in a special way. May you smile like the sunny rays and leaves your worries at the blue blue bay. Gud mrng\n",
      "Prediction: ham. Message: Ma head dey swell oh. Thanks for making my day\n"
     ]
    }
   ],
   "source": [
    "classifier = LogisticRegression()\n",
    "classifier.fit(X_train, y_train)\n",
    "predictions = classifier.predict(X_test)\n",
    "for i, prediction in enumerate(predictions[:5]):\n",
    "    print('Prediction: %s. Message: %s' % (prediction, X_test_raw[i]))\n"
   ]
  },
  {
   "cell_type": "markdown",
   "metadata": {},
   "source": [
    "# Binary classification performance metrics\n",
    "\n",
    "#### metrics\n",
    "- accuracy\n",
    "- precision, recall\n",
    "- F1 measure\n",
    "- ROC AUC score\n",
    "\n",
    "#### basis for metrics\n",
    "- concepts of true positives, true negatives, false positives, and false negatives\n",
    "  - Positive and negative refer to the predicted classes\n",
    "  - True and false denote whether the predicted class is the same as the true class.\n",
    "- Ex)\n",
    "  - a true negative prediction: the classifier correctly predicts that a message is ham.\n",
    "  - a false positive prediction: A prediction that a ham message is spam\n",
    "  - a false negative prediction: a spam message incorrectly classified as ham\n",
    "\n",
    "#### A confusion matrix(or contingency table)\n",
    "- visualize true and false positives and negative\n",
    "\n",
    "|         | Negative | Positive\n",
    "|---------|:--------:|:-------:\n",
    "|Negative | TN       | FP     \n",
    "|Positive | FN       | TP     \n",
    "\n",
    "\n"
   ]
  },
  {
   "cell_type": "code",
   "execution_count": 4,
   "metadata": {
    "collapsed": false
   },
   "outputs": [
    {
     "name": "stdout",
     "output_type": "stream",
     "text": [
      "[[4 1]\n",
      " [2 3]]\n"
     ]
    },
    {
     "data": {
      "image/png": "[encoded data removed]",
      "text/plain": [
       "<matplotlib.figure.Figure at 0x108298710>"
      ]
     },
     "metadata": {},
     "output_type": "display_data"
    }
   ],
   "source": [
    "%matplotlib inline\n",
    "from sklearn.metrics import confusion_matrix\n",
    "import matplotlib.pyplot as plt\n",
    "y_test = [0, 0, 0, 0, 0, 1, 1, 1, 1, 1]\n",
    "y_pred = [0, 1, 0, 0, 0, 0, 0, 1, 1, 1]\n",
    "confusion_matrix = confusion_matrix(y_test, y_pred)\n",
    "print(confusion_matrix)\n",
    "plt.matshow(confusion_matrix)\n",
    "plt.title('Confusion matrix')\n",
    "plt.colorbar()\n",
    "plt.ylabel('True label')\n",
    "plt.xlabel('Predicted label')\n",
    "plt.show()"
   ]
  },
  {
   "cell_type": "markdown",
   "metadata": {},
   "source": [
    "## Accuracy\n",
    "- measures a fraction of the classifier's predictions that are correct\n",
    "- accuracy_score() function\n",
    "  - calculate the accuracy of a set of predictions given the correct labels\n"
   ]
  },
  {
   "cell_type": "code",
   "execution_count": 5,
   "metadata": {
    "collapsed": false
   },
   "outputs": [
    {
     "name": "stdout",
     "output_type": "stream",
     "text": [
      "Accuracy: 0.5\n"
     ]
    }
   ],
   "source": [
    "from sklearn.metrics import accuracy_score\n",
    "y_pred, y_true = [0, 1, 1, 0], [1, 1, 1, 1]\n",
    "print 'Accuracy:', accuracy_score(y_true, y_pred)"
   ]
  },
  {
   "cell_type": "markdown",
   "metadata": {},
   "source": [
    "- cross_val_score() function\n",
    "  - predicts and scores labels for a test set using accuracy\n",
    "  - accuracy may differ as the training and test sets are assigned randomly.\n"
   ]
  },
  {
   "cell_type": "code",
   "execution_count": 6,
   "metadata": {
    "collapsed": false
   },
   "outputs": [
    {
     "name": "stdout",
     "output_type": "stream",
     "text": [
      "(0.95596992395138047, array([ 0.94504182,  0.96774194,  0.9497006 ,  0.96047904,  0.95688623]))\n"
     ]
    }
   ],
   "source": [
    "import numpy as np\n",
    "import pandas as pd\n",
    "from sklearn.feature_extraction.text import TfidfVectorizer\n",
    "from sklearn.linear_model.logistic import LogisticRegression\n",
    "from sklearn.cross_validation import train_test_split, cross_val_score\n",
    "df = pd.read_csv('data/SMSSpamCollection', delimiter='\\t', header=None)\n",
    "X_train_raw, X_test_raw, y_train, y_test = train_test_split(df[1], df[0])\n",
    "vectorizer = TfidfVectorizer()\n",
    "X_train = vectorizer.fit_transform(X_train_raw)\n",
    "X_test = vectorizer.transform(X_test_raw)\n",
    "classifier = LogisticRegression()\n",
    "classifier.fit(X_train, y_train)\n",
    "scores = cross_val_score(classifier, X_train, y_train, cv=5)\n",
    "print(np.mean(scores), scores)"
   ]
  },
  {
   "cell_type": "markdown",
   "metadata": {},
   "source": [
    "- measures the overall correctness of the classifier\n",
    "- does not distinguish between false positive errors and false negative errors.\n",
    "- 장점\n",
    "  - 전반적인 예측 정확도 평가 방법.\n",
    "  - postive 예측율이나 negative 예측율에 대한 편향성이 없다.\n",
    "- 단점\n",
    "  - 실제 분류에서 positive와 negative의 비율의 차이가 크면 accuracy가 높아도 의미가 없다. 무조건 비율이 큰 쪽으로만 예측하는 경우 accuracy가 높아지기 때문이다.\n",
    "\n"
   ]
  },
  {
   "cell_type": "markdown",
   "metadata": {},
   "source": [
    "## Precision and recall\n",
    "- positive와 negative의 가치가 다를 때 accuracy 대신 사용\n",
    "- Some applications may be more sensitive to false negatives than false positives, or vice versa\n",
    "  - Ex) To promote customer satisfaction, the credit card company may prefer to risk verifying legitimate transactions than risk ignoring a fraudulent transaction.\n",
    "  - classifiers are often evaluated using two additional measures called precision and recall.\n",
    "\n",
    "#### precision\n",
    "- fraction of positive predictions that are correct\n",
    "- classifier가 positive라고 분류한 것중에서 실제로 맞는 비율 \n",
    "$$ P = {TP \\over TP + FP}$$\n",
    "\n",
    "|         | Negative | Positive\n",
    "|---------|:--------:|:-------:\n",
    "|Negative | TN       | FP     \n",
    "|Positive | FN       | TP     \n",
    "- 장점\n",
    "  - positive로 예측한 것 중에서 맞춘 비율(혹은, 틀린 비율)이 중요할 때 사용\n",
    "    - 예) 부작용이 큰 수술을 하기 위한 진단\n",
    "- 단점\n",
    "  - positive에 대한 편향성\n",
    "    - postive 예측율만을 다루고 negative 예측율은 무시한다.\n",
    "    - positive만 중요힌 경우에 사용\n",
    "    - negative를 positive로 간주하여 추가 지표로 사용할 수도 있음\n",
    "  - 보수(conservative) 편향성\n",
    "    - classifier가 positive임이 확실한 경우에만 positive로 분류하는 보수(conservative) 성향인 경우 precision은 높지만 recall이 낮아진다.\n",
    "    - 가령, positive임이 아주 확실한 1개만 positive로 분류하고 나머지의 경우 모두 negative로 분류하면 precision은 100%이나 recall은 0에 근접하고 정확도는 떨어진다.\n",
    "\n",
    "#### recall\n",
    "- fraction of the truly positive instances that the classifier recognizes\n",
    "- 실제로 positive인 것 중에서 맞게 분류한 비율\n",
    "- Sometimes called sensitivity in medical domains\n",
    " $$ R = {TP \\over TP + FN}$$\n",
    "\n",
    "|         | Negative | Positive\n",
    "|---------|:--------:|:-------:\n",
    "|Negative | TN       | FP     \n",
    "|Positive | FN       | TP     \n",
    "- 장점\n",
    "  - 실제 positive인 것 중에서 맞춘 비율이 중요할 때 사용\n",
    "    - 예) 수술을 하지 않으면 위험한 질병에 대한 진단\n",
    "- 단점\n",
    "  - positive에 대한 편향성\n",
    "    - positive 예측율만을 다루고 negative 예측율은 무시한다.\n",
    "    - positive만 중요한 경우에 사용\n",
    "    - negative를 positive로 간주하여 추가 지표로 사용할 수도 있음\n",
    "  - 진보(liberal) 편향성\n",
    "    - classifier가 positive로 많이 분류하는 진보(liberal) 성향인 경우 recall은 높지만 precision은 낮아진다.\n",
    "    - 가령, 모든 경우에 positive라고 예측하면 recall은 100%이나 precision은 크게 떨어지고 정확도도 떨어진다\n"
   ]
  },
  {
   "cell_type": "markdown",
   "metadata": {},
   "source": [
    "#### cross_val_score() function calculate precision and recall"
   ]
  },
  {
   "cell_type": "code",
   "execution_count": 7,
   "metadata": {
    "collapsed": false
   },
   "outputs": [
    {
     "name": "stdout",
     "output_type": "stream",
     "text": [
      "['ham' 'spam' 'ham' ..., 'ham' 'spam' 'ham']\n",
      "[[0]\n",
      " [1]\n",
      " [0]\n",
      " ..., \n",
      " [0]\n",
      " [1]\n",
      " [0]]\n",
      "('Precision', 0.99002164502164514, array([ 1.        ,  1.        ,  0.975     ,  0.98701299,  0.98809524]))\n",
      "('Recalls', 0.6660869565217391, array([ 0.67826087,  0.59130435,  0.67826087,  0.66086957,  0.72173913]))\n"
     ]
    }
   ],
   "source": [
    "import numpy as np\n",
    "import pandas as pd\n",
    "from sklearn.feature_extraction.text import TfidfVectorizer\n",
    "from sklearn.preprocessing import LabelBinarizer\n",
    "from sklearn.linear_model.logistic import LogisticRegression\n",
    "from sklearn.cross_validation import train_test_split, cross_val_score\n",
    "df = pd.read_csv('data/SMSSpamCollection', delimiter='\\t', header=None)\n",
    "X_train_raw, X_test_raw, y_train, y_test = train_test_split(df[1], df[0])\n",
    "vectorizer = TfidfVectorizer()\n",
    "X_train = vectorizer.fit_transform(X_train_raw)\n",
    "X_test = vectorizer.transform(X_test_raw)\n",
    "lb = LabelBinarizer()\n",
    "print(y_train)\n",
    "print(lb.fit_transform(y_train))\n",
    "y_train2 = np.array([number[0] for number in lb.fit_transform(y_train)])\n",
    "classifier = LogisticRegression()\n",
    "classifier.fit(X_train, y_train2)\n",
    "precisions = cross_val_score(classifier, X_train, y_train2, cv=5, scoring='precision')\n",
    "print('Precision', np.mean(precisions), precisions)\n",
    "recalls = cross_val_score(classifier, X_train, y_train2, cv=5, scoring='recall')\n",
    "print('Recalls', np.mean(recalls), recalls)\n"
   ]
  },
  {
   "cell_type": "markdown",
   "metadata": {},
   "source": [
    "- Our classifier's precision is 0.992\n",
    "- almost all of the messages that it predicted as spam were actually spam\n",
    "- Its recall is lower, indicating that it incorrectly classified approximately 22 percent of the spam messages as ham\n",
    "- Evaluation (DT)\n",
    "  - 이 spam filter는 precision이 매우 높으나 recall이 낮은 편이다.\n",
    "  - 즉, spam이 아닌 것을 spam이라고 한 경우는 드물지만(약 1%) spam인데 spam이 아니라고 한 비율(약 30%)이 높은 편이다.\n"
   ]
  },
  {
   "cell_type": "markdown",
   "metadata": {},
   "source": [
    "# Calculating the F1 measure\n",
    "\n",
    "- also called f-measure, f-score\n",
    "- harmonic mean, or weighted average, of the precision and recall scores.\n",
    "\n",
    "$$F1 = \\frac{1}{\\frac{\\frac{1}{P} + \\frac{1}{R}}{2}} = 2 \\frac{PR}{P+R}$$\n",
    "\n",
    "|         | Negative | Positive\n",
    "|---------|:--------:|:-------:\n",
    "|Negative | TN       | FP     \n",
    "|Positive | FN       | TP     \n",
    "\n",
    "- $\\displaystyle F_\\beta = (1 + \\beta^2) \\frac{PR}{\\beta^2 P + R}$\n",
    "  - F0.5: favor precision over recall \n",
    "  - F2: favor recall over precision\n",
    "- penalizes classifiers with imbalanced precision and recall scores\n",
    "- P와 R이 비슷한 값일 경우 그 값의 평균(즉, P 혹은 R)에 근접한다.\n",
    "- F1 값은 2 min(P, R)보다 항상 작다.\n",
    "- F1 값은 P나 R 한 쪽이 다른 한쪽보다 휠씬 더 작은 값일 경우 2 min(P, R)에 근접한다.\n",
    "- 따라서, F1 값이 큰 값이 되기 위해서는 P와 R이 골고루 커야 한다.\n",
    "- 총 자원이 제한된 경우 (P + R = c), 최대 조화평균값은 x = y = c/2인 경우이다. \n",
    "- accuracy가 1인 것, precision과 recall이 동시에 1인 것, F1이 1인 것은 동치이다.\n",
    "- F1이 크면 accuracy도 높다.\n",
    "  - TP에 비해 FP와 FN이 모두 작으므로 accuracy가 높다.\n",
    "- 장점\n",
    "  - precision, recall 중립성\n",
    "      - precision과 recall이 모두 중요할 때 사용\n",
    "      - F1은 precision과 recall이 모두 커야 큰 값이 될 수 있다.\n",
    "  - accuracy와 달리 실제 positive, negative의 비율의 차가 큰 경우에도 measure가 왜곡되지 않는다.\n",
    "      - negative가 매우 크고(99%), negative는 모두 맞추고, 실제 positive(1%)중에서 10%만을 맞추고 모두 negative로 예측하면, TN = 99%, FN = 0.9%, TP = 0.1%, FP = 0%. 따라서, accuracy는 0.991, precision은 1, recall은 0.1, F1은 0.182\n",
    "- 단점\n",
    "  - positive에 대한 편향성\n",
    "      - positive 예측율만을 다루고 negative 예측율은 무시한다.\n",
    "      - positive만 중요한 경우에 사용\n",
    "      - negative를 positive로 간주하여 추가 지표로 사용할 수도 있음\n",
    "      - negative가 중요하거나 둘다 중요한 경우, F1은 positive로 편향된다.\n",
    "          - 실제 negative의 비율이 작은 경우(1%), positive는 모두 맞추고, negative 중에서 10%만 맞춘 경우(즉, TP = 99%, FN = 0%, TN = 0.1%, FP = 0.9%), accuracy는 0.991, precision은 0.991, recall은 1, F1은 0.995\n",
    "          - negative가 중요한 경우 적절한 평가값인 negative recall은 0.1이다.\n",
    "- DT Question\n",
    "  - positive F1과 negative F1의 조화 평균이 필요한 경우는 없는가?\"\n",
    "\n",
    "\n",
    "#### 산술평균과 조화평균\n",
    "- 산술평균\n",
    "  - $\\displaystyle \\frac{x + y}{2}$\n",
    "  - 평균이므로 x, y 둘다 커지거나 어느 한쪽만 커져도 평균은 지속적으로 커진다.\n",
    "  - 총 자원이 제한된 경우 (x + y = c), 자원을 어떠한 비율의 x와 y로 분배하든 평균은 일정하다.\n",
    "- 조화평균\n",
    "  - $\\displaystyle \\frac{1}{\\frac{\\frac{1}{x} + \\frac{1}{y}}{2}} = 2 \\frac{xy}{x+y} = 2 \\frac{x}{1+x/y} = 2 \\frac{y}{1+y/x}$\n",
    "  - 대표적인 예: 평균 속력 (시간당 거리 단위를 거리당 시간 단위로 바꿔서 평균한 후 역수를 취하여 시간당 거리, 즉 속력을 구한다.)\n",
    "  - 평균이므로 x, y 둘다 커지거나 어느 한쪽만 커져도 평균은 지속적으로 커진다.\n",
    "  - x와 y가 비슷한 값일 경우 그 값의 평균(즉, x 혹은 y)에 근접한다.\n",
    "  - x나 y 한 쪽이 다른 한쪽보다 휠씬 더 작은 값일 경우 그 작은 값의 2배에 근접한다.\n",
    "  - x가 커지면 그 값은 2y에 수렴하나 2y보다 항상 작다.\n",
    "  - y가 커지면 그 값은 2x에 수렴하나 2x보다 항상 작다.\n",
    "  - 총 자원이 제한된 경우 (x + y = c), 최대 조화평균값은 x = y = c/2인 경우이다. \n",
    "$$\\frac{1}{\\frac{\\frac{1}{x} + \\frac{1}{y}}{2}} = 2 \\frac{xy}{x+y} = 2 \\frac{x (c-x)}{x + c - x} = \\frac{2}{c}(cx - x^2)$$\n",
    "$$c - 2x = 0$$\n",
    "$$x = \\frac{c}{2}, y = \\frac{c}{2}$$\n"
   ]
  },
  {
   "cell_type": "code",
   "execution_count": 8,
   "metadata": {
    "collapsed": false
   },
   "outputs": [
    {
     "name": "stdout",
     "output_type": "stream",
     "text": [
      "('F1', 0.79545941505710827, array([ 0.80829016,  0.7431694 ,  0.8       ,  0.79166667,  0.83417085]))\n"
     ]
    }
   ],
   "source": [
    "f1s = cross_val_score(classifier, X_train, y_train2, cv=5, scoring='f1')\n",
    "print('F1', np.mean(f1s), f1s)"
   ]
  },
  {
   "cell_type": "markdown",
   "metadata": {
    "collapsed": true
   },
   "source": [
    "- F1: 0.78\n",
    "- arithmetic mean: 0.815\n"
   ]
  },
  {
   "cell_type": "markdown",
   "metadata": {
    "collapsed": true
   },
   "source": [
    "# ROC AUC\n",
    "- ROC (Receiver Operating Characteristic) curve\n",
    "  - a graphical plot that illustrates the performance of a binary classifier system as its discrimination threshold is varied\n",
    "  - plot the classifier's recall(TPR, true positive rate) against its fall-out (FPR, false postive rate)\n",
    "  - fall-out \n",
    "  $$ F = \\frac{FP}{TN + FP} = 1 - \\frac{TN}{TN + FP} $$\n",
    "      - number of false positives divided by the total number of negatives\n",
    "      - 실제 negative 중에서 틀린 비율\n",
    "- AUC (Area under the ROC curve)\n",
    "  - reduces the ROC curve to a single value, which represents the expected performance of the classifier.\n",
    "  - The dashed line is for a classifier that predicts classes randomly\n",
    "![](roc.png)\n",
    "- DT ROC curve\n",
    "  - ROC curve보다 의미가 더 간결하고 명확하다.\n",
    "  - Recall: positive 중에서 맞춘 비율\n",
    "  - Negative Recall: negative 중에서 맞춘 비율\n",
    "  - 둘다 클수록 좋다.\n"
   ]
  },
  {
   "cell_type": "code",
   "execution_count": 2,
   "metadata": {
    "collapsed": false
   },
   "outputs": [
    {
     "data": {
      "image/png": "[encoded data removed]",
      "text/plain": [
       "<matplotlib.figure.Figure at 0x73ebe10>"
      ]
     },
     "metadata": {},
     "output_type": "display_data"
    }
   ],
   "source": [
    "%matplotlib inline\n",
    "import matplotlib.pyplot as plt\n",
    "plt.title('DT Receiver Operating Characteristic')\n",
    "negative_recall = [1, 0.98, 0.95, 0.9, 0.8, 0.4, 0]\n",
    "recall = [0, 0.2, 0.4, 0.55, 0.62, 0.8, 1]\n",
    "plt.plot(negative_recall, recall)\n",
    "plt.plot([0, 1], [1, 0], 'r--')\n",
    "plt.xlim([0.0, 1.0])\n",
    "plt.ylim([0.0, 1.0])\n",
    "plt.ylabel('Recall')\n",
    "plt.xlabel('Negative Recall')\n",
    "plt.show()"
   ]
  },
  {
   "cell_type": "markdown",
   "metadata": {},
   "source": [
    "\n",
    "- 구분 능력이 없는 순수한 random 예측인 경우\n",
    "  - 대각선은 구분 능력 없이 일정한 확률 p로 positive로 예측하는 경우 reall과 fall-out이 모두 p임을 의미함\n",
    "- 실제 negative 중에서 틀린 비율과 실제 positive 중에서 맞춘 비율을 분류 기준(logistic regression에 의한 확률의 threshold 값)에 따라 각각 x, y축 좌표로 표시\n",
    "  - test data에 대하여 logistic regression에 의해 예측한 확률 분포가 동일하더라도 분류 기준에 따라 ROC curve상의 TPR, FPR(fall-out)이 달라짐\n",
    "      - 보수적(conservative) 기준 (threshold 값이 크다)\n",
    "          - Postive임이 확실한 경우에만 Positive로 분류하고 나머지는 Negaive로 분류함\n",
    "      - 진보적(liberal) 기준 (threshold 값이 작다)\n",
    "          - Postive임이 불확실하지만 가능성이 있어보이면 무조건 Positive로 분류하고 나머지는 Negaive로 분류함\n",
    "      - 중립적(neutral) 기준 (threshold 값이 적정하다)\n",
    "          - 적정 확률 수준에서 Positive와 Negative를 분류한다.\n",
    "- 가능하면 recall은 높되, fall-out은 낮은 값이 좋다. (좌표의 상단 왼쪽편)\n",
    "- 가장 뛰어난 예측 능력을 가진 classifier의 ROC curve\n",
    "  - positive data에 대하여 1의 확률로, negative data에 대하여 0의 확률로 예측하는 것이다.\n",
    "  - 이 경우, ROC Curve는 좌표점 (0,1)이다.\n",
    "- AUC가 1인 완전 예측 classifier의 ROC curve\n",
    "  - 특정 확률 p(0.5 등)에 대하여 그 이상의 확률이면 실제 데이터가 positive이고, 그 미만이면 실제 데이터가 negative인 경우이다.\n",
    "  - threshold가 특정 확률 p보다 점점 크게 하면, fall-out은 0이고, recall은 점점 작아진다. (좌표의 recall 축)\n",
    "  - threshold가 특정 확률 p보다 점점 작게 하면, recall은 1이고, fall-out은 점점 커진다. (좌표의 상단 수평선)\n",
    "  - AUC가 1이라는 것은 무조건 완전한 예측(positive와 negative를 모두 완전히 예측)을 한다는 것이 아니라 적정 threshold 값을 찾으면 완전한 예측을 할 수 있음을 의미함.\n",
    "- 장점\n",
    "  - positive에 대한 편향성이 없다.\n",
    "      - positive recall과 negative recall을 동등하게 표시한다.\n",
    "      - positve와 negative 비율의 차이가 커도 ROC curve는 영향을 받지 않는다. (accuracy, precision, recall, f-measure는 영향을 크게 받을 수 있다)\n",
    "  - 포괄적 분류 기준\n",
    "      - 주관적 분류 기준과 관계없이 내부적인 구분 능력(예측된 확률)을 나타낸다.\n",
    "      - unlike precision and recall, the ROC curve illustrates the classifier's performance for all values of the discrimination threshold\n",
    "      - 목적에 따라 원하는 수준의 recall과 fall-out 값에 해당하는 threshold 값을 사용할 수도 있다.\n",
    "- 단점\n",
    "  - precision, recall 요소를 포함하지 않는다.\n",
    "  - 특정 threshold 확률에 대하여 완전한 예측이 가능하기만 하면(즉, AUC가 1) 얼마나 더 적정한 확률로 예측했는지를 변별하지는 못한다. 가령 threshold가 0.5인 경우와 0.99인 경우를 구분하지 않는다.\n"
   ]
  },
  {
   "cell_type": "code",
   "execution_count": 1,
   "metadata": {
    "collapsed": false
   },
   "outputs": [
    {
     "data": {
      "image/png": "[encoded data removed]",
      "text/plain": [
       "<matplotlib.figure.Figure at 0x1059da190>"
      ]
     },
     "metadata": {},
     "output_type": "display_data"
    },
    {
     "name": "stdout",
     "output_type": "stream",
     "text": [
      "[0 0 0 ..., 0 1 0]\n",
      "[ 0.03919853  0.0401668   0.03758962 ...,  0.05738717  0.89730153\n",
      "  0.04664608]\n",
      "[ 0.          0.          0.         ...,  0.99834711  0.99917355  1.        ]\n",
      "[ 0.00546448  0.01092896  0.01639344 ...,  1.          1.          1.        ]\n",
      "[ 0.97599692  0.97542541  0.96781251 ...,  0.00508785  0.00473233\n",
      "  0.00411287]\n"
     ]
    }
   ],
   "source": [
    "%matplotlib inline\n",
    "import numpy as np\n",
    "import pandas as pd\n",
    "import matplotlib.pyplot as plt\n",
    "from sklearn.feature_extraction.text import TfidfVectorizer\n",
    "from sklearn.preprocessing import LabelBinarizer\n",
    "from sklearn.linear_model.logistic import LogisticRegression\n",
    "from sklearn.cross_validation import train_test_split, cross_val_score\n",
    "from sklearn.metrics import roc_curve, auc\n",
    "df = pd.read_csv('data/SMSSpamCollection', delimiter='\\t', header=None)\n",
    "X_train_raw, X_test_raw, y_train, y_test = train_test_split(df[1], df[0])\n",
    "vectorizer = TfidfVectorizer()\n",
    "X_train = vectorizer.fit_transform(X_train_raw)\n",
    "X_test = vectorizer.transform(X_test_raw)\n",
    "lb = LabelBinarizer()\n",
    "y_train2 = np.array([number[0] for number in lb.fit_transform(y_train)])\n",
    "y_test2 = np.array([number[0] for number in lb.fit_transform(y_test)])\n",
    "classifier = LogisticRegression()\n",
    "classifier.fit(X_train, y_train2)\n",
    "predictions = classifier.predict_proba(X_test)\n",
    "false_positive_rate, recall, thresholds = roc_curve(y_test2, predictions[:, 1])\n",
    "roc_auc = auc(false_positive_rate, recall)\n",
    "plt.title('Receiver Operating Characteristic')\n",
    "plt.plot(false_positive_rate, recall, 'b', label='AUC = %0.2f' % roc_auc)\n",
    "plt.legend(loc='lower right')\n",
    "plt.plot([0, 1], [0, 1], 'r--')\n",
    "plt.xlim([0.0, 1.0])\n",
    "plt.ylim([0.0, 1.0])\n",
    "plt.ylabel('Recall')\n",
    "plt.xlabel('Fall-out')\n",
    "plt.show()\n",
    "\n",
    "print(y_test2)\n",
    "print(predictions[:,1])\n",
    "print(false_positive_rate)\n",
    "print(recall)\n",
    "print(thresholds)\n",
    "\n",
    "\n"
   ]
  },
  {
   "cell_type": "markdown",
   "metadata": {},
   "source": [
    "- DT Conclusion\n",
    "  - 의미상 더 포괄적인 ML metric들이 있으나 다른 ML metrics를 완전히 대신할 수는 없다.\n",
    "  - 용도에 맞는 metric(accuracy, precision, recall, f-measure, ROC, AUC 등)을 1개 혹은 여러개 선택하여 사용한다.\n",
    "  - 혹은, 실제 가치를 이들 metric의 function으로 정의하여 사용한다.\n"
   ]
  },
  {
   "cell_type": "markdown",
   "metadata": {
    "collapsed": true
   },
   "source": [
    "# Tuning models with grid search\n",
    "- Hyperparameters are parameters of the model that are not learned\n",
    "- Hyperparameters of the logistic regression SMS classifier\n",
    "  - the value of the regularization term\n",
    "  - thresholds used to remove words that appear too frequently or infrequently\n",
    "  - In scikit-learn, hyperparameters are set through the model's constructor\n",
    "- Grid search\n",
    "  - a common method to select the hyperparameter values that produce the best model.\n",
    "  - an exhaustive search that trains and evaluates a model for each possible combination of the hyperparameter values supplied by the developer\n",
    "  - Computationally costly for even small sets of hyperparameter values\n",
    "  - embarrassingly parallel problem\n",
    "- GridSearchCV() function in scikit-learn\n"
   ]
  },
  {
   "cell_type": "code",
   "execution_count": 4,
   "metadata": {
    "collapsed": false
   },
   "outputs": [
    {
     "name": "stdout",
     "output_type": "stream",
     "text": [
      "Fitting 3 folds for each of 96 candidates, totalling 288 fits\n"
     ]
    },
    {
     "name": "stderr",
     "output_type": "stream",
     "text": [
      "[Parallel(n_jobs=-1)]: Done   1 jobs       | elapsed:    0.2s\n",
      "[Parallel(n_jobs=-1)]: Done  50 jobs       | elapsed:    2.6s\n",
      "[Parallel(n_jobs=-1)]: Done 200 jobs       | elapsed:   10.5s\n",
      "[Parallel(n_jobs=-1)]: Done 274 out of 288 | elapsed:   14.3s remaining:    0.7s\n",
      "[Parallel(n_jobs=-1)]: Done 288 out of 288 | elapsed:   14.8s finished\n"
     ]
    },
    {
     "name": "stdout",
     "output_type": "stream",
     "text": [
      "Best score: 0.966\n",
      "Best parameters set:\n",
      "\tclf__penalty: 'l2'\n",
      "\tvect__max_df: 0.25\n",
      "\tvect__max_features: 2500\n",
      "\tvect__ngram_range: (1, 2)\n",
      "\tvect__stop_words: None\n",
      "Accuracy: 0.977027997128\n",
      "Precision: 1.0\n",
      "Recall: 0.835051546392\n"
     ]
    }
   ],
   "source": [
    "import pandas as pd\n",
    "from sklearn.feature_extraction.text import TfidfVectorizer\n",
    "from sklearn.preprocessing import LabelBinarizer\n",
    "from sklearn.linear_model.logistic import LogisticRegression\n",
    "from sklearn.grid_search import GridSearchCV\n",
    "from sklearn.pipeline import Pipeline\n",
    "from sklearn.cross_validation import train_test_split\n",
    "from sklearn.metrics import precision_score, recall_score, accuracy_score\n",
    "pipeline = Pipeline([\n",
    "    ('vect', TfidfVectorizer(stop_words='english')),\n",
    "    ('clf', LogisticRegression())\n",
    "])\n",
    "parameters = {\n",
    "    'vect__max_df': (0.25, 0.5, 0.75),\n",
    "    'vect__stop_words': ('english', None),\n",
    "    'vect__max_features': (2500, 5000, 10000, None),\n",
    "    'vect__ngram_range': ((1, 1), (1, 2)),\n",
    "#   'vect__use_idf': (True, False),\n",
    "#   'vect__norm': ('l1', 'l2'),\n",
    "    'clf__penalty': ('l1', 'l2'),\n",
    "#    'clf__C': (0.01, 0.1, 1, 10),\n",
    "}\n",
    "\n",
    "\n",
    "grid_search = GridSearchCV(pipeline, parameters, n_jobs=-1, verbose=1, scoring='accuracy', cv=3)\n",
    "df = pd.read_csv('data/SMSSpamCollection', delimiter='\\t', header=None)\n",
    "X, y, = df[1], df[0]\n",
    "X_train, X_test, y_train, y_test = train_test_split(X, y)\n",
    "lb = LabelBinarizer()\n",
    "y_train2 = np.array([number[0] for number in lb.fit_transform(y_train)])\n",
    "y_test2 = np.array([number[0] for number in lb.fit_transform(y_test)])\n",
    "grid_search.fit(X_train, y_train2)\n",
    "print 'Best score: %0.3f' % grid_search.best_score_\n",
    "print 'Best parameters set:'\n",
    "best_parameters = grid_search.best_estimator_.get_params()\n",
    "for param_name in sorted(parameters.keys()):\n",
    "    print '\\t%s: %r' % (param_name, best_parameters[param_name])\n",
    "predictions = grid_search.predict(X_test)\n",
    "print 'Accuracy:', accuracy_score(y_test2, predictions)\n",
    "print 'Precision:', precision_score(y_test2, predictions)\n",
    "print 'Recall:', recall_score(y_test2, predictions)"
   ]
  },
  {
   "cell_type": "markdown",
   "metadata": {},
   "source": [
    "# Multi-class classification\n",
    "- scikit-learn uses a strategy called\n",
    "  - one-vs.-all\n",
    "      - uses one binary classifier for each of the possible classes\n",
    "      - The class that is predicted with the greatest confidence is assigned to the instance.\n",
    "      - LogisticRegression supports multi-class classification using the one-versus-all strategy out of the box.\n",
    "  - one-vs.-the-rest\n",
    "\n",
    "#### Example) classify the sentiments of phrases taken from movie reviews in the Rotten Tomatoes data set\n",
    "- Data Download: http://www.kaggle.com/c/sentiment-analysis-on-movie-reviews/data\n"
   ]
  },
  {
   "cell_type": "code",
   "execution_count": 8,
   "metadata": {
    "collapsed": false
   },
   "outputs": [
    {
     "name": "stdout",
     "output_type": "stream",
     "text": [
      "PhraseId      156060\n",
      "SentenceId    156060\n",
      "Phrase        156060\n",
      "Sentiment     156060\n",
      "dtype: int64\n"
     ]
    }
   ],
   "source": [
    "import pandas as pd\n",
    "df = pd.read_csv('movie-reviews/train.tsv', header=0, delimiter='\\t')\n",
    "print df.count()"
   ]
  },
  {
   "cell_type": "code",
   "execution_count": 9,
   "metadata": {
    "collapsed": false
   },
   "outputs": [
    {
     "name": "stdout",
     "output_type": "stream",
     "text": [
      "   PhraseId  SentenceId                                             Phrase  \\\n",
      "0         1           1  A series of escapades demonstrating the adage ...   \n",
      "1         2           1  A series of escapades demonstrating the adage ...   \n",
      "2         3           1                                           A series   \n",
      "3         4           1                                                  A   \n",
      "4         5           1                                             series   \n",
      "\n",
      "   Sentiment  \n",
      "0          1  \n",
      "1          2  \n",
      "2          2  \n",
      "3          2  \n",
      "4          2  \n"
     ]
    }
   ],
   "source": [
    "print df.head()"
   ]
  },
  {
   "cell_type": "markdown",
   "metadata": {},
   "source": [
    "- The Sentiment column contains the response variables.\n",
    "  - 0: the sentiment negative\n",
    "  - 1: somewhat negative\n",
    "  - and so on. \n"
   ]
  },
  {
   "cell_type": "code",
   "execution_count": 10,
   "metadata": {
    "collapsed": false
   },
   "outputs": [
    {
     "name": "stdout",
     "output_type": "stream",
     "text": [
      "0    A series of escapades demonstrating the adage ...\n",
      "1    A series of escapades demonstrating the adage ...\n",
      "2                                             A series\n",
      "3                                                    A\n",
      "4                                               series\n",
      "5    of escapades demonstrating the adage that what...\n",
      "6                                                   of\n",
      "7    escapades demonstrating the adage that what is...\n",
      "8                                            escapades\n",
      "9    demonstrating the adage that what is good for ...\n",
      "Name: Phrase, dtype: object\n"
     ]
    }
   ],
   "source": [
    "print df['Phrase'].head(10)"
   ]
  },
  {
   "cell_type": "code",
   "execution_count": 11,
   "metadata": {
    "collapsed": false
   },
   "outputs": [
    {
     "name": "stdout",
     "output_type": "stream",
     "text": [
      "count    156060.000000\n",
      "mean          2.063578\n",
      "std           0.893832\n",
      "min           0.000000\n",
      "25%           2.000000\n",
      "50%           2.000000\n",
      "75%           3.000000\n",
      "max           4.000000\n",
      "Name: Sentiment, dtype: float64\n"
     ]
    }
   ],
   "source": [
    "print df['Sentiment'].describe()"
   ]
  },
  {
   "cell_type": "code",
   "execution_count": 12,
   "metadata": {
    "collapsed": false
   },
   "outputs": [
    {
     "name": "stdout",
     "output_type": "stream",
     "text": [
      "2    79582\n",
      "3    32927\n",
      "1    27273\n",
      "4     9206\n",
      "0     7072\n",
      "dtype: int64\n"
     ]
    }
   ],
   "source": [
    "print df['Sentiment'].value_counts()"
   ]
  },
  {
   "cell_type": "code",
   "execution_count": 13,
   "metadata": {
    "collapsed": false
   },
   "outputs": [
    {
     "name": "stdout",
     "output_type": "stream",
     "text": [
      "2    0.509945\n",
      "3    0.210989\n",
      "1    0.174760\n",
      "4    0.058990\n",
      "0    0.045316\n",
      "dtype: float64\n"
     ]
    }
   ],
   "source": [
    "print df['Sentiment'].value_counts()/df['Sentiment'].count()"
   ]
  },
  {
   "cell_type": "code",
   "execution_count": 2,
   "metadata": {
    "collapsed": false,
    "scrolled": true
   },
   "outputs": [
    {
     "name": "stdout",
     "output_type": "stream",
     "text": [
      "Fitting 3 folds for each of 24 candidates, totalling 72 fits\n"
     ]
    },
    {
     "name": "stderr",
     "output_type": "stream",
     "text": [
      "[Parallel(n_jobs=3)]: Done   1 jobs       | elapsed:    2.2s\n",
      "[Parallel(n_jobs=3)]: Done  50 jobs       | elapsed:   51.0s\n",
      "[Parallel(n_jobs=3)]: Done  68 out of  72 | elapsed:  1.3min remaining:    4.8s\n",
      "[Parallel(n_jobs=3)]: Done  72 out of  72 | elapsed:  1.5min finished\n"
     ]
    },
    {
     "name": "stdout",
     "output_type": "stream",
     "text": [
      "Best score: 0.624\n",
      "Best parameters set:\n",
      "\tclf__C: 10\n",
      "\tvect__max_df: 0.25\n",
      "\tvect__ngram_range: (1, 2)\n",
      "\tvect__use_idf: False\n"
     ]
    }
   ],
   "source": [
    "import pandas as pd\n",
    "from sklearn.feature_extraction.text import TfidfVectorizer\n",
    "from sklearn.linear_model.logistic import LogisticRegression\n",
    "from sklearn.cross_validation import train_test_split\n",
    "from sklearn.metrics.metrics import classification_report, accuracy_score, confusion_matrix\n",
    "from sklearn.pipeline import Pipeline\n",
    "from sklearn.grid_search import GridSearchCV\n",
    "\n",
    "pipeline = Pipeline([\n",
    "    ('vect', TfidfVectorizer(stop_words='english')),\n",
    "    ('clf', LogisticRegression())\n",
    "])\n",
    "parameters = {\n",
    "    'vect__max_df': (0.25, 0.5),\n",
    "    'vect__ngram_range': ((1, 1), (1, 2)),\n",
    "    'vect__use_idf': (True, False),\n",
    "    'clf__C': (0.1, 1, 10),\n",
    "}\n",
    "df = pd.read_csv('movie-reviews/train.tsv', header=0, delimiter='\\t')\n",
    "X, y = df['Phrase'], df['Sentiment'].as_matrix()\n",
    "X_train, X_test, y_train, y_test = train_test_split(X, y, train_size=0.5)\n",
    "grid_search = GridSearchCV(pipeline, parameters, n_jobs=3, verbose=1, scoring='accuracy')\n",
    "grid_search.fit(X_train, y_train)\n",
    "print 'Best score: %0.3f' % grid_search.best_score_\n",
    "print 'Best parameters set:'\n",
    "best_parameters = grid_search.best_estimator_.get_params()\n",
    "for param_name in sorted(parameters.keys()):\n",
    "    print '\\t%s: %r' % (param_name, best_parameters[param_name])\n"
   ]
  },
  {
   "cell_type": "markdown",
   "metadata": {},
   "source": [
    "## Multi-class classification performance metrics\n",
    "- confusion matrices\n",
    "- Accuracy Precision, recall, and F1 score can be computed for each of the classes\n"
   ]
  },
  {
   "cell_type": "code",
   "execution_count": 16,
   "metadata": {
    "collapsed": false
   },
   "outputs": [
    {
     "name": "stdout",
     "output_type": "stream",
     "text": [
      "Accuracy: 0.639305395361\n",
      "Confusion Matrix: [[ 1134  1693   676    55     2]\n",
      " [  907  6020  6019   558    20]\n",
      " [  223  3147 32775  3545   173]\n",
      " [   30   419  6350  8267  1373]\n",
      " [    4    35   464  2452  1689]]\n",
      "Classification Report:              precision    recall  f1-score   support\n",
      "\n",
      "          0       0.49      0.32      0.39      3560\n",
      "          1       0.53      0.45      0.48     13524\n",
      "          2       0.71      0.82      0.76     39863\n",
      "          3       0.56      0.50      0.53     16439\n",
      "          4       0.52      0.36      0.43      4644\n",
      "\n",
      "avg / total       0.62      0.64      0.63     78030\n",
      "\n",
      "[1 2 2 ..., 3 2 2]\n"
     ]
    }
   ],
   "source": [
    "predictions = grid_search.predict(X_test)\n",
    "print 'Accuracy:', accuracy_score(y_test, predictions)\n",
    "print 'Confusion Matrix:', confusion_matrix(y_test, predictions)\n",
    "print 'Classification Report:', classification_report(y_test, predictions)\n",
    "print df['Sentiment'].as_matrix()"
   ]
  },
  {
   "cell_type": "markdown",
   "metadata": {},
   "source": [
    "# Multi-label classification and problem transformation\n",
    "- two groups of approaches for multi-label classification.\n",
    "![](multi-label.png)\n",
    "\n",
    "#### Problem transformation methods\n",
    "- cast the original multi-label problem as a set of single-label classification problems\n",
    "\n",
    "#### The first problem transformation method\n",
    "- The multi-label classification problem that had five classes is now a multi-class classification problem with seven classes\n",
    "![](multi-label-first.png)\n",
    "\n",
    "#### The seond problem transformation method\n",
    "- Train one binary classifier for each of the labels in the training set\n",
    "- Each classifier predicts whether or not the instance belongs to one label.\n",
    "![](multi-label-second.png)\n",
    "## Multi-label classification performance metrics\n",
    "- Hamming loss\n",
    "  - average fraction of incorrect labels\n",
    "  -  perfect score is zero\n",
    "  - accuracy와 유사함\n",
    "\n",
    "- Jaccard similarity (or the Jaccard index)\n",
    "  - size of the intersection of the predicted labels and the true labels divided by the size of the union of the predicted and true labels.\n",
    "  - It ranges from zero to one\n",
    "  - one is the perfect score.\n",
    "  - precision과 recall을 합한 후 일반화한 형태\n",
    "\n",
    "$$J(Predicted, True) = \\frac{|Predicted \\cap True | }{|Predicted \\cup True|}$$\n"
   ]
  },
  {
   "cell_type": "code",
   "execution_count": 15,
   "metadata": {
    "collapsed": false
   },
   "outputs": [
    {
     "name": "stdout",
     "output_type": "stream",
     "text": [
      "0.0\n"
     ]
    }
   ],
   "source": [
    "import numpy as np\n",
    "from sklearn.metrics import hamming_loss\n",
    "print hamming_loss(np.array([[0.0, 1.0], [1.0, 1.0]]),\n",
    "np.array([[0.0, 1.0], [1.0, 1.0]]))\n"
   ]
  },
  {
   "cell_type": "code",
   "execution_count": 5,
   "metadata": {
    "collapsed": false
   },
   "outputs": [
    {
     "name": "stdout",
     "output_type": "stream",
     "text": [
      "0.25\n"
     ]
    }
   ],
   "source": [
    "print hamming_loss(np.array([[0.0, 1.0], [1.0, 1.0]]), np.array([[1.0, 1.0], [1.0, 1.0]]))\n"
   ]
  },
  {
   "cell_type": "code",
   "execution_count": 6,
   "metadata": {
    "collapsed": false
   },
   "outputs": [
    {
     "name": "stdout",
     "output_type": "stream",
     "text": [
      "0.5\n"
     ]
    }
   ],
   "source": [
    "print hamming_loss(np.array([[0.0, 1.0], [1.0, 1.0]]), np.array([[1.0, 1.0], [0.0, 1.0]]))"
   ]
  },
  {
   "cell_type": "code",
   "execution_count": 7,
   "metadata": {
    "collapsed": false
   },
   "outputs": [
    {
     "name": "stdout",
     "output_type": "stream",
     "text": [
      "0.333333333333\n"
     ]
    }
   ],
   "source": [
    "print hamming_loss(np.array([[0.0, 1.0, 1.0], [1.0, 1.0, 1.0]]), np.array([[1.0, 1.0, 1.0], [0.0, 1.0, 1.0]]))"
   ]
  },
  {
   "cell_type": "code",
   "execution_count": 9,
   "metadata": {
    "collapsed": false
   },
   "outputs": [
    {
     "name": "stdout",
     "output_type": "stream",
     "text": [
      "1.0\n"
     ]
    }
   ],
   "source": [
    "from sklearn.metrics import jaccard_similarity_score \n",
    "print jaccard_similarity_score(np.array([[0.0, 1.0], [1.0, 1.0]]), np.array([[0.0, 1.0], [1.0, 1.0]]))\n"
   ]
  },
  {
   "cell_type": "code",
   "execution_count": 10,
   "metadata": {
    "collapsed": false
   },
   "outputs": [
    {
     "name": "stdout",
     "output_type": "stream",
     "text": [
      "0.75\n"
     ]
    }
   ],
   "source": [
    "print jaccard_similarity_score(np.array([[0.0, 1.0], [1.0, 1.0]]), np.array([[1.0, 1.0], [1.0, 1.0]]))"
   ]
  },
  {
   "cell_type": "code",
   "execution_count": 11,
   "metadata": {
    "collapsed": false
   },
   "outputs": [
    {
     "name": "stdout",
     "output_type": "stream",
     "text": [
      "0.5\n"
     ]
    }
   ],
   "source": [
    "print jaccard_similarity_score(np.array([[0.0, 1.0], [1.0, 1.0]]), np.array([[1.0, 1.0], [0.0, 1.0]]))"
   ]
  },
  {
   "cell_type": "code",
   "execution_count": 14,
   "metadata": {
    "collapsed": false
   },
   "outputs": [
    {
     "name": "stdout",
     "output_type": "stream",
     "text": [
      "0.666666666667\n"
     ]
    }
   ],
   "source": [
    "print jaccard_similarity_score(np.array([[0.0, 1.0, 1.0], [1.0, 1.0, 1.0]]), np.array([[1.0, 1.0, 1.0], [0.0, 1.0, 1.0]]))"
   ]
  },
  {
   "cell_type": "code",
   "execution_count": null,
   "metadata": {
    "collapsed": true
   },
   "outputs": [],
   "source": []
  }
 ],
 "metadata": {
  "kernelspec": {
   "display_name": "Python 3",
   "language": "python",
   "name": "python3"
  },
  "language_info": {
   "codemirror_mode": {
    "name": "ipython",
    "version": 3
   },
   "file_extension": ".py",
   "mimetype": "text/x-python",
   "name": "python",
   "nbconvert_exporter": "python",
   "pygments_lexer": "ipython3",
   "version": "3.4.1"
  }
 },
 "nbformat": 4,
 "nbformat_minor": 0
}
