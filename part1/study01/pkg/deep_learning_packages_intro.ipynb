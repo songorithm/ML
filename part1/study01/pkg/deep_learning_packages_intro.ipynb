{
 "cells": [
  {
   "cell_type": "markdown",
   "metadata": {},
   "source": [
    "# Deep Learning Packages Intro."
   ]
  },
  {
   "cell_type": "markdown",
   "metadata": {},
   "source": [
    "* [손고리즘] middle learning - 파이썬을 이용한 기계학습 알고리즘 기초\n",
    "* 김무성"
   ]
  },
  {
   "cell_type": "markdown",
   "metadata": {},
   "source": [
    "# theano & caffe"
   ]
  },
  {
   "cell_type": "markdown",
   "metadata": {},
   "source": [
    "# 1. theano"
   ]
  },
  {
   "cell_type": "markdown",
   "metadata": {},
   "source": [
    "* Intro\n",
    "* Tutorial – Learn the basics\n",
    "* Deep Learning Tutorials Using theano\n",
    "* Related-projects"
   ]
  },
  {
   "cell_type": "markdown",
   "metadata": {},
   "source": [
    "## 1.1 Intro"
   ]
  },
  {
   "cell_type": "markdown",
   "metadata": {},
   "source": [
    "http://deeplearning.net/software/theano/"
   ]
  },
  {
   "cell_type": "markdown",
   "metadata": {},
   "source": [
    "* Theano and PyLearn - http://hunch.net/~nyoml/theano.pdf\n",
    "* Theano and PyLearn future plans - http://hunch.net/~nyoml/theano_2.pdf\n",
    "* Colin Raffel tutorial on Theano - http://deeplearning.net/software/theano/\n",
    "* Theano Tutorials Session 1 - https://drive.google.com/file/d/0B64011x02sIkdDB5MmdnRnNTbWc\n",
    "* Theano Tutorials Session 2 : Advanced usage - https://drive.google.com/file/d/0B64011x02sIkOVpPY1B2WmVYa3c    \n",
    "* Theano Tutorials Session 3 : Internals - https://drive.google.com/file/d/0B64011x02sIkWW9LLVV6QWtzRTg"
   ]
  },
  {
   "cell_type": "markdown",
   "metadata": {},
   "source": [
    "## 1.2 Tutorial – Learn the basics"
   ]
  },
  {
   "cell_type": "markdown",
   "metadata": {},
   "source": [
    "http://deeplearning.net/software/theano/tutorial/index.html#tutorial"
   ]
  },
  {
   "cell_type": "markdown",
   "metadata": {},
   "source": [
    "## 1.3 Deep Learning Tutorials Using theano"
   ]
  },
  {
   "cell_type": "markdown",
   "metadata": {},
   "source": [
    "http://www.deeplearning.net/tutorial/"
   ]
  },
  {
   "cell_type": "markdown",
   "metadata": {},
   "source": [
    "## 1.4 Related-projects"
   ]
  },
  {
   "cell_type": "markdown",
   "metadata": {},
   "source": [
    "https://github.com/Theano/Theano/wiki/Related-projects"
   ]
  },
  {
   "cell_type": "markdown",
   "metadata": {},
   "source": [
    "# 2. caffe"
   ]
  },
  {
   "cell_type": "markdown",
   "metadata": {},
   "source": [
    "* Intro\n",
    "* Tutorial\n",
    "* EXamples"
   ]
  },
  {
   "cell_type": "markdown",
   "metadata": {
    "collapsed": true
   },
   "source": [
    "## 2.1 Intro"
   ]
  },
  {
   "cell_type": "markdown",
   "metadata": {},
   "source": [
    "http://caffe.berkeleyvision.org/"
   ]
  },
  {
   "cell_type": "markdown",
   "metadata": {},
   "source": [
    "* web demo - http://demo.caffe.berkeleyvision.org/\n",
    "* DIY Deep Learning for Vision with Caffe : Tutorial presentation - https://docs.google.com/presentation/d/1UeKXVgRvvxg9OUdh_UiC5G71UMscNPlvArsWER41PsU/edit#slide=id.p"
   ]
  },
  {
   "cell_type": "markdown",
   "metadata": {},
   "source": [
    "## 2.2 Tutorial"
   ]
  },
  {
   "cell_type": "markdown",
   "metadata": {},
   "source": [
    "* Tutorial Documentation : Practical guide and framework reference - http://caffe.berkeleyvision.org/tutorial/\n",
    "* Installation instructions : Tested on Ubuntu, Red Hat, OS X - http://caffe.berkeleyvision.org/installation.html\n",
    "* Model Zoo - https://github.com/BVLC/caffe/wiki/Model-Zoo"
   ]
  },
  {
   "cell_type": "markdown",
   "metadata": {},
   "source": [
    "## 2.3 Examples"
   ]
  },
  {
   "cell_type": "markdown",
   "metadata": {},
   "source": [
    "* ImageNet tutorial : Train and test \"CaffeNet\" on ImageNet data - http://caffe.berkeleyvision.org/gathered/examples/imagenet.html\n",
    "* ImageNet classification : Use the pre-trained ImageNet model to classify images with the Python interface - http://nbviewer.ipython.org/github/BVLC/caffe/blob/master/examples/classification.ipynb\n",
    "        "
   ]
  }
 ],
 "metadata": {
  "kernelspec": {
   "display_name": "Python 2",
   "language": "python",
   "name": "python2"
  },
  "language_info": {
   "codemirror_mode": {
    "name": "ipython",
    "version": 2
   },
   "file_extension": ".py",
   "mimetype": "text/x-python",
   "name": "python",
   "nbconvert_exporter": "python",
   "pygments_lexer": "ipython2",
   "version": "2.7.3"
  }
 },
 "nbformat": 4,
 "nbformat_minor": 0
}
