{
 "cells": [
  {
   "cell_type": "markdown",
   "metadata": {},
   "source": [
    "# DML : Chapter 1. Introduction"
   ]
  },
  {
   "cell_type": "markdown",
   "metadata": {},
   "source": [
    "* [손고리즘] middle learning - 파이썬을 이용한 기계학습 알고리즘 기초\n",
    "* 김무성"
   ]
  },
  {
   "cell_type": "markdown",
   "metadata": {},
   "source": [
    "# DEEP LEARNING"
   ]
  },
  {
   "cell_type": "markdown",
   "metadata": {},
   "source": [
    "## Table of Contents\n",
    "\n",
    "* 1 Introduction \n",
    "* PART I Applied math and machine learning basics \n",
    "    - 2 Linear Algebra \n",
    "    - 3 Probability and Information Theory\n",
    "    - 4 Numerical Computation\n",
    "    - 5 Machine Learning Basics\n",
    "* PART II Modern practical deep networks\n",
    "    - 6 Feedforward Deep Networks\n",
    "    - 7 Regularization\n",
    "    - 8 Optimization for Training Deep Models\n",
    "    - 9 Convolutional Networks\n",
    "    - 10 Sequence Modeling: Recurrent and Recursive Nets\n",
    "    - 11 Large scale deep learning\n",
    "    - 12 Practical methodology\n",
    "    - 13 Applications\n",
    "* PART III Deep learning research\n",
    "    - 14 Structured Probabilistic Models : A Deep Learnig Perspective\n",
    "￼    - 15 Monte Carlo Methods\n",
    "    - 16 Linear Factor Models and Auto-Encoders\n",
    "    - 17 Representation Learning\n",
    "    - 18 The Manifold Perspective on Representation Learning\n",
    "    - 19 Confronting the Partition Function\n",
    "    - 20 Approximate inference\n",
    "    - 21 Deep Generative Models"
   ]
  },
  {
   "cell_type": "markdown",
   "metadata": {},
   "source": [
    "# Chapter 1. Introduction [1]"
   ]
  },
  {
   "cell_type": "markdown",
   "metadata": {},
   "source": [
    "# Contents"
   ]
  },
  {
   "cell_type": "markdown",
   "metadata": {},
   "source": [
    "* 1.1 Who Should Read This Book?\n",
    "* 1.2 Historical Trends in Deep Learning"
   ]
  },
  {
   "cell_type": "markdown",
   "metadata": {},
   "source": [
    "## Keywords"
   ]
  },
  {
   "cell_type": "markdown",
   "metadata": {},
   "source": [
    "* artificial intelligence (AI)\n",
    "* knowledge base approach\n",
    "* machine learning\n",
    "* feature\n",
    "* hand-designed representations\n",
    "* representation learning\n",
    "* factors of variation\n",
    "* Deep learning"
   ]
  },
  {
   "cell_type": "markdown",
   "metadata": {},
   "source": [
    "<img src=\"figures/fig1.1.png\" width=600 />"
   ]
  },
  {
   "cell_type": "markdown",
   "metadata": {},
   "source": [
    "<img src=\"figures/fig1.2.png\" width=600 />"
   ]
  },
  {
   "cell_type": "markdown",
   "metadata": {},
   "source": [
    "<img src=\"figures/fig1.3.png\" width=600 />"
   ]
  },
  {
   "cell_type": "markdown",
   "metadata": {},
   "source": [
    "<img src=\"figures/fig1.4.png\" width=600 />"
   ]
  },
  {
   "cell_type": "markdown",
   "metadata": {},
   "source": [
    "# 1.1 Who Should Read This Book?"
   ]
  },
  {
   "cell_type": "markdown",
   "metadata": {},
   "source": [
    "* One of these target audiences is <font color=\"red\">university students (undergraduate or graduate) learning about machine learning</font>, including those who are beginning a career in deep learning and artificial intelligence research. \n",
    "* The other target audience is <font color=\"red\">software engineers who do not have a machine learning or statistics background</font>, but want to rapidly acquire one and begin using deep learning in their product or platform."
   ]
  },
  {
   "cell_type": "markdown",
   "metadata": {},
   "source": [
    "* This book has been organized into three parts in order to best accommodate a variety of readers. \n",
    "    - Part 1 introduces basic mathematical tools and machine learning concepts. \n",
    "    - Part 2 describes the most established deep learning algorithms that are essentially solved technologies. \n",
    "    - Part 3 describes more speculative ideas that are widely believed to be important for future research in deep learning."
   ]
  },
  {
   "cell_type": "markdown",
   "metadata": {},
   "source": [
    "# 1.2 Historical Trends in Deep Learning"
   ]
  },
  {
   "cell_type": "markdown",
   "metadata": {},
   "source": [
    "* artificial neural networks, parallel distributed processing, connectionism\n",
    "* inspiration from the brain\n",
    "    -  Beyond that, it is difficult to say how similar the two are, and unlikely that they have many similarities, and our knowledge of the brain does not give very specific guidance for improving deep learning.\n",
    "* Deep learning has now drawn considerably useful insights from many fields other than neuroscience, including\n",
    "    - structured probabilistic models\n",
    "    - manifold learning\n",
    "    - and the modern terminology aims to avoid implying that only one field has inspired the current algorithms.\n",
    "* the age of “Big Data”\n",
    "* GPUs\n",
    "* Sart! Perceptron and ADALINE etc.. -> back-propagation algorithm \n",
    "* Winter! VS hand-designing domain-specific features became the typical approach to practical applications : Kernel machines + graphical models\n",
    "* Boom! Research groups led by Geoffrey Hinton at University of Toronto, Yoshua Bengio at University of Montreal, and Yann LeCun at New York University re-popularized neural networks re-branded as “deep learning” beginning in 2006."
   ]
  },
  {
   "cell_type": "markdown",
   "metadata": {},
   "source": [
    "<img src=\"figures/fig1.5.png\" width=600 />"
   ]
  },
  {
   "cell_type": "markdown",
   "metadata": {},
   "source": [
    "<img src=\"figures/fig1.6.png\" width=600 />"
   ]
  },
  {
   "cell_type": "markdown",
   "metadata": {},
   "source": [
    "<img src=\"figures/fig1.7.png\" width=600 />"
   ]
  },
  {
   "cell_type": "markdown",
   "metadata": {},
   "source": [
    "# 참고자료"
   ]
  },
  {
   "cell_type": "markdown",
   "metadata": {},
   "source": [
    "* [1] DEEP LEARNING - http://www.iro.umontreal.ca/~bengioy/dlbook/"
   ]
  }
 ],
 "metadata": {
  "kernelspec": {
   "display_name": "Python 2",
   "language": "python",
   "name": "python2"
  },
  "language_info": {
   "codemirror_mode": {
    "name": "ipython",
    "version": 2
   },
   "file_extension": ".py",
   "mimetype": "text/x-python",
   "name": "python",
   "nbconvert_exporter": "python",
   "pygments_lexer": "ipython2",
   "version": "2.7.3"
  }
 },
 "nbformat": 4,
 "nbformat_minor": 0
}
