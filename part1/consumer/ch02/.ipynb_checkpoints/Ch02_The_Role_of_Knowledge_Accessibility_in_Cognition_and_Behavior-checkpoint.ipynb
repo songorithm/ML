{
 "cells": [
  {
   "cell_type": "markdown",
   "metadata": {},
   "source": [
    "# 2. The Role of Knowledge Accessibility in Cognition and Behavior: Implications for Consumer Information Processing"
   ]
  },
  {
   "cell_type": "markdown",
   "metadata": {},
   "source": [
    "* 소비자심리 + 온라인 사용자 분석 실습\n",
    "* 김무성"
   ]
  },
  {
   "cell_type": "markdown",
   "metadata": {},
   "source": [
    "# Contents"
   ]
  },
  {
   "cell_type": "markdown",
   "metadata": {},
   "source": [
    "* GENERAL CONSIDERATIONS\n",
    "* TYPES OF KNOWLEDGE REPRESENTATIONS\n",
    "* BASIC PRINCIPLES\n",
    "* DETERMINANTS OF KNOWLEDGE ACCESSIBILITY\n",
    "* EFFECTS OF PRIOR JUDGMENTS ON SUBSEQUENT ONES\n",
    "* THE INFLUENCE OF AWARENESS ON THE IMPACT OF ACCESSIBLE KNOWLEDGE\n",
    "* The Effects of Thought Suppression on Knowledge Accessibility\n",
    "* ATTENTIONAL PROCESSES\n",
    "* THE INTERPRETATION OF AMBIGUOUS INFORMATION\n",
    "* DIMENSIONAL VS. CATEGORY ACCESSIBILITY\n",
    "* ASSIMILATION AND CONTRAST\n",
    "* DESCRIPTIVE VS. EVALUATIVE ENCODING\n",
    "* GOAL-ACTIVATED PRIMING EFFECTS\n",
    "* HIGHER ORDER COMPREHENSION PROCESSES\n",
    "* MEMORY PROCESSES\n",
    "* THE ROLE OF IMPLICIT THEORIES ON RECONSTRUCTIVE MEMORY\n",
    "* INTERFERENCE OF ACCESSIBLE KNOWLEDGE ON MEMORY\n",
    "* INFERENCE AND EVALUATION PROCESSES\n",
    "* BELIEF ESTIMATION\n",
    "* FREQUENCY ESTIMATION\n",
    "* MAGNITUDE ESTIMATES\n",
    "* EVALUATIONS AND AFFECT-BASED JUDGMENTS\n",
    "* PREFERENCE JUDGMENTS\n",
    "* BEHAVIORAL DECISIONS\n",
    "* FFECTS OF BODILY FEEDBACK ON INFORMATION PROCESSING\n",
    "* CHAMELEON EFFECTS\n",
    "* IMPULSIVENESS\n",
    "* GOALS AND MOTIVES\n",
    "* CULTURAL AND SOCIAL INFLUENCES ON REGULATORY FOCUS\n",
    "* EFFECTS OF TERROR MANAGEMENT ON MATERIALISTIC MOTIVES\n",
    "* THE INFLUENCE OF AFFECT ON GOAL-DIRECTED ACTIVITY\n",
    "* CONCLUDING COMMENT"
   ]
  },
  {
   "cell_type": "markdown",
   "metadata": {},
   "source": [
    "# GENERAL CONSIDERATIONS"
   ]
  },
  {
   "cell_type": "markdown",
   "metadata": {},
   "source": [
    "* Stages of Information Processing"
   ]
  },
  {
   "cell_type": "markdown",
   "metadata": {},
   "source": [
    "#### intro"
   ]
  },
  {
   "cell_type": "markdown",
   "metadata": {},
   "source": [
    "* <font color=\"red\">People’s judgments and decisions</font> are typically based on only <font color=\"red\">a small subset of the knowledge</font> they could potentially apply. \n",
    "* Furthermore, when <font color=\"red\">they receive new judgment-relevant information</font>, they construe its implications <font color=\"red\">without considering all of the alternative interpretations</font> it might have.\n",
    "* The concepts and knowledge they employ in each case are not necessarily either the most relevant or the most reliable, but rather, are <font color=\"red\">the cognitions that come most easily to mind</font>. \n",
    "* This general tendency, which has been documented at <font color=\"red\">all stages of information processing</font> from the initial acquisition and comprehension of information to the generation of an overt response, is one of the most widely accepted phenomena to emerge in the past three decades of psychological research\n",
    "* Because of its pervasiveness, <font color=\"red\">the role of knowledge accessibility is a central component of almost every theoretical formulation of social information processing</font> to appear in the past three decades, ranging from general formulations of judgment and behavior to more specific formulations of \n",
    "    - attitude formation and change, \n",
    "    - attitude-behavior relations, \n",
    "    - impression formation, \n",
    "    - stereotype activation and suppression, \n",
    "    - the effects of the media on perceptions of social reality, \n",
    "    - the impact of affect and subjective experience on judgments and decisions, \n",
    "    - goal-directed behavior, \n",
    "    - cultural influences on behavioral decisions, \n",
    "    - and perspective effects in judgment. \n",
    "* In the area of consumer research, the role of knowledge accessibility is implicit if not explicit in research on \n",
    "    - subliminal advertising\n",
    "    - brand awareness, \n",
    "    - pricing\n",
    "    - and product evaluation more generally. \n",
    "* The first section of this chapter reviews <font color=\"red\">alternative conceptualizations of knowledge accessibility phenomena</font>, drawing largely from research and theory in cognitive and social psychology. \n",
    "* Later sections provide <font color=\"red\">examples of the role of knowledge accessibility at several different stages of information processing</font>, \n",
    "    - including the attention to and comprehension of information, \n",
    "    - the representation of the information in memory, \n",
    "    - the computation of inferences on the basis of previously acquired knowledge, \n",
    "    - and behavior decisions. \n",
    "* In the course of this discussion, we review representative research and theory in consumer judgment and decision-making in which differences in knowledge accessibility come into play."
   ]
  },
  {
   "cell_type": "markdown",
   "metadata": {},
   "source": [
    "## Stages of Information Processing"
   ]
  },
  {
   "cell_type": "markdown",
   "metadata": {},
   "source": [
    "1. <font color=\"red\">Attention</font>—people pay differing amounts of attention to the various aspects of the infor-\n",
    "mation they receive.\n",
    "2. <font color=\"red\">Encoding and comprehension</font>—people interpret individual pieces of information in terms\n",
    "of previously formed concepts that they exemplify, and may organize clusters of features\n",
    "with reference to a more general knowledge structure or “schema.” Thus, they might inter-\n",
    "pret a $70 pair of jeans as expensive, or comprehend a temporally related sequence of\n",
    "events that occur at a restaurant in terms of a prototypic “restaurant script” \n",
    "3. <font color=\"red\">Inference</font>—people often infer the likelihood that a statement or assertion is true, or the\n",
    "frequency with which a particular event has occurred. At the same time, they estimate\n",
    "the likelihood that an event will occur in the future, or that a certain state of affairs did or\n",
    "does exist. They sometimes infer that an object has a particular attribute, or might evalu-\n",
    "ate it as either favorable or unfavorable. In other cases, they make a comparative judgment\n",
    "of several objects or events along a given dimension, or might compute a preference for\n",
    "one alternative over another.\n",
    "4. <font color=\"red\">Response processes</font>—people transform the implications of their subjective judgment into\n",
    "an overt response or behavioral decision.\n"
   ]
  },
  {
   "cell_type": "markdown",
   "metadata": {},
   "source": [
    "# TYPES OF KNOWLEDGE REPRESENTATIONS"
   ]
  },
  {
   "cell_type": "markdown",
   "metadata": {},
   "source": [
    "* <font color=\"red\">The knowledge</font> that comes into play at these stages of processing can be of <font color=\"red\">two general types</font>.\n",
    "    - <font color=\"red\">Declarative knowledge</font> concerns the referents of everyday life experiences (persons, objects, events, attitudes and values, oneself, etc.). \n",
    "        - declarative knowledge is reflected in the information we can recall about an entity or that\n",
    "we implicitly draw upon in the course of attaining a particular objective\n",
    "        - People can, of course, have declarative knowledge about how to attain a particular objective, and might sometimes consult this knowledge for use as a behavioral guide. \n",
    "    - In contrast, <font color=\"red\">procedural knowledge</font> refers to the sequence of actions that one performs in pursuit of a particular goal (driving a car, using a word processor, etc.)\n",
    "        - procedural knowledge is reflected in the sequence of cognitive or motor acts that are performed in the pursuit of this objective. \n",
    "        - <font color=\"red\">Once the procedure is well learned</font>, however, it may often be applied <font color=\"red\">automatically</font>, with little if any conscious cognitive mediation.\n",
    "* These automated procedures can be conceptualized as “<font color=\"red\">productions</font>” of the sort suggested by J.\n",
    "R. Anderson.\n",
    "    - Thus, they may be metaphorically have the form of “<font color=\"red\">If [X], then [Y]</font>” rules\n",
    "          - in which [X] is a configuration of perceptual or cognitive stimulus features and [Y] is a sequence of cognitive or motor acts that are elicited automatically when the eliciting conditions are met. \n",
    "    - These productions, which are acquired through learning, are strengthened by repetition, and can ultimately be activated and applied with minimal cognitive mediation.\n",
    "    - As Bargh (1997) argues, a very large amount of our social behavior is likely to involve the use of these automatically activated productions.\n",
    "* <font color=\"red\">In this chapter, we focus primarily on the accessibility of declarative knowledge</font> (Smith, 1990). Nevertheless, <font color=\"red\">the accessibility of procedural knowledge is likely to have a particularly important</font> impact on overt behavior as will be seen.\n",
    "* Declarative knowledge \n",
    "    - general semantic concepts\n",
    "    - categories\n",
    "    - specific person or experience\n",
    "    - more general characterization that applies to several individuals or events \n",
    "* Representations of a <font color=\"red\">situation-specific sequence of events</font> \n",
    "    - may constitute a <font color=\"red\">story</font> \n",
    "    - more generalized <font color=\"red\">sequences of events can function as implicit theories</font> that convey the antecedents and consequences of different types of experiences involving oneself or others \n",
    "    * These representations come into play in not only <font color=\"red\">comprehending new experiences</font> but also <font color=\"red\">reconstructing past events</font> and <font color=\"red\">predicting future</font> ones. \n",
    "    * Other <font color=\"red\">generalized event sequences</font> can constitute plans or procedures that are used as <font color=\"red\">behavioral guides in attaining a particular goal</font>.    \n",
    "* The <font color=\"red\">knowledge representations</font> that people construct can be coded in <font color=\"red\">different modalities</font>.\n",
    "    - Although much of our knowledge is coded <font color=\"red\">verbally</font>, \n",
    "    - a very large portion of it (particularly the knowledge we acquire through direct experience) is <font color=\"red\">nonverbal</font>, consisting of <font color=\"red\">mental images</font> that have both <font color=\"red\">visual</font> and <font color=\"red\">acoustic</font> components \n",
    "* Finally, the knowledge we acquire can <font color=\"red\">elicit subjective reactions</font> (e.g., positive or negative affect)\n",
    "    - that, <font color=\"red\">once experienced</font>, can exert an <font color=\"red\">influence on the processing of information at each of the stages</font> listed earlier. \n",
    "    - These reactions, once elicited, can be a major source of the information people use as a basis for judgments and decisions\n",
    "    - On the other hand, they can influence the interpretation of information. and the weight that people attach to it when making a judgment. \n",
    "* Although <font color=\"red\">affect</font>, or <font color=\"red\">subjective experience</font> more generally, \n",
    "    - <font color=\"red\">is not itself a part of the knowledge one stores in memory</font>, \n",
    "    - <font color=\"red\">it can be elicited by this knowledge</font> (Wyer, Clore, & Isbell, 1998). Its influence can nevertheless be onceptualized in terms very similar to that of other aspects of knowledge that people have accessible at the time they receive information and make a judgment or decision.\n",
    "* Despite these <font color=\"red\">differences in the content and structure of knowledge</font>, <font color=\"red\">the processes that govern its accessibility in memory are similar</font>. "
   ]
  },
  {
   "cell_type": "markdown",
   "metadata": {},
   "source": [
    "# BASIC PRINCIPLES"
   ]
  },
  {
   "cell_type": "markdown",
   "metadata": {},
   "source": [
    "#### Principle 1. People rarely retrieve and use more knowledge than is necessary to attain the objective they are pursuing. When each of several knowledge representations is sufficient to attain this objective, the first representation that comes to mind is most likely to be applied."
   ]
  },
  {
   "cell_type": "markdown",
   "metadata": {},
   "source": [
    "#### Principle 2. The accessibility of a unit of knowledge in memory is an increasing function of both the recency with which it has been activated in the past and the frequency with which it has been activated. The effect of recency decreases over time, whereas the effect of frequency persists."
   ]
  },
  {
   "cell_type": "markdown",
   "metadata": {},
   "source": [
    "#### Principle 3. If people have interpreted information on the basis of recently activated concepts and knowledge, the effects of this interpretation on later judgments and decisions about its referent will persist over time."
   ]
  },
  {
   "cell_type": "markdown",
   "metadata": {},
   "source": [
    "#### Principle 4. Knowledge that becomes accessible in memory for reasons that are unrelated to a judgment or decision will influence this judgment or decision if participants either are unaware of the conditions that activated the knowledge or, alternatively, are unaware of the relation between these conditions and the judgment or decision to be made. Even if people are aware of the biasing influence of judgment-irrelevant knowledge, they may not be motivated or able to correct for its influence or, alternatively, may not know how much they should adjust their response to compensate for its effect."
   ]
  },
  {
   "cell_type": "markdown",
   "metadata": {},
   "source": [
    "# DETERMINANTS OF KNOWLEDGE ACCESSIBILITY"
   ]
  },
  {
   "cell_type": "markdown",
   "metadata": {},
   "source": [
    "* Strength of Association\n",
    "* Recency and Frequency\n",
    "* Amount of Processing"
   ]
  },
  {
   "cell_type": "markdown",
   "metadata": {},
   "source": [
    "#### Principle 1. People rarely retrieve and use more knowledge than is necessary to attain the objective they are pursuing. When each of several knowledge representations is sufficient to attain this objective, the first representation that comes to mind is most likely to be applied."
   ]
  },
  {
   "cell_type": "markdown",
   "metadata": {},
   "source": [
    " * often make different specific assumptions about the mechanisms that underlie memory storage and retrieval,\n",
    " * For example, suppose to attribute concepts, “tasty” and “unhealthy” are equally appli- cable for interpreting information that a drink has artificial sweeteners. In this case, the one that comes to mind first is most likely to be applied. "
   ]
  },
  {
   "cell_type": "markdown",
   "metadata": {},
   "source": [
    "* (1) the strength of association between the knowledge to be accessed and concepts that have already been activated in the situa- tion at hand, \n",
    "* (2) the recency with which knowledge has been acquired and used, \n",
    "* (3) the frequency with which it has been employed, and \n",
    "* (4) the amount of processing in which it has been directly or indirectly involved."
   ]
  },
  {
   "cell_type": "markdown",
   "metadata": {},
   "source": [
    "## Strength of Association"
   ]
  },
  {
   "cell_type": "markdown",
   "metadata": {},
   "source": [
    "* the accessibility of knowledge in memory at any given moment is determined in part by the strength of its association with situational, informational, or internally generated fea- tures that exist at the moment and, therefore, serve as implicit or explicit retrieval cues. \n",
    "* the word “bread” might cue the retrieval of “butter,” and a picture of a yellow double arch is likely to stimulate a concept of McDonald’s. \n",
    "* The retrieval of such associated cognitions may be a conditioned cognitive response to the stimulus concept or cognition"
   ]
  },
  {
   "cell_type": "markdown",
   "metadata": {},
   "source": [
    "## Recency and Frequency"
   ]
  },
  {
   "cell_type": "markdown",
   "metadata": {},
   "source": [
    "#### Principle 2. The accessibility of a unit of knowledge in memory is an increasing function of both the recency with which it has been activated in the past and the frequency with which it has been activated. The effect of recency decreases over time, whereas the effect of frequency persists."
   ]
  },
  {
   "cell_type": "markdown",
   "metadata": {},
   "source": [
    "* When two concepts or knowledge units are equally useful in attaining a particular processing objective, the one that has been used more recently in the past is likely to be applied again.\n",
    "* The accessibility of knowledge can also be determined by the frequency with which a unit of knowledge has been activated and used in the past\n",
    "* chronically accessible in memory  \n",
    "    - Frequently encountered concepts and knowledge can become chronically accessible in memory (Hig- gins, King, & Mavin, 1982) and, therefore, can have effects independently of situational factors that might activate them (Bargh, Bond, Lombardi, & Tota, 1986). \n",
    "* The cognitive processes that theo- retically underlie the effects of frequency of use and the effects of recency of use may differ"
   ]
  },
  {
   "cell_type": "markdown",
   "metadata": {},
   "source": [
    "## Amount of Processing"
   ]
  },
  {
   "cell_type": "markdown",
   "metadata": {},
   "source": [
    "* The accessibility of knowledge in memory can also be influenced by the extent to which the knowledge was thought about at the time it was first acquired (Craik & Lockhart, 1972; Wyer & Hartwick,1980). \n"
   ]
  },
  {
   "cell_type": "markdown",
   "metadata": {},
   "source": [
    "# EFFECTS OF PRIOR JUDGMENTS ON SUBSEQUENT ONES"
   ]
  },
  {
   "cell_type": "markdown",
   "metadata": {},
   "source": [
    "#### Principle 3. If people have interpreted information on the basis of recently activated concepts and knowledge, the effects of this interpretation on later judgments and decisions about its referent will persist over time."
   ]
  },
  {
   "cell_type": "markdown",
   "metadata": {},
   "source": [
    "* One manifestation of the effects of recency of knowledge activation is worth special consideration.\n",
    "* Once an implicit or explicit judgment has been made on the basis of information received at one point in time, a representation of this judgment can often be stored in memory independently of the information that led to its construction. \n",
    "* Consequently, the judgment may later be retrieved out of context and used as a basis for other judgments and decisions (Carlston, 1980; Higgins & Lurie, 1983; Sherman, Ahlm, Berman, & Lynn, 1978; for evidence in the consumer domain, see Kardes, 1986). \n",
    "* This means that if situationally primed knowledge influences the representation that is formed of information and this representation is stored in memory, its influence is likely to persist over time."
   ]
  },
  {
   "cell_type": "markdown",
   "metadata": {},
   "source": [
    "#### As one example, \n",
    "* participants in a study by Srull and Wyer (1980) first performed a sentence construction task in which a concept of hostility was activated. Then, they read a paragraph describing a target person whose behavior was ambiguous with respect to hostility with instructions to form an impression of the person and later judged the target with respect to this attribute. \n",
    "* However, the time intervals between the sentence construction task, the target information, and judgments were varied. When trait concepts were primed 24 hours before the ambiguous target information was presented, they had little effect. When the concepts were primed immediately before participants received the target information, however, they had a positive effect on judgments. \n",
    "* Furthermore, their effect was significantly greater 24 hours after the information was presented than it was immediately afterwards."
   ]
  },
  {
   "cell_type": "markdown",
   "metadata": {},
   "source": [
    "# THE INFLUENCE OF AWARENESS ON THE IMPACT OF ACCESSIBLE KNOWLEDGE"
   ]
  },
  {
   "cell_type": "markdown",
   "metadata": {},
   "source": [
    "* People can be influenced by information that they do not know they have received.\n",
    "* For example, subliminally presented trait concepts can influence people’s interpretation of information about a target person’s behavior and, consequently, judgments of this person (Bargh & Pietromonaco, 1982);"
   ]
  },
  {
   "cell_type": "markdown",
   "metadata": {},
   "source": [
    "### Corrections for Bias"
   ]
  },
  {
   "cell_type": "markdown",
   "metadata": {},
   "source": [
    "#### Principle 4. Knowledge that becomes accessible in memory for reasons that are unrelated to a judgment or decision will influence this judgment or decision if participants either are unaware of the conditions that activated the knowledge or, alternatively, are unaware of the relation between these conditions and the judgment or decision to be made. Even if people are aware of the biasing influence of judgment-irrelevant knowledge, they may not be motivated or able to correct for its influence or, alternatively, may not know how much they should adjust their response to compensate for its effect."
   ]
  },
  {
   "cell_type": "markdown",
   "metadata": {},
   "source": [
    "* Even when people are exposed to information overtly, they may not be aware of its possible effect on their judgments in other, ostensibly unrelated situations.\n",
    "* People are likely to assume that the concepts and knowledge that come to mind when they think about a stimulus are activated by this stimulus alone. Consequently, they are likely to consider the implications of these cognitions to be representative of the knowledge they have available about the stimulus and, therefore, to be an appropriate basis for judgments and decisions they might make concerning it\n",
    "* Only if they are aware that the knowledge that comes to mind might be biased, will they try to correct for this influence.\n",
    "* In such cases, they might discount implications of the knowledge entirely and search for alternative criteria to use.\n",
    "* Rather than searching for alternative judgmental criteria to use, people who believe their judgments may be biased may sometimes find it easier to make a tentative judgment and then to adjust this judgment to compensate for the effects that the judgment-irrelevant knowledge is likely to have had."
   ]
  },
  {
   "cell_type": "markdown",
   "metadata": {},
   "source": [
    "# The Effects of Thought Suppression on Knowledge Accessibility"
   ]
  },
  {
   "cell_type": "markdown",
   "metadata": {},
   "source": [
    "* People who consciously try to avoid the use of a concept or body of knowledge in interpreting information or making a judgment are often successful. \n",
    "* However, active attempts to avoid using a judgmental criterion often require thinking about the criterion to be avoided. \n",
    "* The effort expended in an attempt to suppress its use can actually increase its accessibility in memory relative to conditions in which this effort is not made.\n",
    "* Consequently, once the restrictions on its use are lifted, the suppressed concept or knowledge may be more likely to be used than it otherwise would."
   ]
  },
  {
   "cell_type": "markdown",
   "metadata": {},
   "source": [
    "The four principles summarized in this section typically apply independently of the type of knowledge involved and the type of judgment or decision to which this knowledge is applied. In the following sections, we review representative studies in both psychology and consumer research that bear on the effects of knowledge accessibility at different stages of processing. In this context, we note some additional considerations that arise in conceptualizing the effects at these stages"
   ]
  },
  {
   "cell_type": "markdown",
   "metadata": {},
   "source": [
    "# ATTENTIONAL PROCESSES"
   ]
  },
  {
   "cell_type": "markdown",
   "metadata": {},
   "source": [
    "* Selective Information Seeking\n",
    "* The Effect of Goals on Selective Attention\n",
    "* The Impact of Affect on Selective Attention\n",
    "* Categorical vs. Piecemeal Information Processing"
   ]
  },
  {
   "cell_type": "markdown",
   "metadata": {},
   "source": [
    "## Selective Information Seeking"
   ]
  },
  {
   "cell_type": "markdown",
   "metadata": {},
   "source": [
    "* Individual pieces of information are more likely to be identified and thought about if they can be interpreted in terms of concepts and knowledge that are easily accessible in memory. \n",
    "* This may be true even if the other information available is equally relevant to the goal one is pursuing. The concepts that exert this bias could be activated either by the particular goal one is pursuing and by goal-irrelevant situational factors that happen to make these concepts come to mind."
   ]
  },
  {
   "cell_type": "markdown",
   "metadata": {},
   "source": [
    "## The Effect of Goals on Selective Attention"
   ]
  },
  {
   "cell_type": "markdown",
   "metadata": {},
   "source": [
    "* goal-directed information seeking"
   ]
  },
  {
   "cell_type": "markdown",
   "metadata": {},
   "source": [
    "* The bias produced by goal-directed information seeking was demonstrated by Snyder, Swann, and their colleagues (Snyder, 1981; Snyder & Swann, 1978; Swann & Giuliano, 1987). \n",
    "* Suppose people wish to decide if a person or object belongs to a certain category (e.g., extrovert, good secretary, high quality DVD player, etc.). \n",
    "* To make this assessment, they are likely to activate a set of attributes that characterize members of this category and to search for information that can be encoded in terms of these attributes. \n",
    "* At the same time, they may be disposed to ignore information that is not interpretable in terms of category-consistent features."
   ]
  },
  {
   "cell_type": "markdown",
   "metadata": {},
   "source": [
    "## The Impact of Affect on Selective Attention"
   ]
  },
  {
   "cell_type": "markdown",
   "metadata": {},
   "source": [
    "* When people’s processing objectives do not bias the information to which they attend, goal-irrelevant factors may have an impact. One such factor may be the affective reactions that people happen to be experiencing at the time the information is received."
   ]
  },
  {
   "cell_type": "markdown",
   "metadata": {},
   "source": [
    "* The aforementioned studies converge on the conclusion that people with a specific subset of concepts accessible in memory (either because of a goal they are pursuing or for other, unrelated reasons) often give greater attention to aspects of information that can be easily encoded in terms of these concepts, and so the information has greater impact on judgments and decisions than it otherwise would."
   ]
  },
  {
   "cell_type": "markdown",
   "metadata": {},
   "source": [
    "## Categorical vs. Piecemeal Information Processing"
   ]
  },
  {
   "cell_type": "markdown",
   "metadata": {},
   "source": [
    "* The impact of affect on selective attention can result from other processes as well. Bless (2001)suggests that people who experience positive affect tend to use broader, categorical criteria for judgment than others do.\n",
    "* This could result from a more general disposition to perceive the world as unproblematic and, therefore, to believe it is unnecessary to consider information in detail in order to make a judgment (Schwarz & Clore, 1990). \n",
    "* In the consumer domain, this suggests a tendency for persons who experience positive affect to give more weight to global judgmental criteria (e.g.,brand name, country of origin, etc.) than to specific attribute information."
   ]
  },
  {
   "cell_type": "markdown",
   "metadata": {},
   "source": [
    "# THE INTERPRETATION OF AMBIGUOUS INFORMATION"
   ]
  },
  {
   "cell_type": "markdown",
   "metadata": {},
   "source": [
    "* Several examples of the effect of attribute concept accessibility on the interpretation of ambiguous information were provided in our general discussion of knowledge accessibility earlier in this chapter (cf. Bargh & Pietromonaco, 1982; Higgins et al., 1977; Srull & Wyer, 1979) and do not need to be reiterated. However, some additional considerations warrant further consideration."
   ]
  },
  {
   "cell_type": "markdown",
   "metadata": {},
   "source": [
    "# DIMENSIONAL VS. CATEGORY ACCESSIBILITY"
   ]
  },
  {
   "cell_type": "markdown",
   "metadata": {},
   "source": [
    "* Information can be ambiguous in terms of both the attribute dimension to which it pertains and the value it implies along this dimension (Higgins & Brendl, 1995). \n",
    "* The attribute information “50% more banana flavoring,” for example, has implications for both taste and healthfulness. \n",
    "* Along a dimension of taste, however, it could be interpreted either favorably (as sweet) or unfavorably (as too sweet). \n",
    "* The dimension along which the attribute description is interpreted may depend on whether health-related or taste-related concepts are more accessible in memory at the time."
   ]
  },
  {
   "cell_type": "markdown",
   "metadata": {},
   "source": [
    "* An additional consideration arises, however. People are likely to interpret the aforementioned product description more favorably if concepts associated with good taste have been primed than if concepts associated with bad taste have been primed. \n",
    "* However, the attribute’s implications along a dimension of healthfulness are unambiguously negative. In this case, what effect does priming “healthy” have, as opposed to priming “unhealthy?”"
   ]
  },
  {
   "cell_type": "markdown",
   "metadata": {},
   "source": [
    "* Many bipolar attribute concepts (“bad” vs. “good,”, “hot” vs. “cold, etc.) may be strongly associated in memory (Colombo & Williams, 1990). To this extent, priming one of these concepts may activate the second as well. In the present example, “healthy” and “unhealthy” might be strongly associated. \n",
    "* If this is so, priming both concepts might increase the tendency to interpret the attribute described by “50% more banana flavoring” as unhealthy."
   ]
  },
  {
   "cell_type": "markdown",
   "metadata": {},
   "source": [
    "# ASSIMILATION AND CONTRAST"
   ]
  },
  {
   "cell_type": "markdown",
   "metadata": {},
   "source": [
    "* Park et al’s (2001) study provides an example of conditions in which activating a concept can have a contrast effect on the interpretation of information. (That is, priming “healthy” led participants to judge the product as more unhealthy, and to evaluate it more unfavorably, than they otherwise would.) \n",
    "* However, contrast effects can also occur for other reasons. Herr (1986), for example, exposed participants to names of either moderately hostile individuals (e.g., Mohammed Ali) or extremely hostile persons (e.g., Adolf Hitler) before they evaluated a person whose behaviors were ambiguous with respect to hostility.\n",
    "* Although priming moderately hostile exemplars had a positive impact on participants’ judgments of the target’s hostility, priming extremely hostile exemplars had a contrast effect. "
   ]
  },
  {
   "cell_type": "markdown",
   "metadata": {},
   "source": [
    "#### There are two interpretations of these findings. \n",
    "\n",
    "* First, when the implications of a concept are so extreme that the concept cannot be applied to stimulus information, it may be used as a standard of comparison. \n",
    "    - As a result, the stimulus might be assigned a lower value along the dimension of judgment than it would if the standard were more moderate. \n",
    "* Second, standards of comparison are more likely to be used when the priming stimuli are people or objects of the same type as the target rather than general attribute concepts of the sort that were primed in the studies by Higgins and others (Moskowitz & Skurnik, 1999; Stapel & Koomen, 1997). "
   ]
  },
  {
   "cell_type": "markdown",
   "metadata": {},
   "source": [
    "# DESCRIPTIVE VS. EVALUATIVE ENCODING"
   ]
  },
  {
   "cell_type": "markdown",
   "metadata": {},
   "source": [
    "* The criteria that people bring to bear on the interpretation of information can be either descriptive or evaluative.\n",
    "* Thus, “stole a magazine from the newsstand” could be interpreted either as “dishonest” or, more generally, as “bad.” Similarly, “60 miles per gallon,” could be interpreted as either “fuel efficient” or “desirable.” \n",
    "* Normally, the concepts that are accessible at the time information is first interpreted are likely to influence evaluations only if they are descriptively applicable"
   ]
  },
  {
   "cell_type": "markdown",
   "metadata": {},
   "source": [
    "# GOAL-ACTIVATED PRIMING EFFECTS"
   ]
  },
  {
   "cell_type": "markdown",
   "metadata": {},
   "source": [
    "* To reiterate, people’s goals at the time they receive information can activate concepts that are relevant to these goals. \n",
    "* These concepts may influence not only which information they encode into memory, as noted in the preceding section (Snyder & Cantor, 1979) but also the interpretation of information to which the concepts apply. \n",
    "* their interpretation of the information in terms of goal-activated concepts was not spontaneous, but occurred only in the course of generating a goal-relevant message.\n",
    "* Once this interpretation was made, however, it affected participants’ own impression and evaluation of the target person, as implied by Principle 3."
   ]
  },
  {
   "cell_type": "markdown",
   "metadata": {},
   "source": [
    "# HIGHER ORDER COMPREHENSION PROCESSES"
   ]
  },
  {
   "cell_type": "markdown",
   "metadata": {},
   "source": [
    "* Chronic Accessibility of Knowledge\n",
    "* Framing Effects"
   ]
  },
  {
   "cell_type": "markdown",
   "metadata": {},
   "source": [
    "The preceding research focused on the effect of single concepts on the interpretation of single pieces of information. However, more complex bodies of knowledge can often influence the interpretation of new information. \n",
    "* This knowledge might be chronically accessible as a result of its frequent use in the social environment in which one participates on a daily basis. \n",
    "* On the other hand, situation- specific features that are contained in this knowledge could also activate it. "
   ]
  },
  {
   "cell_type": "markdown",
   "metadata": {},
   "source": [
    "## Chronic Accessibility of Knowledge"
   ]
  },
  {
   "cell_type": "markdown",
   "metadata": {},
   "source": [
    "* In an early study by Anderson, Reynolds, Schallert, and Goetz (1977), \n",
    "    - music education majors and physical education majors read a passage about a social interaction that could be interpreted as either a card game or the rehearsal of a woodwind ensemble \n",
    "    - (e.g., “...they couldn’t decide exactly what to play. Jerry eventually took a stand and set things up...Karen’s recorder filled the room with soft and pleasant music...finally, Mike said, ‘Let’s hear the score’...They listened carefully and commented on their performance.”) \n",
    "    - After reading the passage, participants were asked what the protagonists had commented on. \n",
    "    - Responses indicated that music majors were significantly more likely to interpret the interaction as a music rehearsal than physical education majors were. \n",
    "* The knowledge that is necessary to comprehend information can often be called to mind by a single word or phrase. In a study by Bransford, Barclay, and Franks (1972), \n",
    "    - participants were asked to learn sentences such as “The haystack was important because the cloth would rip,” “The notes were sour because the seam was split,” etc. \n",
    "    - Their memory for these ostensibly anomalous sentences was typically very poor. \n",
    "    - However, participants’ memory improved substantially when the sentences were preceded by with a single word (“parachute” and “bagpipes,” in the preceding examples). \n",
    "    - The word apparently stimulated the activation of a complex body of knowledge that permitted participants to construct a mental representation of the situation described by the sentence that followed it, thus giving the sentence meaning and facilitating memory for it.    "
   ]
  },
  {
   "cell_type": "markdown",
   "metadata": {},
   "source": [
    "## Framing Effects"
   ]
  },
  {
   "cell_type": "markdown",
   "metadata": {},
   "source": [
    "* The importance of Bransford’s work lies in its implication that simple words and phrases can prime quite diverse bodies of knowledge for use in interpreting information and construing its implica- tions. These effects can be reflected in not only memory but also judgments. "
   ]
  },
  {
   "cell_type": "markdown",
   "metadata": {},
   "source": [
    "1. If serum A is administered, 350 people will be saved. If serum B is administered, there is a 65% chance that everyone will be saved but a 35% chance that no one will be saved.\n",
    "2. If serum A is administered, 650 people will die. If serum B is administered, there is a 35% chance that everyone will die but a 65% chance that no one will die."
   ]
  },
  {
   "cell_type": "markdown",
   "metadata": {},
   "source": [
    "* Although the choice alternatives are identical, people are more likely to choose serum A in the first case, but serum B in the second. \n",
    "* Presumably the first set of alternatives stimulates people to think about living, and so people choose the alternative that guarantees this positive outcome. \n",
    "* However, the second set stimulates people to think about dying, and so they choose the alternative that has a chance of avoiding this negative fate."
   ]
  },
  {
   "cell_type": "markdown",
   "metadata": {},
   "source": [
    "# MEMORY PROCESSES"
   ]
  },
  {
   "cell_type": "markdown",
   "metadata": {},
   "source": [
    "The factors that influence the effect of knowledge accessibility on comprehension and judgment obviously exert this influence through their mediating effect on the concepts and cognitions that people retrieve from memory."
   ]
  },
  {
   "cell_type": "markdown",
   "metadata": {},
   "source": [
    "we focus on two memory phenomena: (1) the role of implicit theories on constructive and reconstructive memory, and (2) the interference of accessible knowledge representations on memory for the information on which these representations were based."
   ]
  },
  {
   "cell_type": "markdown",
   "metadata": {},
   "source": [
    "# THE ROLE OF IMPLICIT THEORIES ON RECONSTRUCTIVE MEMORY"
   ]
  },
  {
   "cell_type": "markdown",
   "metadata": {},
   "source": [
    "People may not pay equal attention to all details of an experience at the time it occurs. Moreover, unless the experience is particularly noteworthy, it may get “buried” among the large number of other experiences that people have in their daily lives."
   ]
  },
  {
   "cell_type": "markdown",
   "metadata": {},
   "source": [
    "In many cases, people may interpret these expe- riences in terms of an implicit theory they have acquired about the type of events that occurred. "
   ]
  },
  {
   "cell_type": "markdown",
   "metadata": {},
   "source": [
    "If such a theory is frequently used, it may become more accessible in memory than the experiences that it is used to interpret (Principle 2)."
   ]
  },
  {
   "cell_type": "markdown",
   "metadata": {},
   "source": [
    "Consequently, if people are called upon to remember the experience, they may reconstruct it on the basis of this theory without searching memory for a representation of the experience itself."
   ]
  },
  {
   "cell_type": "markdown",
   "metadata": {},
   "source": [
    "Studies by Michael Ross (1989) support this contention. For example, women’s recall of their mood swings during their most recent menstrual cycle were more highly correlated with their implicit theories of how they typically felt during their menstrual period than with the feelings they had actually reported at the time. In a second study (Conway & Ross, 1984), participants who received feedback about the results of a study skills training program recalled their pre-training ability to be lower if they believed that the training was effective than if they did not, independently of their actual improvement over the training period."
   ]
  },
  {
   "cell_type": "markdown",
   "metadata": {},
   "source": [
    "# INTERFERENCE OF ACCESSIBLE KNOWLEDGE ON MEMORY"
   ]
  },
  {
   "cell_type": "markdown",
   "metadata": {},
   "source": [
    "According to Principle 3, mental representations that have been formed from information are typi- cally more accessible in memory than the information on which they are based. Therefore, they tend to be used as a basis for reconstructing this information without recourse to the original material."
   ]
  },
  {
   "cell_type": "markdown",
   "metadata": {},
   "source": [
    "# INFERENCE AND EVALUATION PROCESSES"
   ]
  },
  {
   "cell_type": "markdown",
   "metadata": {},
   "source": [
    "# BELIEF ESTIMATION"
   ]
  },
  {
   "cell_type": "markdown",
   "metadata": {},
   "source": [
    "<img src=\"figures/eq2.1.png\" width=600 />\n",
    "<img src=\"figures/eq2.2.png\" width=600 />"
   ]
  },
  {
   "cell_type": "markdown",
   "metadata": {},
   "source": [
    "# FREQUENCY ESTIMATION"
   ]
  },
  {
   "cell_type": "markdown",
   "metadata": {},
   "source": [
    "* Perceptions of Social Reality\n",
    "* Additional Considerations"
   ]
  },
  {
   "cell_type": "markdown",
   "metadata": {},
   "source": [
    "## Perceptions of Social Reality"
   ]
  },
  {
   "cell_type": "markdown",
   "metadata": {},
   "source": [
    "## Additional Considerations"
   ]
  },
  {
   "cell_type": "markdown",
   "metadata": {},
   "source": [
    "# MAGNITUDE ESTIMATES"
   ]
  },
  {
   "cell_type": "markdown",
   "metadata": {},
   "source": [
    "* Estimates in Physical Stimulus Units\n",
    "* Subjective Magnitude Estimates"
   ]
  },
  {
   "cell_type": "markdown",
   "metadata": {},
   "source": [
    "## Estimates in Physical Stimulus Units"
   ]
  },
  {
   "cell_type": "markdown",
   "metadata": {},
   "source": [
    "## Subjective Magnitude Estimates"
   ]
  },
  {
   "cell_type": "markdown",
   "metadata": {},
   "source": [
    "# EVALUATIONS AND AFFECT-BASED JUDGMENTS"
   ]
  },
  {
   "cell_type": "markdown",
   "metadata": {},
   "source": [
    "* Effects of Extraneous Affect on Evaluations\n",
    "* Responses to Affect-Congruent Information\n",
    "* ffects of Brand-Elicited Affect"
   ]
  },
  {
   "cell_type": "markdown",
   "metadata": {},
   "source": [
    "## Effects of Extraneous Affect on Evaluations"
   ]
  },
  {
   "cell_type": "markdown",
   "metadata": {},
   "source": [
    "## Responses to Affect-Congruent Information"
   ]
  },
  {
   "cell_type": "markdown",
   "metadata": {},
   "source": [
    "## ffects of Brand-Elicited Affect"
   ]
  },
  {
   "cell_type": "markdown",
   "metadata": {},
   "source": [
    "# PREFERENCE JUDGMENTS"
   ]
  },
  {
   "cell_type": "markdown",
   "metadata": {},
   "source": [
    "# BEHAVIORAL DECISIONS"
   ]
  },
  {
   "cell_type": "markdown",
   "metadata": {},
   "source": [
    "# FFECTS OF BODILY FEEDBACK ON INFORMATION PROCESSING"
   ]
  },
  {
   "cell_type": "markdown",
   "metadata": {},
   "source": [
    "# CHAMELEON EFFECTS"
   ]
  },
  {
   "cell_type": "markdown",
   "metadata": {},
   "source": [
    "# IMPULSIVENESS"
   ]
  },
  {
   "cell_type": "markdown",
   "metadata": {},
   "source": [
    "# GOALS AND MOTIVES"
   ]
  },
  {
   "cell_type": "markdown",
   "metadata": {},
   "source": [
    "# CULTURAL AND SOCIAL INFLUENCES ON REGULATORY FOCUS"
   ]
  },
  {
   "cell_type": "markdown",
   "metadata": {},
   "source": [
    "* Cultural Influences on Goal Accessibility\n",
    "* Effects of Group Salience on Goal Accessibility"
   ]
  },
  {
   "cell_type": "markdown",
   "metadata": {},
   "source": [
    "## Cultural Influences on Goal Accessibility"
   ]
  },
  {
   "cell_type": "markdown",
   "metadata": {},
   "source": [
    "<img src=\"figures/fig2.1.png\" width=600 />"
   ]
  },
  {
   "cell_type": "markdown",
   "metadata": {},
   "source": [
    "## Effects of Group Salience on Goal Accessibility"
   ]
  },
  {
   "cell_type": "markdown",
   "metadata": {},
   "source": [
    "# EFFECTS OF TERROR MANAGEMENT ON MATERIALISTIC MOTIVES"
   ]
  },
  {
   "cell_type": "markdown",
   "metadata": {},
   "source": [
    "# THE INFLUENCE OF AFFECT ON GOAL-DIRECTED ACTIVITY"
   ]
  },
  {
   "cell_type": "markdown",
   "metadata": {},
   "source": [
    "# CONCLUDING COMMENT"
   ]
  },
  {
   "cell_type": "markdown",
   "metadata": {},
   "source": [
    "# 참고자료"
   ]
  },
  {
   "cell_type": "markdown",
   "metadata": {},
   "source": [
    "* [1] Handbook of Consumer Psychology - http://www.amazon.com/Handbook-Consumer-Psychology-Marketing/dp/080585603X"
   ]
  }
 ],
 "metadata": {
  "kernelspec": {
   "display_name": "Python 2",
   "language": "python",
   "name": "python2"
  },
  "language_info": {
   "codemirror_mode": {
    "name": "ipython",
    "version": 2
   },
   "file_extension": ".py",
   "mimetype": "text/x-python",
   "name": "python",
   "nbconvert_exporter": "python",
   "pygments_lexer": "ipython2",
   "version": "2.7.6"
  }
 },
 "nbformat": 4,
 "nbformat_minor": 0
}
