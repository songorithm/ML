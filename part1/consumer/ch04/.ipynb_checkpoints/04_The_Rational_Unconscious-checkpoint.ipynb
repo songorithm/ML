{
 "cells": [
  {
   "cell_type": "markdown",
   "metadata": {},
   "source": [
    "# 4. The Rational Unconscious: Conscious versus Unconscious Thought in Complex Consumer Choice"
   ]
  },
  {
   "cell_type": "markdown",
   "metadata": {},
   "source": [
    "# Contents"
   ]
  },
  {
   "cell_type": "markdown",
   "metadata": {},
   "source": [
    "* TWO WAYS TO LOOK AT RATIONALITY\n",
    "* CHOOSING WITHOUT CONSTRAINTS\n",
    "* THE PITFALLS OF CONSCIOUS DELIBERATION, PART 1 : HEURISTICS AND BIASES\n",
    "* THE PITFALLS OF CONSCIOUS DELIBERATION, PART 2 : POOR WEIGHTING\n",
    "* BOUNDED RATIONALITY OR BOUNDED CONSCIOUSNESS ?\n",
    "* UNCONSCIOUS THOUGHT\n",
    "* UNCONSCIOUS WEIGHTED ADDING, PART 1 : CAPACITY\n",
    "* UNCONSCIOUS WEIGHTED ADDING, PART 2 : WEIGHTING ITSELF\n",
    "* TOWARD EXPLAINING HOW\n",
    "* CONCLUSIONS"
   ]
  },
  {
   "cell_type": "markdown",
   "metadata": {},
   "source": [
    "# TWO WAYS TO LOOK AT RATIONALITY"
   ]
  },
  {
   "cell_type": "markdown",
   "metadata": {},
   "source": [
    "* There are two distinct ways to look at rationality with diverging consequences for how deci-\n",
    "sion making should be investigated. Broadly stated, one can make the distinction\n",
    "between rationality from a normative viewpoint and rationality from a subjective\n",
    "viewpoint. Evans and Over (1996, 1997; see also Chater, Oaksford, Nakisa, &\n",
    "Redington, 2003) defined the normative version as follows: “Thinking, speaking,\n",
    "reasoning, making a decision, or acting when one has a reason for what one does\n",
    "sanctioned by a normative theory” (Evans & Over, 1997, p. 2, italics added). The\n",
    "second definition they offer is more subjective: “Thinking, speaking, reasoning,\n",
    "making a decision, or acting in a way that is generally reliable and efficient for\n",
    "achieving one’s goals” (Evans & Over, 1997, p. 2, italics added).1\n"
   ]
  },
  {
   "cell_type": "markdown",
   "metadata": {},
   "source": [
    "For a long time, the first, normative, definition was the one favored by research-\n",
    "ers interested in decision making. However, preferences seem to be shifting and\n",
    "various people opt for use of the second, subjective, definition (e.g., Evans & Over,\n",
    "1997; Gigerenzer & Goldstein, 1996; Stanovich & West, 1999)\n"
   ]
  },
  {
   "cell_type": "markdown",
   "metadata": {},
   "source": [
    "A big problem with\n",
    "using a normative definition is that it irrevocably leads to the somewhat sobering\n",
    "conclusion that human decision makers are often highly irrational. The number of\n",
    "well-documented phenomena on human decision making that show violations of\n",
    "rationality is humongous (Kahneman & Tversky, 2000; Shafir & LeBoeuf, 2002).\n"
   ]
  },
  {
   "cell_type": "markdown",
   "metadata": {},
   "source": [
    "This is insightful, but it also strongly suggests it is illuminating (though also more\n",
    "difficult) to pay more attention to people’s own goals and standards. It does us\n",
    "more justice\n",
    "\n",
    "More importantly, it makes more sense from both a psychological\n",
    "and from an evolutionary perspective to use a subjective definition (Cosmides &\n",
    "Tooby, 1996). Evolution cares about whether people achieve their goals (especially\n",
    "the most basic ones such as to find food, to avoid danger, or to procreate) and psy-\n",
    "chology—to some extent at least—reflects these priorities. Conversely, normative\n",
    "demands such as “logic” or “consistency” are concerns that are at best indirectly\n",
    "related to evolutionary development.\n"
   ]
  },
  {
   "cell_type": "markdown",
   "metadata": {},
   "source": [
    "# CHOOSING WITHOUT CONSTRAINTS"
   ]
  },
  {
   "cell_type": "markdown",
   "metadata": {},
   "source": [
    "When we compare decisions people make to standards of subjective rationality,\n",
    "what can we conclude?\n"
   ]
  },
  {
   "cell_type": "markdown",
   "metadata": {},
   "source": [
    "First, it is important to realize that a subjective definition\n",
    "of rationality does not necessarily imply that the standards we compare people to\n",
    "are less extreme or taxing.\n"
   ]
  },
  {
   "cell_type": "code",
   "execution_count": null,
   "metadata": {
    "collapsed": true
   },
   "outputs": [],
   "source": [
    "Some have argued that normative rational standards\n",
    "are simply too demanding in that they are unrealistic in their level of perfection\n",
    "(e.g., Gigerenzer & Todd, 1999).\n"
   ]
  },
  {
   "cell_type": "code",
   "execution_count": null,
   "metadata": {
    "collapsed": true
   },
   "outputs": [],
   "source": [
    "There is no doubt that this is true, but a subjective\n",
    "definition of rationality in terms of the degree to which a decision or choice fulfills\n",
    "people’s goals can be made just as extreme or unrealistic.\n"
   ]
  },
  {
   "cell_type": "code",
   "execution_count": null,
   "metadata": {
    "collapsed": true
   },
   "outputs": [],
   "source": [
    " It simply depends on the goals."
   ]
  },
  {
   "cell_type": "code",
   "execution_count": null,
   "metadata": {
    "collapsed": true
   },
   "outputs": [],
   "source": [
    "If we are willing to assume that people generally make certain choices in the\n",
    "hope that it will increase happiness or satisfaction in the future, one could conclude\n",
    "that the vast majority of choices people make are not very rational because they\n",
    "almost always fail to unleash happiness. Buying a new set of towels or oven mitts\n",
    "will not change happiness or life satisfaction in a significant and enduring way.\n"
   ]
  },
  {
   "cell_type": "code",
   "execution_count": null,
   "metadata": {
    "collapsed": true
   },
   "outputs": [],
   "source": [
    "That being said, sometimes we do make choices that do impact happiness in\n",
    "pronounced ways, such as when we choose between jobs or houses.\n"
   ]
  },
  {
   "cell_type": "code",
   "execution_count": null,
   "metadata": {
    "collapsed": true
   },
   "outputs": [],
   "source": [
    "The question\n",
    "we want to address here is how we should approach such choices, with the criterion\n",
    "of maximizing subjective rationality.\n"
   ]
  },
  {
   "cell_type": "code",
   "execution_count": null,
   "metadata": {
    "collapsed": true
   },
   "outputs": [],
   "source": [
    "Which decision strategy leads us to fulfill our\n",
    "goals?\n"
   ]
  },
  {
   "cell_type": "code",
   "execution_count": null,
   "metadata": {
    "collapsed": true
   },
   "outputs": [],
   "source": [
    "In other words, when we face a complex, important decision, how should\n",
    "we deal with it in order for the outcome to be highly rewarding, for it to maximize\n",
    "happiness and to minimize negative emotions such as regret?\n"
   ]
  },
  {
   "cell_type": "code",
   "execution_count": null,
   "metadata": {
    "collapsed": true
   },
   "outputs": [],
   "source": [
    "Let us start with a thought experiment, in which we are allowed to choose\n",
    "without any of the usual psychological constraints.\n"
   ]
  },
  {
   "cell_type": "code",
   "execution_count": null,
   "metadata": {
    "collapsed": true
   },
   "outputs": [],
   "source": [
    "There is no time pressure and\n",
    "there are no computational constraints. Furthermore, we have all the information\n",
    "relevant for the choice at hand.\n"
   ]
  },
  {
   "cell_type": "code",
   "execution_count": null,
   "metadata": {
    "collapsed": true
   },
   "outputs": [],
   "source": [
    "Most people would agree we should engage in what is often called the weighted\n",
    "adding strategy \n"
   ]
  },
  {
   "cell_type": "code",
   "execution_count": null,
   "metadata": {
    "collapsed": true
   },
   "outputs": [],
   "source": [
    "In this strategy, the chooser first weights the relative importance of various\n",
    "attributes, such as the water temperature, the size of the balcony of the hotel room,\n",
    "or the availability of cereal for breakfast in the hotel. Subsequently, choice alterna-\n",
    "tives are assigned values for each of these attributes (“Excellent, no problems on\n",
    "the cereal front. Cereal is banned in the Seychelles.”). Finally, these values are, for\n",
    "each choice alternative, multiplied by the relative importance. The resulting scores\n",
    "represent the utility or relative desirability of each alternative.\n"
   ]
  },
  {
   "cell_type": "code",
   "execution_count": null,
   "metadata": {
    "collapsed": true
   },
   "outputs": [],
   "source": [
    "The problem with the weighted adding strategy is that it is very demanding.\n"
   ]
  },
  {
   "cell_type": "code",
   "execution_count": null,
   "metadata": {
    "collapsed": true
   },
   "outputs": [],
   "source": [
    "Our computational abilities are limited, we are often pressured for time and\n",
    "resources, and we often have to choose between alternatives in the absence of\n",
    "(part of) the relevant information.\n"
   ]
  },
  {
   "cell_type": "code",
   "execution_count": null,
   "metadata": {
    "collapsed": true
   },
   "outputs": [],
   "source": [
    "Indeed, most theorists would agree that the\n",
    "weighted adding strategy is nothing more than an interesting ideal, but that it\n",
    "does not constitute a useful tool in real life. \n"
   ]
  },
  {
   "cell_type": "markdown",
   "metadata": {},
   "source": [
    "This conclusion notwithstanding, in the present paper our goal is to try to advo-\n",
    "cate weighted adding as a useful decision-making tool. \n"
   ]
  },
  {
   "cell_type": "code",
   "execution_count": null,
   "metadata": {
    "collapsed": true
   },
   "outputs": [],
   "source": [
    "However, we argue that it is not so much weighted adding itself that is out of reach\n",
    "for people. Instead, poor performance is often caused by the fact that people rely\n",
    "too much on conscious deliberation.\n"
   ]
  },
  {
   "cell_type": "code",
   "execution_count": null,
   "metadata": {
    "collapsed": true
   },
   "outputs": [],
   "source": [
    "Most people believe, explicitly or implicitly,\n",
    "that the more one consciously deliberates about a choice, the closer one can come\n",
    "to the ideal of weighted adding.\n"
   ]
  },
  {
   "cell_type": "markdown",
   "metadata": {},
   "source": [
    "Our thesis is that this belief is unjustified, and\n",
    "that, ironically, weighted adding becomes more attainable the more we rely on\n",
    "unconscious processes.\n"
   ]
  },
  {
   "cell_type": "code",
   "execution_count": null,
   "metadata": {
    "collapsed": true
   },
   "outputs": [],
   "source": [
    "In the remainder of this chapter, we first discuss the problems we face when we\n",
    "apply conscious thought or conscious deliberation to complex choice tasks.\n"
   ]
  },
  {
   "cell_type": "code",
   "execution_count": null,
   "metadata": {
    "collapsed": true
   },
   "outputs": [],
   "source": [
    "In doing\n",
    "this, we start out by discussing the relation between conscious thought and the\n",
    "biasing effects of heuristics on choice. \n"
   ]
  },
  {
   "cell_type": "code",
   "execution_count": null,
   "metadata": {
    "collapsed": true
   },
   "outputs": [],
   "source": [
    "Subsequently, we give more direct examples\n",
    "of poor weighting as a consequence of conscious thought.\n"
   ]
  },
  {
   "cell_type": "code",
   "execution_count": null,
   "metadata": {
    "collapsed": true
   },
   "outputs": [],
   "source": [
    "In the second part of this\n",
    "chapter we discuss the potential benefits of employing the unconscious.\n"
   ]
  },
  {
   "cell_type": "markdown",
   "metadata": {},
   "source": [
    "# THE PITFALLS OF CONSCIOUS DELIBERATION, PART 1 : HEURISTICS AND BIASES"
   ]
  },
  {
   "cell_type": "code",
   "execution_count": null,
   "metadata": {
    "collapsed": true
   },
   "outputs": [],
   "source": [
    "A common finding in the literature on decision making is that people are vulner-\n",
    "able to the influence of how decision problems are framed.\n"
   ]
  },
  {
   "cell_type": "code",
   "execution_count": null,
   "metadata": {
    "collapsed": true
   },
   "outputs": [],
   "source": [
    "Tversky and Kahneman\n",
    "(1981; see also Kahneman & Tversky, 1979) discovered that whether choice out-\n",
    "comes are framed in terms of gains or losses has a profound effect on choice.\n"
   ]
  },
  {
   "cell_type": "code",
   "execution_count": null,
   "metadata": {
    "collapsed": true
   },
   "outputs": [],
   "source": [
    "The\n",
    "well-known “Asian disease” problem provides a good example. Assume 600 people\n",
    "are infected with a disease. You have to choose between two intervention pro-\n",
    "grams, both framed in terms of gains: With program A, you save 200 people. With\n",
    "program B, you have a 1/3 chance you save all 600 people, and a 2/3 chance no\n",
    "one will be saved. Faced with this dilemma, most people avoid risk and choose\n",
    "program A. However, one can also frame the choice in terms of losses: With pro-\n",
    "gram A, 400 people will die. With program B you have a 1/3 chance no one will\n",
    "die, and a 2/3 chance all will die. In this case, most people choose to be risky and\n",
    "select program B.\n"
   ]
  },
  {
   "cell_type": "code",
   "execution_count": null,
   "metadata": {
    "collapsed": true
   },
   "outputs": [],
   "source": [
    "There is no rational argument for the influence of framing in such a context. In\n",
    "fact, the two decision problems are exactly the same.\n"
   ]
  },
  {
   "cell_type": "code",
   "execution_count": null,
   "metadata": {
    "collapsed": true
   },
   "outputs": [],
   "source": [
    " Now can one prevent framing\n",
    "effects by asking people to engage in more conscious thought? Can deliberation\n",
    "inhibit this odd bias?\n"
   ]
  },
  {
   "cell_type": "code",
   "execution_count": null,
   "metadata": {
    "collapsed": true
   },
   "outputs": [],
   "source": [
    "Igou and Bless (in press) tested the relation between amount of conscious thought\n",
    "and framing effects\n"
   ]
  },
  {
   "cell_type": "code",
   "execution_count": null,
   "metadata": {
    "collapsed": true
   },
   "outputs": [],
   "source": [
    "Interestingly, they found the opposite of what one may have\n",
    "expectedly intuitively. In various experiments, it was shown that more conscious\n",
    "thought led to more pronounced framing effects.\n"
   ]
  },
  {
   "cell_type": "code",
   "execution_count": null,
   "metadata": {
    "collapsed": true
   },
   "outputs": [],
   "source": [
    "In general, there is strong evidence demonstrating that more motivation to\n",
    "deliberate does not simply lead to better choices.\n"
   ]
  },
  {
   "cell_type": "markdown",
   "metadata": {},
   "source": [
    "Although\n",
    "they found that motivation occasionally helps, it can just as well hinder choosing.\n",
    "The problem is that whatever the decision problem is, people always have to apply\n",
    "the right strategy to solve it. More motivation may occasionally help, but often it\n",
    "just leads to more enthusiastic application of a wrong strategy, thereby rendering\n",
    "choices to become inferior\n"
   ]
  },
  {
   "cell_type": "markdown",
   "metadata": {},
   "source": [
    "For instance, some were confronted with the “hospital problem” as used by Kahneman and Tversky (1972, page 443), which reads as follows:"
   ]
  },
  {
   "cell_type": "markdown",
   "metadata": {},
   "source": [
    "A certain town is served by two hospitals. In the larger hospital, about 45 babies are born each day, and in the smaller hospital, about 15 babies are born each day. As you know, about 50% of all babies are boys. Sometimes it is higher than 50%, sometimes lower. For a period of one year, each hospital recorded the number of days on which more than 60% of the babies born were boys. Which hospital do you think recorded more such days? (A) the larger hospital, (B) the smaller hospital, or (C) about the same.\n"
   ]
  },
  {
   "cell_type": "markdown",
   "metadata": {},
   "source": [
    "As outcomes that deviate from normal (i.e., expected) probabilities are more likely to occur the smaller the sample is, answer B is the right answer. however, 56% of the original Kahneman and Tversky participants chose C. "
   ]
  },
  {
   "cell_type": "markdown",
   "metadata": {},
   "source": [
    "Pelham and Neter gave some of their participants this hospital problem, but gave others an eas- ier, very transparent version. In this transparent version, the smaller hospital had “only 2” babies per day (rather than 15), and each hospital recorded the number of days on which all (100%) of the babies born were boys (rather than 60%)."
   ]
  },
  {
   "cell_type": "markdown",
   "metadata": {},
   "source": [
    "Importantly, some people were simply asked to solve the problems, whereas others were strongly motivated to solve the problems accurately. As it turned out, this increased motivation helped participants to be more accurate on the easy,transparent problem, but it hindered solving the complex problems."
   ]
  },
  {
   "cell_type": "markdown",
   "metadata": {},
   "source": [
    "If one is will- ing to make the rather safe assumption that the motivated participants engaged in more and/or more thorough conscious thinking, it means that conscious thought led to poor decisions. "
   ]
  },
  {
   "cell_type": "markdown",
   "metadata": {},
   "source": [
    "The reason is that more motivation led people to rely even more on the wrong heuristic. If all one is given is a wrong heuristic, more motivation, or more thinking, only leads to more use of that wrong heuristic. "
   ]
  },
  {
   "cell_type": "markdown",
   "metadata": {},
   "source": [
    "Finally, in our own lab we once tested the role of time of conscious thought on the biasing effects of yet another heuristic, the availability heuristic (Tversky & Kahneman, 1973). "
   ]
  },
  {
   "cell_type": "markdown",
   "metadata": {},
   "source": [
    "When people have to apply a heuristic to solve a problem, and when no alternative strategies are available, harder work can lead to only more use of the heuristic. And when the use of the heuristic leads to errors, greater use leads to greater errors."
   ]
  },
  {
   "cell_type": "markdown",
   "metadata": {},
   "source": [
    "AIDS, traffic accidents, and homicide"
   ]
  },
  {
   "cell_type": "markdown",
   "metadata": {},
   "source": [
    "Participants were asked either to come up with a number for each cause within 12 seconds or to think care- fully and were given 45 seconds per cause."
   ]
  },
  {
   "cell_type": "markdown",
   "metadata": {},
   "source": [
    "As expected, people who thought extensively for 45 seconds per cause indeed showed this effect, whereas people who had to estimate within 12 seconds hardly showed signs of the availability heuristic. "
   ]
  },
  {
   "cell_type": "markdown",
   "metadata": {},
   "source": [
    "# THE PITFALLS OF CONSCIOUS DELIBERATION, PART 2 : POOR WEIGHTING"
   ]
  },
  {
   "cell_type": "markdown",
   "metadata": {},
   "source": [
    "Whereas the work described in the previous section shows the negative effects of conscious thought on various aspects of decision making, there is also evidence that is related even more directly with the theme of this chapter: "
   ]
  },
  {
   "cell_type": "markdown",
   "metadata": {},
   "source": [
    "the human (in) ability to engage in weighted adding. Again, whereas we know that proper weighted adding is difficult, most people also believe that we can come closer to achieving proper weighted adding by more conscious deliberation. however, this is simply not true."
   ]
  },
  {
   "cell_type": "markdown",
   "metadata": {},
   "source": [
    "Recently, one of us read a newspaper article that documented an interesting example of what we may call a “weighting error.” When buying a house, one trade- off people have to make is between the size of the house and the length of the daily commute to work. Most people (note that the example comes from a Dutch newspaper) work in city centers. As city centers are expensive, a preference for a short commute by necessity means one is forced to buy a small house or apart- ment. Large houses are affordable, but only for those who are willing to live in the countryside and to face a long commute. It seems that many people think about this trade-off, and many eventually choose the large house. After all, a third bath- room is very important for when grandma and grandpa come over for Christmas,whereas driving two hours each day is really not that bad. Anecdotal evidence has it that a lot of these people come to regret their choice. A third bathroom is a completely superfluous asset for at least 362 or 363 days each year, whereas a long commute does become a burden after a while. Recent evidence (Stutzer & Frey, 2007) shows that people with longer commuting time report systematically lower subjective well-being."
   ]
  },
  {
   "cell_type": "code",
   "execution_count": null,
   "metadata": {
    "collapsed": true
   },
   "outputs": [],
   "source": [
    "Empirical demonstrations of such weighting biases abound."
   ]
  },
  {
   "cell_type": "markdown",
   "metadata": {},
   "source": [
    "Their experiment is as simple as it is illuminating. Participants went through two unpleasant experiences: They had to put their hand in very cold water for one minute, and they had to put their hand in the water for 90 seconds, whereby the last half-minute was somewhat less cold, but still unpleasant. If asked which experience they would want to repeat, most participants chose the longer period. Participants neglected the duration and pre- ferred the option with more overall pain, but with less pain on average. Additional research (e.g., Redelmeier & Kahneman, 1996) showed that people use a “peak- end” rule to assess pleasantness of unpleasantness of an experience. The extent to which a past experience is good or bad is based on the most intense part of the experience and on the intensity at the end of the experience."
   ]
  },
  {
   "cell_type": "markdown",
   "metadata": {},
   "source": [
    "When people are asked to estimate their emotional reactions to important events, they tend to think these reactions are more intense and more enduring than they really are. "
   ]
  },
  {
   "cell_type": "markdown",
   "metadata": {},
   "source": [
    "Wilson and colleagues (e.g., Wilson & Schooler, 1991; Wilson et al., 1993; see also Levine, halbertstadt, & Goldstone, 1996) have demonstrated that conscious contemplation disturbs what they called “natural weighting schemes.” "
   ]
  },
  {
   "cell_type": "markdown",
   "metadata": {},
   "source": [
    "In one well- known experiment, Wilson and colleagues (1993) compared postchoice satisfaction of people who chose from five different art posters. Some participants had been merely asked to choose, whereas others had been asked to deliberate. More specifi- cally, they had been asked to scrutinize the reasons for their preference carefully. The expectations of the experimenters were confirmed a few weeks later when postchoice satisfaction was assessed. People who engaged in thorough conscious thought were less happy with their choice. Wilson and colleagues (1993, p. 332) attributed this to suboptimal weighing: “Introspection ... can change an optimal weighing scheme into a suboptimal one. When people analyze reasons, they might focus on those attributes of the attitude object that seem like plausible causes of the evaluations but were not weighted heavily before.” Conscious thought leads people to put disproportionate weight on attributes that are accessible, plausible, and easy to verbalize (see also Schooler, Ohlsson, & Brooks, 1993), and therefore too little weight on other attributes."
   ]
  },
  {
   "cell_type": "markdown",
   "metadata": {},
   "source": [
    "Another problem is that decision makers seem to be often inconsistent in their weighting. They may be inconsistent either over time or between different con- texts. The phenomenon of “preference reversal” demonstrates this."
   ]
  },
  {
   "cell_type": "markdown",
   "metadata": {},
   "source": [
    "What would you prefer, bet A with a 29/36 probability of winning 2 Euros, or bet B with a 7/36 probability of winning 9 Euros? If you are like most people, you prefer Bet A. however, if you ask people what they would be willing to pay for either of these bets, the majority finds bet B to be more valuable (see Tversky, Sattath, & Slovic, 1988; Tversky, Slovic, & Kahneman, 1990, for more information on why this bias occurs). hsee (1996) showed that such inconsistencies can also be caused by the context. "
   ]
  },
  {
   "cell_type": "markdown",
   "metadata": {},
   "source": [
    "When people compare two dictionaries, a torn one with 20,000 entries and a brand new one with 10,000 entries, most people prefer the torn one. however, when different people judge them separately, the new one with the lower number of entries is generally seen as more valuable."
   ]
  },
  {
   "cell_type": "markdown",
   "metadata": {},
   "source": [
    "In experiments by Levine, halberstadt, and Goldstone (1996), participants had to evaluate a large number of faces that varied along six dimensions (such as the shape of the nose). Participants either merely evaluated these faces or had to think about the reasons for their evaluations before doing so. Of interest to the experi- menters was the way people used and weighted the six dimensions to evaluate the faces. The data clearly demonstrated that conscious thought made weighting more varied and inconsistent."
   ]
  },
  {
   "cell_type": "markdown",
   "metadata": {},
   "source": [
    "In a series of experiments by Nordgren and Dijksterhuis (2007) participants were asked to make a variety of judgments including the attractiveness of Chinese ideograms or the extraversion of people on the basis of their faces. however, par- ticipants judged the exact same stimuli twice, sometimes after a 45-minute delay, in other cases after weeks. Importantly, some participants were asked to judge quickly, whereas others were asked to engage in thorough conscious thought."
   ]
  },
  {
   "cell_type": "markdown",
   "metadata": {},
   "source": [
    "People who engaged in thorough conscious thought showed more rather than less inconsistency. Quick “gut” judgments were clearly more consistent over time than judgments that were made after conscious reasoning. In addition, conscious rea- soning did not lead to better judgments."
   ]
  },
  {
   "cell_type": "markdown",
   "metadata": {},
   "source": [
    "human decision mak- ing is prone to serious errors and oddities."
   ]
  },
  {
   "cell_type": "markdown",
   "metadata": {},
   "source": [
    "An intuitive reaction may be to blame such errors on people’s lack of motivation to engage in serious conscious thought."
   ]
  },
  {
   "cell_type": "markdown",
   "metadata": {},
   "source": [
    "Cannot we avoid such errors if we just deliberate a little more? "
   ]
  },
  {
   "cell_type": "markdown",
   "metadata": {},
   "source": [
    "Often conscious thought does not help, and sometimes it actually makes matters worse."
   ]
  },
  {
   "cell_type": "markdown",
   "metadata": {},
   "source": [
    "The bottom-line is that the relation between conscious thought and quality of decision making is complicated, with multiple moderators affecting whether deliberation helps or hinders (e.g., Dijksterhuis & Nordgren, 2006; Lerner & Tetlock, 1999; Wilson & Schooler, 1991)."
   ]
  },
  {
   "cell_type": "markdown",
   "metadata": {},
   "source": [
    "# BOUNDED RATIONALITY OR BOUNDED CONSCIOUSNESS ?"
   ]
  },
  {
   "cell_type": "markdown",
   "metadata": {},
   "source": [
    "As we said before, treating weighted adding as an unrealistic ideal may be like throwing the baby out with the bathwater."
   ]
  },
  {
   "cell_type": "markdown",
   "metadata": {},
   "source": [
    "The fact that consciousness sometimes does such a poor job does not yet mean people cannot engage in any weighted adding at all, as we have other means than our conscious processes."
   ]
  },
  {
   "cell_type": "markdown",
   "metadata": {},
   "source": [
    "Our rational- ity is bounded (Simon, 1955), but this is at least in part caused by the fact that consciousness is bounded."
   ]
  },
  {
   "cell_type": "markdown",
   "metadata": {},
   "source": [
    "A simple analysis of what is needed for proper weighted adding combined with an analysis of what we know about consciousness makes it transparent why conscious thought is not all that suitable for weighted adding (for a more elaborate discussion, see Dijksterhuis & Nordgren, 2006)."
   ]
  },
  {
   "cell_type": "markdown",
   "metadata": {},
   "source": [
    "First, in order to engage in weighted adding for a complex choice (e.g., compar- ing three holiday destinations on a large number of dimensions) one needs quite a bit of processing capacity. "
   ]
  },
  {
   "cell_type": "markdown",
   "metadata": {},
   "source": [
    "One could help capacity by writing attributes on a list, but most people will still spend at least some time thinking about a complex choice in the absence of such a list. This is potentially problematic, because one cannot fit much information in consciousness at the same time."
   ]
  },
  {
   "cell_type": "markdown",
   "metadata": {},
   "source": [
    "One can think about a single attribute (“The hotel on the Seychelles provides a better breakfast than the hotel on Bora Bora”), but a simultaneous consideration of a lot of information is impos- sible for consciousness."
   ]
  },
  {
   "cell_type": "markdown",
   "metadata": {},
   "source": [
    "Even more important than capacity is the ability to weight the importance of attributes itself. "
   ]
  },
  {
   "cell_type": "markdown",
   "metadata": {},
   "source": [
    "In a sense, one could argue that for proper weighting, two things are needed. "
   ]
  },
  {
   "cell_type": "markdown",
   "metadata": {},
   "source": [
    "The first is obvious: the capacity to establish proper weights based on diagnostic information. "
   ]
  },
  {
   "cell_type": "markdown",
   "metadata": {},
   "source": [
    "The second is that once such weights are established (or perhaps while establishing these weights), one should refrain from allowing noise to interfere with this process. "
   ]
  },
  {
   "cell_type": "markdown",
   "metadata": {},
   "source": [
    "Like Wilson and colleagues (Wilson & Schooler, 1991), we believe that consciousness does interfere"
   ]
  },
  {
   "cell_type": "code",
   "execution_count": null,
   "metadata": {
    "collapsed": true
   },
   "outputs": [],
   "source": [
    "In the previous sections, we have given some examples of noise introduced by conscious thought."
   ]
  },
  {
   "cell_type": "markdown",
   "metadata": {},
   "source": [
    "First, Wilson and colleagues showed that we rely more on attributes that are verbalizable, accessible, and plausible and less on attributes that do not qualify as such."
   ]
  },
  {
   "cell_type": "markdown",
   "metadata": {},
   "source": [
    "Language is consciousness’s favorite tool, so it is no wonder that conscious thought leads to a restriction to information that is verbalizable."
   ]
  },
  {
   "cell_type": "markdown",
   "metadata": {},
   "source": [
    "For most people, a laptop is a good example, as it really amounts to comparing verbalizable, usually numerical specifications. "
   ]
  },
  {
   "cell_type": "markdown",
   "metadata": {},
   "source": [
    "however, it can also have consequences that are highly problematic, as especially our most important choices (partner, job, house) do and should at least in part rely on attributes that are not easy to verbalize. "
   ]
  },
  {
   "cell_type": "markdown",
   "metadata": {},
   "source": [
    "Second, as we have seen, more conscious thought sometimes leads us to rely even more on (contextual) information that we should really ignore, such as gain/ loss frames. "
   ]
  },
  {
   "cell_type": "markdown",
   "metadata": {},
   "source": [
    "In an interesting experiment, Simonson asked students to choose one of six snacks they could con- sume in three future classes. If students choose before each class, they generally choose their same favorite snack over and over again. however, if students have to choose three snacks for three future classes at once, they more often opt for vari- ety. Students base this choice on the generally erroneous theory that it is nicer to have variety rather than to stick to the same snack."
   ]
  },
  {
   "cell_type": "markdown",
   "metadata": {},
   "source": [
    "Students base this choice on the generally erroneous theory that it is nicer to have variety rather than to stick to the same snack. Plausible as this may sound, it really makes more sense to choose the same favorite snack. It is your favorite after all, and it is highly likely it will be your favorite tomorrow and next week. Indeed, Simonson showed that students who opted for variety later experienced regret."
   ]
  },
  {
   "cell_type": "markdown",
   "metadata": {},
   "source": [
    "To recapitulate, conscious thought is not a good instrument for weighted add- ing. The capacity of consciousness is low, making it difficult to deal with complex problems. Moreover, conscious thought introduces a number of biases that can lead to very poor assessments of the relative importance of attributes."
   ]
  },
  {
   "cell_type": "markdown",
   "metadata": {},
   "source": [
    "# UNCONSCIOUS THOUGHT"
   ]
  },
  {
   "cell_type": "markdown",
   "metadata": {},
   "source": [
    "The idea for unconscious thought was partly derived from old work on incubation."
   ]
  },
  {
   "cell_type": "markdown",
   "metadata": {},
   "source": [
    "The process of incubation is especially relevant for creativity and prob- lem solving."
   ]
  },
  {
   "cell_type": "markdown",
   "metadata": {},
   "source": [
    "After an initial period during which people gather information, it is at times not fruitful to continue to concentrate on a problem consciously. "
   ]
  },
  {
   "cell_type": "markdown",
   "metadata": {},
   "source": [
    "Instead, a period during which the unconscious can think while conscious attention is directed elsewhere—in other words, a period of incubation—is often helpful."
   ]
  },
  {
   "cell_type": "markdown",
   "metadata": {},
   "source": [
    "The key distinction between conscious thought (what we associate with normal thought) and unconscious thought is based on attention. "
   ]
  },
  {
   "cell_type": "markdown",
   "metadata": {},
   "source": [
    "Conscious thought refers to the cognitive and/or affective task-relevant pro- cesses one is consciously aware of while attending to a task. For instance, one may compare two holiday destinations and consciously think “The Spanish coast is cheap but I do not want to go there because it is way too crowded.” "
   ]
  },
  {
   "cell_type": "markdown",
   "metadata": {},
   "source": [
    "Unconscious thought, on the other hand, refers to cognitive and/or affective task-relevant processes that take place outside of conscious awareness. One may compare two holiday destinations and not know which one to choose. Subsequently, one does not consciously attend to the problem for a few days, and suddenly the thought “It’s going to be Tuscany!” pops into mind. This thought itself is conscious, but the transition from indecision to a preference a few days later is the result of unconscious thought. (Dijksterhuis, 2004, pp. 586–587)3"
   ]
  },
  {
   "cell_type": "markdown",
   "metadata": {},
   "source": [
    "Recently, we formulated a theory called Unconscious Thought Theory (Dijksterhuis & Nordgren, 2006) about the strength and weaknesses of both unconscious and conscious thought."
   ]
  },
  {
   "cell_type": "markdown",
   "metadata": {},
   "source": [
    "We started our research by comparing conscious and unconscious thought in the context of decision making"
   ]
  },
  {
   "cell_type": "code",
   "execution_count": null,
   "metadata": {
    "collapsed": true
   },
   "outputs": [],
   "source": [
    "In the first series of experi- ments, we did the following: "
   ]
  },
  {
   "cell_type": "code",
   "execution_count": null,
   "metadata": {
    "collapsed": true
   },
   "outputs": [],
   "source": [
    "First, participants read information pertaining to a choice problem."
   ]
  },
  {
   "cell_type": "markdown",
   "metadata": {},
   "source": [
    "For instance, they would be presented with information about four different apartments, whereby each apartment was described by 12 different aspects. We rigged the information in such a way that one apartment had much more positive attributes (and therefore less negative) than the others. After partici- pants had read all the information, some were asked to choose between the apart- ments immediately. "
   ]
  },
  {
   "cell_type": "markdown",
   "metadata": {},
   "source": [
    "Others were given some time to consciously think before they chose, whereas a third group was distracted for a while after which they were asked to choose. "
   ]
  },
  {
   "cell_type": "markdown",
   "metadata": {},
   "source": [
    "Participants in this latter group were hypothesized to engage in uncon- scious thought."
   ]
  },
  {
   "cell_type": "markdown",
   "metadata": {},
   "source": [
    "What we generally found with this paradigm is that unconscious thinkers make better decisions than either conscious thinkers or immediate choos- ers (for more details, see Dijksterhuis, 2004; Dijksterhuis, Bos, Nordgren, & van Baaren, 2006; Dijksterhuis & Nordgren, 2006)."
   ]
  },
  {
   "cell_type": "markdown",
   "metadata": {},
   "source": [
    "Moreover, we have also obtained the effects for participants who chose an actual object (such as a poster) rather than a hypothetical one and whereby quality of choice was operationalized as pos- tchoice satisfaction (Dijksterhuis et al., 2006; Dijksterhuis & van Olden, 2006). We dubbed the effect that unconscious thought improves decisions the “deliberation- without-attention effect” (Dijksterhuis et al., 2006).4"
   ]
  },
  {
   "cell_type": "markdown",
   "metadata": {},
   "source": [
    "In addition, unconscious thought is an active process."
   ]
  },
  {
   "cell_type": "markdown",
   "metadata": {},
   "source": [
    "Some have argued that the increase in quality of a decision after unconscious thought is merely caused by distraction."
   ]
  },
  {
   "cell_type": "markdown",
   "metadata": {},
   "source": [
    "That is, an alternative explanation for our effects in the unconscious thought conditions is the process of set-shifting (see e.g., Schooler & Melcher, 1995). According to this alternative explanation, the beneficial effects of a period of distraction from a decision problem do not necessarily result from an active unconscious thought process, but from the disruption of counterproductive con- scious thought. "
   ]
  },
  {
   "cell_type": "markdown",
   "metadata": {},
   "source": [
    "For instance, people often approach a problem with wrong cues, wrong heuristics, and/or wrong information. Following a period of distraction, such wrong approaches become less accessible or are forgotten altogether. The effects of distraction on a change of mental set can be both very pronounced (such as when one tries to solve a chess problem and initially gets truly “fixed” in thinking along a wrong path) or more subtle (such as when distraction attenuates the biasing influ- ence of primacy or recency effects)."
   ]
  },
  {
   "cell_type": "markdown",
   "metadata": {},
   "source": [
    "In a recent set of experiments, we refuted this possibility by demonstrating that unconscious thought is a goal-dependent process (Bos, Dijksterhuis & van Baaren, 2007)."
   ]
  },
  {
   "cell_type": "markdown",
   "metadata": {},
   "source": [
    "In our experiments, we again gave participants information about a decision problem. Importantly, we then compared two groups of participants who were both distracted before they made a decision. One group was given the same instructions as in the unconscious thought conditions of our previous work. After having read the decision information but before the distraction period, they were told that we would later ask them some questions about the decision problem. In other words, these participants were given the goal to think unconsciously, or at least the expectation that they had to make a decision later. The other group did not receive this goal. Before the distraction period they were told that they would not have to make a decision later on. Thus, one group had the goal to further process the information, whereas the other group had no such goal. Results showed that the former group made better decisions than the latter. That is, only people with a goal to later make a decision demonstrated superior decision making"
   ]
  },
  {
   "cell_type": "markdown",
   "metadata": {},
   "source": [
    "the people without a goal did not. This means that unconscious thought is a goal-dependent process and merely distracting people does not help them."
   ]
  },
  {
   "cell_type": "markdown",
   "metadata": {},
   "source": [
    "# UNCONSCIOUS WEIGHTED ADDING, PART 1 : CAPACITY"
   ]
  },
  {
   "cell_type": "markdown",
   "metadata": {},
   "source": [
    "The fact itself that unconscious thought can facilitate decision making does not yet imply it will bring us closer to the “ideal” of proper weighted adding. however, we think there are reasons to believe that indeed it does."
   ]
  },
  {
   "cell_type": "markdown",
   "metadata": {},
   "source": [
    "As we have argued before, weighted adding in the context of relatively complex decisions involving many dimensions requires large processing capacity."
   ]
  },
  {
   "cell_type": "markdown",
   "metadata": {},
   "source": [
    "In fact, we concluded that this was one of the reasons conscious thought is not really suitable for weighted adding."
   ]
  },
  {
   "cell_type": "markdown",
   "metadata": {},
   "source": [
    "Unconscious thought, however, has a much larger capacity than conscious thought, which renders it a more suitable candidate for weighted adding. At least capacity constraints will not be in the way."
   ]
  },
  {
   "cell_type": "markdown",
   "metadata": {},
   "source": [
    "In another recent set of studies, we (Dijksterhuis, Bos, Nordgren, & van Baaren, 2006) compared choices between simple products and complex products."
   ]
  },
  {
   "cell_type": "markdown",
   "metadata": {},
   "source": [
    "There are of course many ways in which simple or complex can be operationalized, and we looked at one relevant dimension:"
   ]
  },
  {
   "cell_type": "markdown",
   "metadata": {},
   "source": [
    "Examples of simple products with few relevant attributes are CDs (where most people really only care about the music) or a dishwashing brush (where most people do not really care about anything at all)."
   ]
  },
  {
   "cell_type": "markdown",
   "metadata": {},
   "source": [
    "Examples of complex products are cars or houses (where most people want to take into account many different attribute dimensions)."
   ]
  },
  {
   "cell_type": "markdown",
   "metadata": {},
   "source": [
    "As predicted, unconscious thinkers made better decisions about complex products than do conscious thinkers."
   ]
  },
  {
   "cell_type": "markdown",
   "metadata": {},
   "source": [
    "however, this effect disap- peared or was even reversed for simple decisions."
   ]
  },
  {
   "cell_type": "markdown",
   "metadata": {},
   "source": [
    "# UNCONSCIOUS WEIGHTED ADDING, PART 2 : WEIGHTING ITSELF"
   ]
  },
  {
   "cell_type": "markdown",
   "metadata": {},
   "source": [
    "One of the principles of the Unconscious Thought Theory is the following (and note that it is based on the work by Wilson and colleagues discussed earlier):"
   ]
  },
  {
   "cell_type": "markdown",
   "metadata": {},
   "source": [
    "The unconscious naturally weights the relative importance of various attributes."
   ]
  },
  {
   "cell_type": "markdown",
   "metadata": {},
   "source": [
    "Conscious thought often leads to suboptimal weighting because it disturbs this natural process (Dijksterhuis & Nordgren, 2006, pp. 99–100)."
   ]
  },
  {
   "cell_type": "markdown",
   "metadata": {},
   "source": [
    "Do we engage in weighted adding when we think unconsciously? And if so, how?"
   ]
  },
  {
   "cell_type": "markdown",
   "metadata": {},
   "source": [
    "We concede that the evidence for superior unconscious weighting is still limited, but we have some hints that we also described in Dijksterhuis and Nordgren (2006, p. 100)."
   ]
  },
  {
   "cell_type": "markdown",
   "metadata": {},
   "source": [
    "One experiment will be discussed again here. Recently, we (Dijksterhuis & van Olden, 2006) replicated and extended the “poster-experiment” by Wilson and colleagues discussed before. Participants chose a poster (out of five) to take home under one of three different conditions. They chose after looking at the posters briefly, after briefly looking at them and then thinking about them for 9 minutes, or after 9 minutes of unconscious thought following a brief look. Participants took their chosen poster home and were called a few weeks later to find out how they felt about their choice. As expected, participants who thought unconsciously were happier with their poster than participants in the other two conditions. In addition, when asked for what amount of money they would be willing to sell their poster, they indicated a sum twice as high as conscious thinkers."
   ]
  },
  {
   "cell_type": "markdown",
   "metadata": {},
   "source": [
    "It is possible that conscious thinkers chose poorly because they were indecisive. however, it is also possible that they had a clear preference for the wrong alterna- tive, or, in other words, that they weighted poorly. "
   ]
  },
  {
   "cell_type": "markdown",
   "metadata": {},
   "source": [
    "This was not the case among conscious thinkers. In other words, unconscious thinkers (and immediate choosers) weighted much better than conscious thinkers."
   ]
  },
  {
   "cell_type": "markdown",
   "metadata": {},
   "source": [
    "In a recent set of studies, we (Dijksterhuis, Bos, van Baaren, & van der Leij, 2007a) looked at weighting more closely in experiments in which we compared immediate deciders and unconscious thinkers."
   ]
  },
  {
   "cell_type": "markdown",
   "metadata": {},
   "source": [
    "We used a paradigm based on work by Alba and Marmorstein (1987). Participants received information about a choice problem. Some objects (in our case, cars) had few positive attributes and many negative ones. however, the positive aspects were highly important (e.g., good gas mileage, excellent safety) whereas the many negative attributes were unimportant (e.g., no cupholders, no sunroof, no logo on the grill, etc.). In contrast to these what we may call “quality-cars,” other cars were the exact opposite: They had many posi- tive attributes that were unimportant (cupholders, sunroof, nice logo on the grill, etc.) and few negative but important attributes (poor safety and gas mileage). These we called the “frequency-cars.”"
   ]
  },
  {
   "cell_type": "markdown",
   "metadata": {},
   "source": [
    "In our experiments so far, we showed that partici- pants generally chose quality-cars over frequency-cars, which shows they engaged in appropriate weighting. "
   ]
  },
  {
   "cell_type": "markdown",
   "metadata": {},
   "source": [
    "Whereas immediate choosers indeed weighted to some extent (about 75% chose the quality car), unconscious thinkers showed much stronger weighting effects, up to the point that almost all unconscious thinkers (>90%) chose the quality car."
   ]
  },
  {
   "cell_type": "markdown",
   "metadata": {},
   "source": [
    "# TOWARD EXPLAINING HOW"
   ]
  },
  {
   "cell_type": "markdown",
   "metadata": {},
   "source": [
    "As we have seen, when we think unconsciously, we generally have enough capac- ity to engage in weighted adding, even for relatively complex problems."
   ]
  },
  {
   "cell_type": "markdown",
   "metadata": {},
   "source": [
    "Moreover, recent evidence shows that we do indeed engage in weighting to at least some extent."
   ]
  },
  {
   "cell_type": "markdown",
   "metadata": {},
   "source": [
    "The intriguing question is how such an unconscious weighting process ensues."
   ]
  },
  {
   "cell_type": "markdown",
   "metadata": {},
   "source": [
    "We concede that our current knowledge is both incomplete and specula- tive, but there are a few avenues that are useful to explore."
   ]
  },
  {
   "cell_type": "markdown",
   "metadata": {},
   "source": [
    "We briefly discuss two such ideas. "
   ]
  },
  {
   "cell_type": "markdown",
   "metadata": {},
   "source": [
    "The first is based on commonalities between unconscious thought the- ory and fuzzy trace theory."
   ]
  },
  {
   "cell_type": "markdown",
   "metadata": {},
   "source": [
    "The second is based on the idea of implicit learning."
   ]
  },
  {
   "cell_type": "markdown",
   "metadata": {},
   "source": [
    "To explain what both conscious and unconscious thinkers may do in the para- digm we often use, we can borrow insights from fuzzy trace theory (for a review see Brainerd & Reyna, 1990)."
   ]
  },
  {
   "cell_type": "markdown",
   "metadata": {},
   "source": [
    "Fuzzy trace theory assumes that people encode information in two ways: "
   ]
  },
  {
   "cell_type": "markdown",
   "metadata": {},
   "source": [
    "They distill both the gist of the information and a verba- tim representation."
   ]
  },
  {
   "cell_type": "markdown",
   "metadata": {},
   "source": [
    "It is tempting to believe that a verbatim storage of information is somehow better because it is more precise, but a host of research shows that it is not (e.g., Reyna, Lloyd, & Brainerd, 2003)."
   ]
  },
  {
   "cell_type": "markdown",
   "metadata": {},
   "source": [
    "Verbatim representations are relatively instable and unreliable."
   ]
  },
  {
   "cell_type": "markdown",
   "metadata": {},
   "source": [
    "Indeed, when people have to judge or decide, they rely more on gist representations and less on verbatim representations the more expe- rienced they are with the decision domain. "
   ]
  },
  {
   "cell_type": "markdown",
   "metadata": {},
   "source": [
    "It is likely that unconscious thought works on gist representations whereas con- scious thought relies more on verbatim representations."
   ]
  },
  {
   "cell_type": "markdown",
   "metadata": {},
   "source": [
    "This could explain why conscious thought makes weighting less consistent, as was shown by Levine at al. (1996) and Nordgren and Dijksterhuis (2007). "
   ]
  },
  {
   "cell_type": "markdown",
   "metadata": {},
   "source": [
    "After all, verbatim representations themselves are less stable."
   ]
  },
  {
   "cell_type": "markdown",
   "metadata": {},
   "source": [
    "Of course, for gist-based decisions to be sound, one needs to be able to infer the correct gists for encoded information in the first place. however, this becomes easier with more practice and it is no wonder that experi- ence leads people to use more gist-based strategies "
   ]
  },
  {
   "cell_type": "markdown",
   "metadata": {},
   "source": [
    "This is consistent with recent work in our laboratory in which we show that the quality of decisions correlates with experience for unconscious thinkers."
   ]
  },
  {
   "cell_type": "markdown",
   "metadata": {},
   "source": [
    "In recent studies (Dijksterhuis, Bos, van Baaren, & van der Leij, 2007b) we have asked participants to predict results of sports events."
   ]
  },
  {
   "cell_type": "markdown",
   "metadata": {},
   "source": [
    "As expected, unconscious thought is more effective for people with more experience."
   ]
  },
  {
   "cell_type": "markdown",
   "metadata": {},
   "source": [
    "One would expect the same for conscious thought, but we actually find a surprisingly low correlation between experience and quality of decisions for conscious thinkers."
   ]
  },
  {
   "cell_type": "markdown",
   "metadata": {},
   "source": [
    "This is fully in line with fuzzy trace theory: Experience helps with gist-based decisions, much less so with verbatim-based decisions."
   ]
  },
  {
   "cell_type": "markdown",
   "metadata": {},
   "source": [
    "The fact that unconscious, gist-based processing can be very effective is likely also helped by the fact that we can apply implicit knowledge during unconscious thought that we do not apply during conscious thought."
   ]
  },
  {
   "cell_type": "markdown",
   "metadata": {},
   "source": [
    "That is, knowledge that is inaccessible to consciousness will probably not be used during conscious thought, but it may well be applied during gist-based, unconscious processing."
   ]
  },
  {
   "cell_type": "markdown",
   "metadata": {},
   "source": [
    "Recently, Lieberman (2000) made a strong claim for an intimate relation between implicit learning and intuition."
   ]
  },
  {
   "cell_type": "markdown",
   "metadata": {},
   "source": [
    "Intuitive processes may seem to appear out of nowhere, but they are often based on an impressive amount of implicit knowledge."
   ]
  },
  {
   "cell_type": "markdown",
   "metadata": {},
   "source": [
    "A few years ago, a Los Angeles–based museum bought a Kouros, an old Greek statue. Before they acquired it however, they did some tests to check whether it was a forgery or not. Everything seemed fine, until one or two very experienced and knowledgeable art connoisseurs “felt” something was wrong. I emphasize “felt” because these specialists merely sensed something was dodgy without being able to verbalize what was wrong. Their suspicion turned out to be correct, though, when very advanced tests later showed the Kouros was indeed a fake."
   ]
  },
  {
   "cell_type": "markdown",
   "metadata": {},
   "source": [
    "What is important here is that these specialists had their suspicion because they could call on an enormous amount of relevant knowledge."
   ]
  },
  {
   "cell_type": "markdown",
   "metadata": {},
   "source": [
    "That this knowl- edge was (at least in part) implicit is also obvious, otherwise they would be able to say why the Kouros was a forgery. however, they could not; it just “felt” wrong. A line of research that supports this reasoning is the work on “bootstrapping.” The bootstrapping technique (see e.g., Dawes, 1979) neatly shows that we have more knowledge than we often apply. "
   ]
  },
  {
   "cell_type": "markdown",
   "metadata": {},
   "source": [
    "A linear combination of attributes based on a deci- sion maker’s past weights does better in decision making than the decision maker on whom the weights are based."
   ]
  },
  {
   "cell_type": "markdown",
   "metadata": {},
   "source": [
    "This clearly shows that we possess highly useful information that we often fail to apply."
   ]
  },
  {
   "cell_type": "markdown",
   "metadata": {},
   "source": [
    "Let us again use a concrete decision example. Let us say you buy a house for the eighth time of your life."
   ]
  },
  {
   "cell_type": "markdown",
   "metadata": {},
   "source": [
    "The explicit knowledge about what you like and do not like about what is an asset in a house and what is not, about how different attributes will make you feel, is likely only a fraction of your “total” knowledge."
   ]
  },
  {
   "cell_type": "markdown",
   "metadata": {},
   "source": [
    "Most of this knowledge is implicit, and we hypothesize that such knowledge is applied during unconscious, gist-based thought and not (or at least much less so) during conscious, verbatim-based thought."
   ]
  },
  {
   "cell_type": "markdown",
   "metadata": {},
   "source": [
    "# CONCLUSIONS"
   ]
  },
  {
   "cell_type": "markdown",
   "metadata": {},
   "source": [
    "Is giving up weighted adding as an ideal unnecessary? We argue that it is. At least for complex choices, unconscious thought does quite well in approaching weighted adding. One can ask the question whether unconscious thought does weighted adding or whether it merely behaves as if it does weighted adding. Chater and colleagues (2003) recently published an insightful paper where the distinction is made between rational calculation and rational description. The requirement of rational calculation for weighted adding presupposes that people would “calculate” weighted adding with the exact knowledge of how such things must be calculated."
   ]
  },
  {
   "cell_type": "markdown",
   "metadata": {},
   "source": [
    "This seems unrealistic, but it is also an unnecessary requirement. Chater and col- leagues (2003, p. 67) use a nice analogy: “The wings of a bird may approximate the results of a calculation of optimal aerodynamic design ... but there is, of course, no presumption that the bird conducts any calculations in designing its wing.” This analogy may apply to unconscious thought and weighted adding. Perhaps uncon- scious thought does not quite do it, but it behaves as if it is doing it."
   ]
  },
  {
   "cell_type": "markdown",
   "metadata": {},
   "source": [
    "In their paper, Chater and colleagues also show that computer simulations (which are obviously not consciously aware of their own algorithms) can perform rationally on complex decision tasks that require integration of a lot of information."
   ]
  },
  {
   "cell_type": "markdown",
   "metadata": {},
   "source": [
    "In contrast to current prevailing wisdom, we believe that people can actually do that too."
   ]
  },
  {
   "cell_type": "markdown",
   "metadata": {},
   "source": [
    "If they are willing to engage in unconscious thought."
   ]
  },
  {
   "cell_type": "markdown",
   "metadata": {},
   "source": [
    "# 참고자료 "
   ]
  },
  {
   "cell_type": "markdown",
   "metadata": {},
   "source": [
    "* Unconscious Thought Theory - https://prezi.com/kw6w4rh9htlp/unconscious-thought-theory/\n",
    "* Issus with the definition of Unconscious Thought in Unconscious Thought Theory - http://www.slideshare.net/sumitavamukh/issus-with-the-definition-of-unconscious-thought-in-unconscious-thought-theory\n",
    "* Unconscious thought theory (wikipedia) - https://en.wikipedia.org/wiki/Unconscious_thought_theory\n",
    "* Unconscious Lab -  http://www.unconsciouslab.com/\n",
    "* Fuzzy-trace theory (wikipedia) - https://en.wikipedia.org/wiki/Fuzzy-trace_theory"
   ]
  }
 ],
 "metadata": {
  "kernelspec": {
   "display_name": "Python 2",
   "language": "python",
   "name": "python2"
  },
  "language_info": {
   "codemirror_mode": {
    "name": "ipython",
    "version": 2
   },
   "file_extension": ".py",
   "mimetype": "text/x-python",
   "name": "python",
   "nbconvert_exporter": "python",
   "pygments_lexer": "ipython2",
   "version": "2.7.6"
  }
 },
 "nbformat": 4,
 "nbformat_minor": 0
}
