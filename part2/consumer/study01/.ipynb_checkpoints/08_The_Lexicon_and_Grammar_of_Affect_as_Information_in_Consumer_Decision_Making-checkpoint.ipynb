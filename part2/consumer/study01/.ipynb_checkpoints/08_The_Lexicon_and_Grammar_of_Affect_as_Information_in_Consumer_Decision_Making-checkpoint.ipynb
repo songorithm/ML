{
 "cells": [
  {
   "cell_type": "markdown",
   "metadata": {},
   "source": [
    "# 8. The Lexicon and Grammar of Affect as Information in Consumer Decision Making: The GAIM"
   ]
  },
  {
   "cell_type": "markdown",
   "metadata": {},
   "source": [
    "* 싸이지먼트 / 소비자On - 소비자심리 파트 / ch.8 [1]\n",
    "* 김무성"
   ]
  },
  {
   "cell_type": "markdown",
   "metadata": {},
   "source": [
    "# Contents"
   ]
  },
  {
   "cell_type": "markdown",
   "metadata": {},
   "source": [
    "* The Lexicon of Feelings as Information\n",
    "    - “How Do I Feel about It?”—Feelings as Information about Value\n",
    "    - “How Strongly Do I Feel about It?”—Feelings as Information about the Strength of Preference\n",
    "    - “How Scary Does It Feel?”—Feelings as Information about Risk\n",
    "    - “How Certain Do I Feel about It?”—Feelings as Information about Conviction\n",
    "    - “How Serious Does It Feel?”—Feelings as Information about Situational Demands\n",
    "    - “What Would I Feel Better about?” and “What Do I Feel Like Doing?”—Feelings as Motivational Information\n",
    "* The Grammar of Feelings as Information\n",
    "    - The Necessity and Sufficiency of Feelings\n",
    "    - The Relative Accessibility of Feelings\n",
    "    - The Relative Diagnosticity of Feelings\n",
    "        - Diagnosticity as Representativeness \n",
    "        - Diagnosticity as Relevance\n",
    "        - Diagnosticity as Predictive Validity\n",
    "        - Diagnosticity as Convergent Validity\n",
    "    - On the Imagery Boundedness of Seeing How It Feels\n",
    "    - Query and Response-Mapping Dependency\n",
    "        - Query Dependency\n",
    "        - Response-Mapping Dependency\n",
    "    - Situational Engagement of the Affective System\n",
    "* GAIM: A Generalized Affect-as-Information Model of Judgment"
   ]
  },
  {
   "cell_type": "markdown",
   "metadata": {},
   "source": [
    "In advancing the “affect-as- information” hypothesis that moods, feelings, and emotions serve as sources of information, Schwarz and Clore (1983, 1996) introduced a radical departure from this historical way of thinking about affect."
   ]
  },
  {
   "cell_type": "markdown",
   "metadata": {},
   "source": [
    "* The chapter is organized into three main sections. \n",
    "    - The first section identifies <font color=\"red\">distinct types of information</font> that people seem to derive <font color=\"red\">from their feelings</font>. \n",
    "        - In a sense, these different types of information constitute the lexicon of feelings as information. \n",
    "    - The second section identifies the <font color=\"red\">basic principles that guide the processes</font> by which feelings provide these various types of <font color=\"red\">information</font>.\n",
    "        - These principles can be thought of as rules that govern and structure the ways in which feelings acquire and convey judgment-relevant meaning. \n",
    "        - In a sense, these principles collectively define the <font color=\"red\">grammar of feelings as information</font>. \n",
    "     - In the concluding section the state of our knowledge and the chapter’s main theoretical propositions are summarized in a generalized model of affect as information in judgment and decision making, the <font color=\"red\">GAIM</font> (for Generalized Affect-as-Information Model of judgment)."
   ]
  },
  {
   "cell_type": "markdown",
   "metadata": {},
   "source": [
    "# The Lexicon of Feelings as Information "
   ]
  },
  {
   "cell_type": "markdown",
   "metadata": {},
   "source": [
    "* “How Do I Feel about It?”—Feelings as Information about Value\n",
    "* “How Strongly Do I Feel about It?”—Feelings as Information about the Strength of Preference\n",
    "* “How Scary Does It Feel?”—Feelings as Information about Risk\n",
    "* “How Certain Do I Feel about It?”—Feelings as Information about Conviction\n",
    "* “How Serious Does It Feel?”—Feelings as Information about Situational Demands\n",
    "* “What Would I Feel Better about?” and “What Do I Feel Like Doing?”—Feelings as Motivational Information"
   ]
  },
  {
   "cell_type": "markdown",
   "metadata": {},
   "source": [
    "## “How Do I Feel about It?”—Feelings as Information about Value"
   ]
  },
  {
   "cell_type": "markdown",
   "metadata": {},
   "source": [
    "* “how do I feel about it?” (hDIF) heuristic.\n",
    "    - By far, the most widely documented affect-as-information inference is that of a tar- get object’s value from the pleasantness of the feelings that it elicits.\n",
    "    - According to Schwarz and Clore (1983, 1988), people often evaluate target objects by inspecting “how they feel” while they think about these objects.\n",
    "    - Any feeling recorded while the person is thinking about an object is generally assumed to be telling something about the object of attention—an assumption known as the aboutness principle (higgins, 1998).\n",
    "        - As a result, the experience of positive feelings while thinking about a target object is generally interpreted to mean that the target is desirable, attractive, valuable, etc., whereas the experience of negative feelings is interpreted to mean that the target is undesirable, unattractive, not valuable, etc."
   ]
  },
  {
   "cell_type": "markdown",
   "metadata": {},
   "source": [
    "* For example, Gorn, Goldberg, and Basu (1993) found that participants evaluated stereo speakers more favorably when pleasant music was played through the speakers than when unpleasant music was played through them. however, when participants were asked to evaluate the music before they rated the speakers—that is, when it was made salient that the source of the feelings was the music itself, not the speakers—the effect disappeared."
   ]
  },
  {
   "cell_type": "markdown",
   "metadata": {},
   "source": [
    "* ham (1998) offered that the hDIF heuristic plays a central role in consumer decision making. Whereas consumer decision making is generally conceptualized as a process of integration and comparison of the evaluative implications of the options’ main attributes (Bettman, 1979; Wilkie & Pessemier, 1973), Pham (1998) argued instead that consumers often picture the options in their minds and compare how they feel. "
   ]
  },
  {
   "cell_type": "markdown",
   "metadata": {},
   "source": [
    "## “How Strongly Do I Feel about It?”—Feelings as Information about the Strength of Preference"
   ]
  },
  {
   "cell_type": "markdown",
   "metadata": {},
   "source": [
    "* When monitoring their feelings to make evaluative inferences as in the hDIF heuristic, people appear to monitor not only the valence of their feelings but also the intensity of these feelings (i.e., the physiological arousal that accompanies the feelings)."
   ]
  },
  {
   "cell_type": "markdown",
   "metadata": {},
   "source": [
    "* For example, residual arousal from a scary event (e.g., following a roller-coaster ride or while crossing a high suspension bridge) usually increases people’s attrac- tion to good-looking strangers of the opposite sex and decreases their attraction to not-so-good-looking strangers or strangers of the same sex"
   ]
  },
  {
   "cell_type": "markdown",
   "metadata": {},
   "source": [
    "## “How Scary Does It Feel?”—Feelings as Information about Risk"
   ]
  },
  {
   "cell_type": "markdown",
   "metadata": {},
   "source": [
    "* Closely related to the hDIF heuristic, in which value is inferred from the valence of one’s momentary feelings, is the inference of risk from feelings of fear, dread, and anxiety elicited by a target."
   ]
  },
  {
   "cell_type": "markdown",
   "metadata": {},
   "source": [
    "* A large body of evidence shows that people’s perceptions of risk and danger are not determined solely by beliefs about potential negative conse- quences of objects and situations; they are also driven by feelings of fear, dread, or anxiety elicited by these objects and situations"
   ]
  },
  {
   "cell_type": "markdown",
   "metadata": {},
   "source": [
    "* A growing body of research indeed shows that people tend to draw different inferences from feelings with distinct emotional qualities (e.g., feelings of fear vs. anger vs. sadness; feelings of happiness vs. pride vs. gratitude). \n",
    "    - For instance, Keltner, Ellsworth, and Edwards (1993) found that \n",
    "        - individuals incidentally made to feel sad tended to attribute events to situational factors (e.g., “I missed the flight because the traffic was bad”), \n",
    "        - whereas individuals incidentally made to feel angry tended to attribute the same events to human factors (e.g., “I missed the flight because the cab driver was terrible”). "
   ]
  },
  {
   "cell_type": "markdown",
   "metadata": {},
   "source": [
    "## “How Certain Do I Feel about It?”—Feelings as Information about Conviction"
   ]
  },
  {
   "cell_type": "markdown",
   "metadata": {},
   "source": [
    "* Somewhat related to the inference of strength of preference from the arousal intensity of emotional responses is the inference of strength of conviction from emotional feelings varying in certainty appraisal."
   ]
  },
  {
   "cell_type": "markdown",
   "metadata": {},
   "source": [
    "* Some emotions such as anger, disgust, and joy are typically experienced in response to situations appraised as certain, \n",
    "* whereas other emotions such as fear, surprise, and hope are typically experienced in response to situations appraised as uncertain"
   ]
  },
  {
   "cell_type": "markdown",
   "metadata": {},
   "source": [
    "## “How Serious Does It Feel?”—Feelings as Information about Situational Demands"
   ]
  },
  {
   "cell_type": "markdown",
   "metadata": {},
   "source": [
    "* Related to the previous heuristic, feelings also seem to be used to infer the level of vigilance and effort required by a task or situation\n",
    "    - — a phenomenon that Schwarz (2002) called cognitive tuning."
   ]
  },
  {
   "cell_type": "markdown",
   "metadata": {},
   "source": [
    "* In general, negative affective states are interpreted as calling for increased vigilance and effort, \n",
    "* whereas positive affective states are interpreted as allowing more nonchalance and less effort."
   ]
  },
  {
   "cell_type": "markdown",
   "metadata": {},
   "source": [
    "* Note also that the cognitive-tuning phenomenon relates to inferences of situational demands from positive versus negative mood states that are diffuse and relatively undifferentiated.\n",
    "* Affective states that have a more distinct emotional quality need not lead to similar inferences.\n",
    "    - For example, \n",
    "        - as mentioned in the preceding subsection, negative emotional states associated with high certainty (e.g., anger, disgust) tend to decrease the depth of processing in judgment, \n",
    "        - and positive emotional states associated with high uncertainty (e.g., hope) tend to increase the depth of processing in judgment (Bodenhausen, Sheppard, & Kramer, 1994; Tiedens & Linton, 2001). "
   ]
  },
  {
   "cell_type": "markdown",
   "metadata": {},
   "source": [
    "## “What Would I Feel Better about?” and “What Do I Feel Like Doing?”—Feelings as Motivational Information"
   ]
  },
  {
   "cell_type": "markdown",
   "metadata": {},
   "source": [
    "* People also seem to infer from their feelings the priorities that they should set and the goals that they should pursue in a given situation. That is, feelings can con- vey motivational information."
   ]
  },
  {
   "cell_type": "markdown",
   "metadata": {},
   "source": [
    "* For example, Raghunathan and Pham (1999) found that, in choices between a high-risk/high-reward option and a low-risk/low-reward option, \n",
    "    - sad individuals consistently favor the former, \n",
    "    - whereas anxious individuals consistently favor the latter. \n",
    "    - (Neutral-mood individuals exhibit preferences that are in between; see also Raghunathan, Pham, and Corfman, 2006.)\n",
    "* These researchers interpreted this finding as follows: \n",
    "    - Sad individuals tend to infer that they have lost something of value, a typical cause of sadness. \n",
    "        - This inference in turn seems to activate a goal of reward acquisition that shifts preferences toward high-reward options.\n",
    "    - In contrast, anxious individuals tend to infer that the situation is uncertain and beyond control, a typical cause of anxiety. \n",
    "        - This inference activates a goal of risk avoidance that shifts preferences toward low-risk options."
   ]
  },
  {
   "cell_type": "markdown",
   "metadata": {},
   "source": [
    "* Therefore, feelings seem to convey information not only about essential characteristics of the situa- tion, but also about the priorities and goals that the situation calls for."
   ]
  },
  {
   "cell_type": "markdown",
   "metadata": {},
   "source": [
    "* This chain of inferences need not be conscious."
   ]
  },
  {
   "cell_type": "markdown",
   "metadata": {},
   "source": [
    "In summary, "
   ]
  },
  {
   "cell_type": "markdown",
   "metadata": {},
   "source": [
    "* the lexicon of feelings as information goes beyond the inference of value from the hDIF heuristic. \n",
    "* People seem to make at least six major types of inferences from their feelings: \n",
    "    - (1) inferences about the value of target objects (“how do I feel about it?”), \n",
    "    - (2) inferences about the strength of their preferences (“how strongly do I feel about it?”), \n",
    "    - (3) inferences about the level of risk and threat (“how scary does it feel?”), \n",
    "    - (4) inferences about their level of conviction (“how certain do I feel?”), \n",
    "    - (5) inferences about situational demands (“how serious does it feel?”), and \n",
    "    - (6) inferences about their motivations and priorities (“What do I feel like?” and “What would I feel better about?”). "
   ]
  },
  {
   "cell_type": "markdown",
   "metadata": {},
   "source": [
    "# The Grammar of Feelings as Information"
   ]
  },
  {
   "cell_type": "markdown",
   "metadata": {},
   "source": [
    "* The Necessity and Sufficiency of Feelings\n",
    "* The Relative Accessibility of Feelings\n",
    "* The Relative Diagnosticity of Feelings\n",
    "* On the Imagery Boundedness of Seeing How It Feels\n",
    "* Query and Response-Mapping Dependency\n",
    "* Situational Engagement of the Affective System"
   ]
  },
  {
   "cell_type": "markdown",
   "metadata": {},
   "source": [
    "Now that the range of information provided by feelings has been reviewed, let us turn to the principles that govern the information value of feelings in judgment. "
   ]
  },
  {
   "cell_type": "markdown",
   "metadata": {},
   "source": [
    "* Six principles can be identified: \n",
    "    - (1) the principle of necessity and sufficiency of feelings, \n",
    "    - (2) the principle of relative accessibility, \n",
    "    - (3) the principle of relative diag- nosticity, \n",
    "    - (4) the principle of imagery boundedness, \n",
    "    - (5) the principle of query and response-mapping dependency, and \n",
    "    - (6) the principle of situational engagement."
   ]
  },
  {
   "cell_type": "markdown",
   "metadata": {},
   "source": [
    "## The Necessity and Sufficiency of Feelings"
   ]
  },
  {
   "cell_type": "markdown",
   "metadata": {},
   "source": [
    "* Several findings suggest that the experience of genuine feelings is both necessary and sufficient to convey information."
   ]
  },
  {
   "cell_type": "markdown",
   "metadata": {},
   "source": [
    "* Evidence of the sufficiency of feelings in con- veying information comes from the findings that even somatomotor inductions of affect produce judgmental inferences that are consistent with the lexicon of feeling described in the previous section.\n",
    "    - For example, in one study (Keltner, Ellsworth, et al., 1993, Experiment 4), participants were instructed to assume physical poses that, unbeknownst to them, were characteristic of anger (e.g., eyebrows down with hands and teeth clenched) or sadness (e.g., inner corners of the eyebrows raised while gazing down).\n",
    "    - Although no higher-level cognition was involved, participants unknowingly modeling anger made causal attributions consistent with anger, whereas participants modeling sadness made attributions consistent with sadness."
   ]
  },
  {
   "cell_type": "markdown",
   "metadata": {},
   "source": [
    "## The Relative Accessibility of Feelings"
   ]
  },
  {
   "cell_type": "markdown",
   "metadata": {},
   "source": [
    "* A number of studies suggest that feelings have greater influence on judgment when they are more accessible (Albarracin & Kumkale, 2003; Siemer & Reisenzein, 1998)."
   ]
  },
  {
   "cell_type": "markdown",
   "metadata": {},
   "source": [
    "* An obvious determinant of the relative accessibility of feelings is their sheer intensity. \n",
    "* Another is their salience."
   ]
  },
  {
   "cell_type": "markdown",
   "metadata": {},
   "source": [
    "## The Relative Diagnosticity of Feelings"
   ]
  },
  {
   "cell_type": "markdown",
   "metadata": {},
   "source": [
    "* Diagnosticity as Representativeness \n",
    "* Diagnosticity as Relevance\n",
    "* Diagnosticity as Predictive Validity\n",
    "* Diagnosticity as Convergent Validity"
   ]
  },
  {
   "cell_type": "markdown",
   "metadata": {},
   "source": [
    "The very notion of affect as information implies that people should rely on their feelings only to the extent that these feelings are perceived to be informative or diagnostic. "
   ]
  },
  {
   "cell_type": "markdown",
   "metadata": {},
   "source": [
    "* Different dimensions of the perceived diagnosticity of feelings in judgment and decisions can be distinguished:\n",
    "    - (1) their perceived representativeness, \n",
    "    - (2) their perceived relevance, \n",
    "    - (3) their perceived predictive validity, and \n",
    "    - (4) their perceived convergent validity."
   ]
  },
  {
   "cell_type": "markdown",
   "metadata": {},
   "source": [
    "### Diagnosticity as Representativeness "
   ]
  },
  {
   "cell_type": "markdown",
   "metadata": {},
   "source": [
    "* The most widely documented deter- minant of the perceived diagnosticity of feelings is their representativeness, that is, the degree to which the feelings are perceived to emanate from and reflect essential properties of the target (Pham, 1998; Strack, 1992)."
   ]
  },
  {
   "cell_type": "markdown",
   "metadata": {},
   "source": [
    "* For example, Schwarz and Clore (1983) originally observed that\n",
    "    - respondents who were in a good mood as a result of being interviewed on a sunny day reported higher life satisfaction \n",
    "    - than those who were in a bad mood as a result of being interviewed on a rainy day. \n",
    "    - however, if respondents’ attention was directed to the weather as an explanation for their feelings, the effect disappeared."
   ]
  },
  {
   "cell_type": "markdown",
   "metadata": {},
   "source": [
    "### Diagnosticity as Relevance"
   ]
  },
  {
   "cell_type": "markdown",
   "metadata": {},
   "source": [
    "* Pham (1998) proposed that, holding the rep- resentativeness of the feelings constant, the reliance on feelings as information additionally depends on their perceived relevance to the judgment or decision at hand."
   ]
  },
  {
   "cell_type": "markdown",
   "metadata": {},
   "source": [
    "* It has been found that achievement-related emotions (cheerfulness vs. dejection) have stronger influence on product evaluations when consumers have achievement goals than when they have protection goals, whereas protection-related emotions (quiescence vs. agitation) have stronger influence when consumers have protection goals than when they have achievement goals (Bosmans & Baumgartner, 2005). "
   ]
  },
  {
   "cell_type": "markdown",
   "metadata": {},
   "source": [
    "### Diagnosticity as Predictive Validity"
   ]
  },
  {
   "cell_type": "markdown",
   "metadata": {},
   "source": [
    "* holding the perceived representative- ness of the feelings constant, the reliance on feelings in judgments also appears to depend on their perceived predictive validity."
   ]
  },
  {
   "cell_type": "markdown",
   "metadata": {},
   "source": [
    "* For example, Avnet and Pham (2007) used a procedure adapted from Schwarz and colleagues (1991) to manipulate participants’ momentary trust in their feelings while holding the perceived representativeness and relevance of these feelings constant. \n",
    "    - Schwarz and colleagues (1991) had found that \n",
    "        - when material is easy to retrieve from memory, the experience of ease of retrieval reinforces the judgmental implications of the retrieved material, \n",
    "        - whereas when the material is difficult to retrieve, the experience of difficulty of retrieval reverses the judgmental implications of the retrieved material. \n",
    "    - Building on this finding, Avnet and Pham (2007) asked participants to recollect either two instances of successful reliance on feelings in judgments or decisions, which is subjectively easy, or 10 instances, which is subjectively difficult.\n",
    "        - It was predicted that participants in the two-instance condition would have higher momentary trust in their feelings than participants in the 10-instance condition.\n",
    "        - As predicted, it was found that participants’ evaluations of a book were more strongly affected by their incidental mood state when they had high momentary trust in their feelings than when they had low momentary trust."
   ]
  },
  {
   "cell_type": "markdown",
   "metadata": {},
   "source": [
    "### Diagnosticity as Convergent Validity"
   ]
  },
  {
   "cell_type": "markdown",
   "metadata": {},
   "source": [
    "* Some studies suggest that the perceived diagnosticity of feelings increases when the feeling experience seems to converge across multiple sources (Adaval, 2001; Gasper & Clore, 1998)."
   ]
  },
  {
   "cell_type": "markdown",
   "metadata": {},
   "source": [
    "* For example, Adaval (2001) found that consumers place greater weight on product attribute information when this information is evaluatively consistent with the consumer’s mood than when it is evaluatively inconsistent.\n",
    "* According to Adaval (2001), when there is evaluative convergence between the attribute information and the mood state, the information “just feels right,” which increases its perceived validity"
   ]
  },
  {
   "cell_type": "markdown",
   "metadata": {},
   "source": [
    "## On the Imagery Boundedness of Seeing How It Feels"
   ]
  },
  {
   "cell_type": "markdown",
   "metadata": {},
   "source": [
    "* Decision making often involves an assessment of options that are not present in the decision maker’s environment (e.g., deciding from home which restaurant to go to) or whose evaluative consequences need to be projected (e.g., assessing whether a trip to the beach would be fun). "
   ]
  },
  {
   "cell_type": "markdown",
   "metadata": {},
   "source": [
    "* Building on previous theoretical suggestions (Kahneman & Snell, 1990), Pham (1998) proposed that consumers often make such decisions by accessing or constructing mental pictures of the options and “seeing how they feel,” especially when the consumers have experiential motives."
   ]
  },
  {
   "cell_type": "markdown",
   "metadata": {},
   "source": [
    "* Consistent with this proposition, he found \n",
    "    - (1) that reliance on the hDIF heuristic is more pronounced among consumers with a visual as opposed to propositional style of processing, and \n",
    "    - (2) that anticipatory feeling responses are indeed instantiated when consumers evaluate options with experiential motives.\n",
    "* The proposition that decision making is often based on anticipatory feeling responses to mental pictures of the options has been echoed by other researchers (Gilbert, Gill, & Wilson, 2002; hsee & Rottenstreich, 2004; Loewenstein, Weber, hsee, & Welch, 2001; Rottenstreich & hsee, 2001). \n",
    "* For example, Slovic and his colleagues observed that affective ratings of mental pictures elicited by various cities were strongly correlated with people’s intention to visit or live in these cities (Finucane, Alhakami, Slovic, & Johnson, 2000).\n",
    "* The characteristics of the mental pictures involved in feeling-based judgments and decisions have important consequences on the nature of these judgments and decisions. \n",
    "    - According to Kahneman and his colleagues (Kahneman, Ritov, & Schkade, 1999; Kahneman & Snell, 1990), the pictures involved in affective valu- ations tend to be discrete, prototypical representations of the target and have a fixed-time, snapshot-like quality as opposed to a continuous-time, film-like quality. \n",
    "    - As a result, affective judgments involving such mental pictures tend to have distinct properties (see Pham, 2007 for a review).\n",
    "        - One of these properties is an insensitivity to the scale of the target.\n",
    "        - A second, related property is an insensitivity to probability beyond the presence or absence of uncertainty.\n",
    "        - A third property of affective valuations is an insensitivity to the temporal context of the options"
   ]
  },
  {
   "cell_type": "markdown",
   "metadata": {},
   "source": [
    "## Query and Response-Mapping Dependency"
   ]
  },
  {
   "cell_type": "markdown",
   "metadata": {},
   "source": [
    "* Query Dependency\n",
    "* Response-Mapping Dependency"
   ]
  },
  {
   "cell_type": "markdown",
   "metadata": {},
   "source": [
    "A growing body of research suggests that feelings are subject to contingent behavioral interpretation. \n",
    "* In other words, the same feelings may have different behavioral consequences depending on how they are interpreted by the decision maker.\n",
    "* Two sources of interpretational differences can be distinguished: \n",
    "    - (1) the first lies in the question that the decision makers are trying to answer privately while monitoring their feelings; \n",
    "    - (2) the second lies in the mapping of the privately interpreted feelings onto overt behavioral or judgment responses."
   ]
  },
  {
   "cell_type": "markdown",
   "metadata": {},
   "source": [
    "### Query Dependency"
   ]
  },
  {
   "cell_type": "markdown",
   "metadata": {},
   "source": [
    "* Depending on the question privately being asked (i.e., query being made), the same feelings may have different interpretations and therefore different behavioral consequences."
   ]
  },
  {
   "cell_type": "markdown",
   "metadata": {},
   "source": [
    "* For example, in a series of studies by Martin, Ward, Achee, and Wyer (1993), \n",
    "    - respondents who were either in a positive mood or in a negative mood were asked to perform various tasks under one of two sets of instructions.\n",
    "        - One group was asked to keep working until they were satisfied with their performance. \n",
    "        - The other group was asked to keep working until they no longer enjoyed the task.\n",
    "    - When instructed to keep working until they were satisfied with their performance, respondents in a negative mood worked longer than those in a positive mood, a result consistent with the finding discussed earlier that negative mood typically leads to more careful processing compared to positive mood. \n",
    "    - however, when instructed to keep working until they no longer enjoyed the task, the effect reversed : Respondents in a negative mood stopped sooner than those in a positive mood."
   ]
  },
  {
   "cell_type": "markdown",
   "metadata": {},
   "source": [
    "### Response-Mapping Dependency"
   ]
  },
  {
   "cell_type": "markdown",
   "metadata": {},
   "source": [
    "* The second source of differences in the interpretation of feelings lies in the mapping of privately interpreted feel- ings onto an overt response.\n",
    "* Even if the question addressed by the feelings is held constant, behavioral response may still be different."
   ]
  },
  {
   "cell_type": "markdown",
   "metadata": {},
   "source": [
    "* For example, Martin, Abend, Sedikides, and Green (1997) found that, \n",
    "    - when asked to evaluate a story that was meant to be happy, participants in a happy mood reported more favorable evaluations than participants in a sad mood, consistent with typical mood congruency.\n",
    "    - however, when asked to evaluate a story that was meant to be sad, participants in a sad mood reported more favorable evaluations than participants in a happy mood. \n",
    "    - These results can be interpreted in terms of differences not in query, but in response mapping. "
   ]
  },
  {
   "cell_type": "markdown",
   "metadata": {},
   "source": [
    "## Situational Engagement of the Affective System"
   ]
  },
  {
   "cell_type": "markdown",
   "metadata": {},
   "source": [
    "* An emerging body of findings suggests that certain motivational and situational factors encourage the reliance on feelings as information in judgment and decision making even if, from a logical standpoint, the objective (as opposed to subjective) diagnosticity of the feelings is held constant."
   ]
  },
  {
   "cell_type": "markdown",
   "metadata": {},
   "source": [
    "* Two of these factors have recently been identified: \n",
    "    - the person’s regulatory focus and \n",
    "    - the person’s temporal perspective. "
   ]
  },
  {
   "cell_type": "markdown",
   "metadata": {},
   "source": [
    "* According to regulatory focus theory (higgins, 1997), \n",
    "    - human self-regulation involves two separate systems: \n",
    "        - a promotion system, whose strategic orientation is approach-oriented, and \n",
    "        - a prevention system, whose strategic orientation is avoidance-oriented."
   ]
  },
  {
   "cell_type": "markdown",
   "metadata": {},
   "source": [
    "* some factors such as the person’s regulatory focus or temporal perspective trigger a greater or lower engagement of the entire affective system of judgment independently of the objec- tive diagnosticity of the feelings."
   ]
  },
  {
   "cell_type": "markdown",
   "metadata": {},
   "source": [
    "# GAIM: A Generalized Affect-as-Information Model of Judgment"
   ]
  },
  {
   "cell_type": "markdown",
   "metadata": {},
   "source": [
    "<img src=\"figures/fig8.1.png\" width=600 />"
   ]
  },
  {
   "cell_type": "markdown",
   "metadata": {},
   "source": [
    "# 참고자료"
   ]
  },
  {
   "cell_type": "markdown",
   "metadata": {},
   "source": [
    "* [1] Social Psychology of Consumer Behavior - http://www.amazon.com/Social-Psychology-Consumer-Behavior-Frontiers/dp/1841694983\n",
    "* [2] Introductory Psychology: Emotion -  http://www.slideshare.net/bpiper74/introductory-psychology-emotion\n",
    "* [3] 스피노자의 뇌 : 기쁨, 슬픔, 느낌의 뇌과학 / 안토니오 다마지오 - http://www.aladin.co.kr/shop/wproduct.aspx?ItemId=916747\n",
    "* [4] 스피노자의 뇌 (요약) - http://www.slideshare.net/yoojinchoi15/ss-10082570\n",
    "* [5] Consumer Behaviour Motivation & Affect - https://docs.google.com/viewer?url=https%3A%2F%2Fweb.viu.ca%2Fweaverd%2Fmark260%2FMarketing%2520260%2520Consumer%2520Behaviour%2520Motivation%2520and%2520Values-week3%2520lecture.ppt\n",
    "* [6] Motivation, Emotion, Mood, and Involvement - https://docs.google.com/viewer?url=http%3A%2F%2Fhomepages.wmich.edu%2F~lindquis%2Fconsumer%2520behavior%2520ppt%2Fcbch8.ppt\n",
    "* [7] CONSUMER BEHAVIOR - https://docs.google.com/viewer?url=http%3A%2F%2Fwww.consumerpsychologist.com%2FPPT%2F05-F10--Consumer_Behavior.ppt"
   ]
  }
 ],
 "metadata": {
  "kernelspec": {
   "display_name": "Python 2",
   "language": "python",
   "name": "python2"
  },
  "language_info": {
   "codemirror_mode": {
    "name": "ipython",
    "version": 2
   },
   "file_extension": ".py",
   "mimetype": "text/x-python",
   "name": "python",
   "nbconvert_exporter": "python",
   "pygments_lexer": "ipython2",
   "version": "2.7.10"
  }
 },
 "nbformat": 4,
 "nbformat_minor": 0
}
