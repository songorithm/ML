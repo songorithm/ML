{
 "cells": [
  {
   "cell_type": "code",
   "execution_count": 1,
   "metadata": {
    "collapsed": true
   },
   "outputs": [],
   "source": [
    "%matplotlib inline"
   ]
  },
  {
   "cell_type": "markdown",
   "metadata": {},
   "source": [
    "# Graph Structures\n",
    "## Theano Graph\n",
    "- 왜 갑자기 graph? \n",
    "- Theano로 만든 code를 debuggin 하거나 profiling 하는 건 쉽지 않다.\n",
    "- 블랙박스 속에서 무슨 일이 벌어지고 있는 지 모른다면\n",
    "- 이해하기 위해 필요한 만큼만 들여다 보자. 자세한 건 Extending Theano를 보고...\n",
    "\n",
    "- Theano code를 쓰는 첫번째 단계는 관련된 모든 수학적 관계식을 symbolic placeholder (variable)를 이용하여 기술하는 것이다.\n",
    "- 이러한 expression에는 사칙연산, 삼각함수 등 여러가지가 있다.\n",
    "- 이러한 모든 expression은 내부적으로는 *ops* 로 나타내어진다.\n",
    "- op.라는 것은 특정한 input을 받아 연산하고 정해진 type의 output을 내는 것을 의미한다.\n",
    "- 대부분의 프로그래밍 언어에서 이야기하는 function definitions으로 생각해도 되겠다.\n",
    "- Theano는 내부적으로 _variable node_, _op node_, _apply node_ 가 연결된 graph structure를 만든다.\n",
    "- apply node는 vaiable에 뭔가를 하는 op을 나타낸다고 생각하자.\n",
    "- op에 의해 나타내어지는 연산의 정의와 특정한 data type에 적용하는 것 그래서 apply node로 나타나는 것 사이의 차이를 그려보는 것은 중요한 일이다.\n",
    "- 우선 아래 graph의 예를 보자."
   ]
  },
  {
   "cell_type": "code",
   "execution_count": 2,
   "metadata": {
    "collapsed": false
   },
   "outputs": [
    {
     "name": "stderr",
     "output_type": "stream",
     "text": [
      "Using gpu device 0: GeForce GTX 980 Ti\n"
     ]
    }
   ],
   "source": [
    "from theano import *\n",
    "import theano.tensor as T\n",
    "from theano import function"
   ]
  },
  {
   "cell_type": "code",
   "execution_count": 3,
   "metadata": {
    "collapsed": true
   },
   "outputs": [],
   "source": [
    "x = T.dscalar('x')\n",
    "y = T.dscalar('y')\n",
    "z = x + y\n",
    "f = function([x, y], z)"
   ]
  },
  {
   "cell_type": "code",
   "execution_count": 4,
   "metadata": {
    "collapsed": false
   },
   "outputs": [
    {
     "data": {
      "text/plain": [
       "<matplotlib.image.AxesImage at 0x7fde103ba450>"
      ]
     },
     "execution_count": 4,
     "metadata": {},
     "output_type": "execute_result"
    },
    {
     "data": {
      "image/png": "[encoded data removed]",
      "text/plain": [
       "<matplotlib.figure.Figure at 0x7fde64636190>"
      ]
     },
     "metadata": {},
     "output_type": "display_data"
    }
   ],
   "source": [
    "import matplotlib.pyplot as plt\n",
    "import Image\n",
    "im = Image.open('apply1.png')\n",
    "plt.imshow(im)"
   ]
  },
  {
   "cell_type": "markdown",
   "metadata": {},
   "source": [
    "- 위 그림에서 화살표는 Python 객체에 대한 참조를 나타내고 있다.\n",
    "- 청색 상자는 _Apply node_이고 (Computation graph를 표시하기 위해 쓰는 내부 노드 (_Variable node_ 와는 달리 사용자가 직접 조작하지 않는다.)\n",
    "- 붉은색 상자는 _Variable node_ 이다. \n",
    "- 초록색 원은 _Ops_ 이고 보라색 상자는 _Type_이라고 한다.\n",
    "- 주) 그런데 z = x + y 에 대한 정보는 없다?\n",
    "- 이 그래프는 output (여기서는 어떤 연산)에서 시작하여 input 까지 따라가며 조사할 수 있는데 owner filed를 이용하여 가능하다고 한다.\n",
    "- 아래 코드를 보자."
   ]
  },
  {
   "cell_type": "code",
   "execution_count": 5,
   "metadata": {
    "collapsed": true
   },
   "outputs": [],
   "source": [
    "import theano\n",
    "x = theano.tensor.dmatrix('x')\n",
    "y = x * 2."
   ]
  },
  {
   "cell_type": "markdown",
   "metadata": {},
   "source": [
    "- `type(y.owner)` 하면 `<class 'theano.gof.graph.Apply'>` 의 결과를 얻을 수 있는데, 이것은 Apply node와 input을 이어주는 것이라 한다."
   ]
  },
  {
   "cell_type": "code",
   "execution_count": 6,
   "metadata": {
    "collapsed": false
   },
   "outputs": [
    {
     "data": {
      "text/plain": [
       "theano.gof.graph.Apply"
      ]
     },
     "execution_count": 6,
     "metadata": {},
     "output_type": "execute_result"
    }
   ],
   "source": [
    "type(y.owner)"
   ]
  },
  {
   "cell_type": "markdown",
   "metadata": {},
   "source": [
    "- 이제 y를 얻기 위해 적용되는 op 의 이름을 출력해보자."
   ]
  },
  {
   "cell_type": "code",
   "execution_count": 7,
   "metadata": {
    "collapsed": false
   },
   "outputs": [
    {
     "data": {
      "text/plain": [
       "'Elemwise{mul,no_inplace}'"
      ]
     },
     "execution_count": 7,
     "metadata": {},
     "output_type": "execute_result"
    }
   ],
   "source": [
    "y.owner.op.name"
   ]
  },
  {
   "cell_type": "markdown",
   "metadata": {},
   "source": [
    "- 위의 출력값으로 y 를 계산하기 위해서 elementwise multiplication 이 사용된다는 것을 알았다.\n",
    "- 이 연산(op)는 어떤 input 에 대해 적용되고 있는지 알아보자."
   ]
  },
  {
   "cell_type": "code",
   "execution_count": 8,
   "metadata": {
    "collapsed": false
   },
   "outputs": [
    {
     "data": {
      "text/plain": [
       "2"
      ]
     },
     "execution_count": 8,
     "metadata": {},
     "output_type": "execute_result"
    }
   ],
   "source": [
    "len(y.owner.inputs)"
   ]
  },
  {
   "cell_type": "markdown",
   "metadata": {},
   "source": [
    "- 두 개의 input 을 받아 연산(op)하는 것이며"
   ]
  },
  {
   "cell_type": "code",
   "execution_count": 9,
   "metadata": {
    "collapsed": false
   },
   "outputs": [
    {
     "data": {
      "text/plain": [
       "x"
      ]
     },
     "execution_count": 9,
     "metadata": {},
     "output_type": "execute_result"
    }
   ],
   "source": [
    "y.owner.inputs[0]"
   ]
  },
  {
   "cell_type": "markdown",
   "metadata": {},
   "source": [
    "- 그 중 첫번째 것은 x 이고"
   ]
  },
  {
   "cell_type": "code",
   "execution_count": 10,
   "metadata": {
    "collapsed": false
   },
   "outputs": [
    {
     "data": {
      "text/plain": [
       "DimShuffle{x,x}.0"
      ]
     },
     "execution_count": 10,
     "metadata": {},
     "output_type": "execute_result"
    }
   ],
   "source": [
    "y.owner.inputs[1]"
   ]
  },
  {
   "cell_type": "markdown",
   "metadata": {},
   "source": [
    "- 두 번째 것은 예상과는 달리 2가 나오지 않았다.\n",
    "- 이것은 우선 2가 x와 동일한 모양의 matrix로 broadcast 되기 때문인데\n",
    "    - broadcast: 차원(dimension)이 다른 텐서가 elementwise computations 될 수 있도록 해주는 것이라 한다.\n",
    "    - 이것은 차원이 낮은 텐서를 차원이 높은 텐서로 가상적으로 복제함으로써 이루어진다.\n",
    "    - 자세한 것은 Broadcasting in Theano vs. Numpy 를 보고\n",
    "    - SciPy documentation about numpy's broadcasting 도 \n",
    "    - OnLamp article about numpy’s broadcasting 도 보면 좋겠다.\n",
    "- 이것은 `DimShuffle` 이라는 op를 통해 이루어진다."
   ]
  },
  {
   "cell_type": "markdown",
   "metadata": {},
   "source": [
    "그래서 각각의 type을 한번 알아보면"
   ]
  },
  {
   "cell_type": "code",
   "execution_count": 11,
   "metadata": {
    "collapsed": false
   },
   "outputs": [
    {
     "data": {
      "text/plain": [
       "theano.tensor.var.TensorVariable"
      ]
     },
     "execution_count": 11,
     "metadata": {},
     "output_type": "execute_result"
    }
   ],
   "source": [
    "type(y.owner.inputs[1])"
   ]
  },
  {
   "cell_type": "markdown",
   "metadata": {},
   "source": [
    "- 이미 텐서이고..."
   ]
  },
  {
   "cell_type": "code",
   "execution_count": 12,
   "metadata": {
    "collapsed": false
   },
   "outputs": [
    {
     "data": {
      "text/plain": [
       "theano.gof.graph.Apply"
      ]
     },
     "execution_count": 12,
     "metadata": {},
     "output_type": "execute_result"
    }
   ],
   "source": [
    "type(y.owner.inputs[1].owner)"
   ]
  },
  {
   "cell_type": "code",
   "execution_count": 13,
   "metadata": {
    "collapsed": false
   },
   "outputs": [
    {
     "data": {
      "text/plain": [
       "<theano.tensor.elemwise.DimShuffle at 0x7fde0c33e550>"
      ]
     },
     "execution_count": 13,
     "metadata": {},
     "output_type": "execute_result"
    }
   ],
   "source": [
    "y.owner.inputs[1].owner.op"
   ]
  },
  {
   "cell_type": "markdown",
   "metadata": {},
   "source": [
    "- 이렇게 바꾸어준 범인은 DimShuffle 임!"
   ]
  },
  {
   "cell_type": "code",
   "execution_count": 14,
   "metadata": {
    "collapsed": false
   },
   "outputs": [
    {
     "data": {
      "text/plain": [
       "[TensorConstant{2.0}]"
      ]
     },
     "execution_count": 14,
     "metadata": {},
     "output_type": "execute_result"
    }
   ],
   "source": [
    "y.owner.inputs[1].owner.inputs"
   ]
  },
  {
   "cell_type": "markdown",
   "metadata": {},
   "source": [
    "- Dimshuffle 이 받은 원래의 input 값은 텐서 상수 2.0 임을 알 수 있다."
   ]
  },
  {
   "cell_type": "markdown",
   "metadata": {},
   "source": [
    "## Automatic Differentiation\n",
    "- 이 그래프 구조를 안다면 자동화된 미분(automatics differentiation)은 쉽다고 한다.\n",
    "- chain rule 에 따라 진행 가능.\n",
    "- `tensor.grad()` 가 하는 일은 output에서부터 input까지 그래프를 역탐색하는데, 모든 apply node를 둘러보아야 하는 것이다.\n",
    "    - (apply node는 어떤 연산(computation)을 할지 정의해두고 있는 node이다.)\n",
    "- 각 apply node에 대해, op는 gradient의 ...\n",
    "\n",
    "- 자세한 내용은 differentiation 에 있으니 읽어 보세요."
   ]
  },
  {
   "cell_type": "code",
   "execution_count": 22,
   "metadata": {
    "collapsed": false
   },
   "outputs": [
    {
     "data": {
      "text/plain": [
       "'((fill((x ** TensorConstant{2}), TensorConstant{1.0}) * TensorConstant{2}) * (x ** (TensorConstant{2} - TensorConstant{1})))'"
      ]
     },
     "execution_count": 22,
     "metadata": {},
     "output_type": "execute_result"
    }
   ],
   "source": [
    "from theano import pp\n",
    "x = T.dscalar('x')\n",
    "y = x ** 2\n",
    "gy = T.grad(y, x)\n",
    "pp(gy)  # print out the gradient prior to optimization\n",
    "# '((fill((x ** 2), 1.0) * 2) * (x ** (2 - 1)))'"
   ]
  },
  {
   "cell_type": "code",
   "execution_count": 23,
   "metadata": {
    "collapsed": false
   },
   "outputs": [
    {
     "data": {
      "text/plain": [
       "array(8.0)"
      ]
     },
     "execution_count": 23,
     "metadata": {},
     "output_type": "execute_result"
    }
   ],
   "source": [
    "f = function([x], gy)\n",
    "f(4)\n",
    "# array(8.0)"
   ]
  },
  {
   "cell_type": "code",
   "execution_count": 24,
   "metadata": {
    "collapsed": false
   },
   "outputs": [
    {
     "data": {
      "text/plain": [
       "array(188.4)"
      ]
     },
     "execution_count": 24,
     "metadata": {},
     "output_type": "execute_result"
    }
   ],
   "source": [
    "f(94.2)\n",
    "# array(188.40000000000001)"
   ]
  },
  {
   "cell_type": "markdown",
   "metadata": {},
   "source": [
    "## Optimizations\n",
    "- Theano function을 컴파일 할 때, theano.function에 넘겨주는 것은 확실히 그래프이다.\n",
    "- 이 그래프 구조는 input 으로부터 output을 어떻게 계산할지를 보여주고 있는데,\n",
    "- 이와 더불어 계산방법에 대한 개선을 할 여지가 있는지도 볼 수 있다.\n",
    "- Theano 에서의 이 계산 과정 최적화는 그래프에서 특정한 패턴을 찾고 대치하는 식으로 이루어지는데\n",
    "- 이렇게 대치된 것은 동일한 결과를 주지만 더 빠르고 안정적이라고 한다.\n",
    "- 최적화에는 또한 동일한 서브그래프를 찾고 동일한 결과를 다시 계산하지 않도록 하거나,\n",
    "- GPU 에 최적화된 연산으로 식을 바꾸는 것도 포함된다.\n",
    "- 예를 들어 xy / y 를 x 로 대치하는 식이다.\n",
    "- 여기도 한번 읽어보세요.\n",
    "    - the optimization process and the specific optimizations that are applicable"
   ]
  },
  {
   "cell_type": "markdown",
   "metadata": {},
   "source": [
    "### Example"
   ]
  },
  {
   "cell_type": "code",
   "execution_count": 15,
   "metadata": {
    "collapsed": false
   },
   "outputs": [
    {
     "name": "stdout",
     "output_type": "stream",
     "text": [
      "[    0.     2.  1026.]\n"
     ]
    }
   ],
   "source": [
    "import theano\n",
    "a = theano.tensor.vector(\"a\")      # declare symbolic variable\n",
    "b = a + a ** 10                    # build symbolic expression\n",
    "f = theano.function([a], b)        # compile function\n",
    "print f([0, 1, 2])                 # prints `array([0,2,1026])`"
   ]
  },
  {
   "cell_type": "code",
   "execution_count": 16,
   "metadata": {
    "collapsed": false
   },
   "outputs": [
    {
     "name": "stdout",
     "output_type": "stream",
     "text": [
      "The output file is available at ./symbolic_graph_unopt.png\n"
     ]
    }
   ],
   "source": [
    "theano.printing.pydotprint(b, outfile=\"./symbolic_graph_unopt.png\", var_with_name_simple=True)"
   ]
  },
  {
   "cell_type": "code",
   "execution_count": 17,
   "metadata": {
    "collapsed": false
   },
   "outputs": [
    {
     "name": "stdout",
     "output_type": "stream",
     "text": [
      "The output file is available at ./symbolic_graph_opt.png\n"
     ]
    }
   ],
   "source": [
    "theano.printing.pydotprint(f, outfile=\"./symbolic_graph_opt.png\", var_with_name_simple=True)"
   ]
  },
  {
   "cell_type": "code",
   "execution_count": 18,
   "metadata": {
    "collapsed": false,
    "scrolled": true
   },
   "outputs": [
    {
     "data": {
      "text/plain": [
       "<matplotlib.image.AxesImage at 0x7fde4d599210>"
      ]
     },
     "execution_count": 18,
     "metadata": {},
     "output_type": "execute_result"
    },
    {
     "data": {
      "image/png": "[encoded data removed]",
      "text/plain": [
       "<matplotlib.figure.Figure at 0x7fde4d59f190>"
      ]
     },
     "metadata": {},
     "output_type": "display_data"
    }
   ],
   "source": [
    "im = Image.open('symbolic_graph_unopt.png')\n",
    "plt.imshow(im)"
   ]
  },
  {
   "cell_type": "code",
   "execution_count": 21,
   "metadata": {
    "collapsed": false
   },
   "outputs": [
    {
     "data": {
      "text/plain": [
       "<matplotlib.image.AxesImage at 0x7fde4cb45d50>"
      ]
     },
     "execution_count": 21,
     "metadata": {},
     "output_type": "execute_result"
    },
    {
     "data": {
      "image/png": "[encoded data removed]",
      "text/plain": [
       "<matplotlib.figure.Figure at 0x7fde0c33ec50>"
      ]
     },
     "metadata": {},
     "output_type": "display_data"
    }
   ],
   "source": [
    "im = Image.open('symbolic_graph_opt.png')\n",
    "plt.imshow(im)"
   ]
  },
  {
   "cell_type": "markdown",
   "metadata": {
    "collapsed": true
   },
   "source": [
    "# Printing / Drawing Theano graphs"
   ]
  },
  {
   "cell_type": "code",
   "execution_count": 25,
   "metadata": {
    "collapsed": true
   },
   "outputs": [],
   "source": [
    ">>> import numpy\n",
    ">>> import theano\n",
    ">>> import theano.tensor as T\n",
    ">>> rng = numpy.random\n",
    ">>> # Training data\n",
    ">>> N = 400\n",
    ">>> feats = 784\n",
    ">>> D = (rng.randn(N, feats).astype(theano.config.floatX), rng.randint(size=N,low=0, high=2).astype(theano.config.floatX))\n",
    ">>> training_steps = 10000\n",
    ">>> # Declare Theano symbolic variables\n",
    ">>> x = T.matrix(\"x\")\n",
    ">>> y = T.vector(\"y\")\n",
    ">>> w = theano.shared(rng.randn(feats).astype(theano.config.floatX), name=\"w\")\n",
    ">>> b = theano.shared(numpy.asarray(0., dtype=theano.config.floatX), name=\"b\")\n",
    ">>> x.tag.test_value = D[0]\n",
    ">>> y.tag.test_value = D[1]\n",
    ">>> # Construct Theano expression graph\n",
    ">>> p_1 = 1 / (1 + T.exp(-T.dot(x, w)-b)) # Probability of having a one\n",
    ">>> prediction = p_1 > 0.5 # The prediction that is done: 0 or 1\n",
    ">>> # Compute gradients\n",
    ">>> xent = -y*T.log(p_1) - (1-y)*T.log(1-p_1) # Cross-entropy\n",
    ">>> cost = xent.mean() + 0.01*(w**2).sum() # The cost to optimize\n",
    ">>> gw,gb = T.grad(cost, [w,b])\n",
    ">>> # Training and prediction function\n",
    ">>> train = theano.function(inputs=[x,y], outputs=[prediction, xent], updates=[[w, w-0.01*gw], [b, b-0.01*gb]], name = \"train\")\n",
    ">>> predict = theano.function(inputs=[x], outputs=prediction, name = \"predict\")"
   ]
  },
  {
   "cell_type": "markdown",
   "metadata": {},
   "source": [
    "## Pretty Printing"
   ]
  },
  {
   "cell_type": "code",
   "execution_count": 26,
   "metadata": {
    "collapsed": false
   },
   "outputs": [
    {
     "data": {
      "text/plain": [
       "'gt((TensorConstant{1} / (TensorConstant{1} + exp(((-(x \\\\dot HostFromGpu(w))) - HostFromGpu(b))))), TensorConstant{0.5})'"
      ]
     },
     "execution_count": 26,
     "metadata": {},
     "output_type": "execute_result"
    }
   ],
   "source": [
    ">>> theano.printing.pprint(prediction) "
   ]
  },
  {
   "cell_type": "markdown",
   "metadata": {},
   "source": [
    "## Debug Print\n",
    "The pre-compilation graph:"
   ]
  },
  {
   "cell_type": "code",
   "execution_count": 27,
   "metadata": {
    "collapsed": true
   },
   "outputs": [
    {
     "name": "stdout",
     "output_type": "stream",
     "text": [
      "Elemwise{gt,no_inplace} [@A] ''   \n",
      " |Elemwise{true_div,no_inplace} [@B] ''   \n",
      " | |DimShuffle{x} [@C] ''   \n",
      " | | |TensorConstant{1} [@D]\n",
      " | |Elemwise{add,no_inplace} [@E] ''   \n",
      " |   |DimShuffle{x} [@F] ''   \n",
      " |   | |TensorConstant{1} [@D]\n",
      " |   |Elemwise{exp,no_inplace} [@G] ''   \n",
      " |     |Elemwise{sub,no_inplace} [@H] ''   \n",
      " |       |Elemwise{neg,no_inplace} [@I] ''   \n",
      " |       | |dot [@J] ''   \n",
      " |       |   |x [@K]\n",
      " |       |   |HostFromGpu [@L] ''   \n",
      " |       |     |w [@M]\n",
      " |       |DimShuffle{x} [@N] ''   \n",
      " |         |HostFromGpu [@O] ''   \n",
      " |           |b [@P]\n",
      " |DimShuffle{x} [@Q] ''   \n",
      "   |TensorConstant{0.5} [@R]\n"
     ]
    }
   ],
   "source": [
    ">>> theano.printing.debugprint(prediction) "
   ]
  },
  {
   "cell_type": "code",
   "execution_count": null,
   "metadata": {
    "collapsed": true
   },
   "outputs": [],
   "source": [
    "The post-compilation graph:"
   ]
  },
  {
   "cell_type": "code",
   "execution_count": 28,
   "metadata": {
    "collapsed": false,
    "scrolled": true
   },
   "outputs": [
    {
     "name": "stdout",
     "output_type": "stream",
     "text": [
      "Elemwise{gt,no_inplace} [@A] ''   7\n",
      " |HostFromGpu [@B] ''   6\n",
      " | |GpuElemwise{Composite{scalar_sigmoid((-((-i0) - i1)))}}[(0, 0)] [@C] ''   5\n",
      " |   |GpuGemv{inplace} [@D] ''   4\n",
      " |   | |GpuAlloc{memset_0=True} [@E] ''   3\n",
      " |   | | |CudaNdarrayConstant{0.0} [@F]\n",
      " |   | | |Shape_i{0} [@G] ''   2\n",
      " |   | |   |x [@H]\n",
      " |   | |TensorConstant{1.0} [@I]\n",
      " |   | |GpuFromHost [@J] ''   1\n",
      " |   | | |x [@H]\n",
      " |   | |w [@K]\n",
      " |   | |TensorConstant{0.0} [@L]\n",
      " |   |GpuDimShuffle{x} [@M] ''   0\n",
      " |     |b [@N]\n",
      " |TensorConstant{(1,) of 0.5} [@O]\n"
     ]
    }
   ],
   "source": [
    ">>> theano.printing.debugprint(predict) "
   ]
  },
  {
   "cell_type": "markdown",
   "metadata": {},
   "source": [
    "## Picture Printing of Graphs\n",
    "The pre-compilation graph:"
   ]
  },
  {
   "cell_type": "code",
   "execution_count": 31,
   "metadata": {
    "collapsed": false
   },
   "outputs": [
    {
     "name": "stdout",
     "output_type": "stream",
     "text": [
      "The output file is available at logreg_pydotprint_prediction.png\n"
     ]
    }
   ],
   "source": [
    ">>> theano.printing.pydotprint(prediction, outfile=\"logreg_pydotprint_prediction.png\", var_with_name_simple=True)\n",
    "# The output file is available at pics/logreg_pydotprint_prediction.png"
   ]
  },
  {
   "cell_type": "markdown",
   "metadata": {},
   "source": [
    "<img src=\"logreg_pydotprint_prediction.png\"/>\n",
    "The post-compilation graph:"
   ]
  },
  {
   "cell_type": "code",
   "execution_count": 32,
   "metadata": {
    "collapsed": false
   },
   "outputs": [
    {
     "name": "stdout",
     "output_type": "stream",
     "text": [
      "The output file is available at logreg_pydotprint_predict.png\n"
     ]
    }
   ],
   "source": [
    ">>> theano.printing.pydotprint(predict, outfile=\"logreg_pydotprint_predict.png\", var_with_name_simple=True)"
   ]
  },
  {
   "cell_type": "markdown",
   "metadata": {},
   "source": [
    "<img src=\"logreg_pydotprint_predict.png\"/>\n",
    "The optimized training graph:"
   ]
  },
  {
   "cell_type": "code",
   "execution_count": 33,
   "metadata": {
    "collapsed": false
   },
   "outputs": [
    {
     "name": "stdout",
     "output_type": "stream",
     "text": [
      "The output file is available at logreg_pydotprint_train.png\n"
     ]
    }
   ],
   "source": [
    ">>> theano.printing.pydotprint(train, outfile=\"logreg_pydotprint_train.png\", var_with_name_simple=True)"
   ]
  },
  {
   "cell_type": "markdown",
   "metadata": {},
   "source": [
    "<img src=\"logreg_pydotprint_train.png\"/>"
   ]
  },
  {
   "cell_type": "code",
   "execution_count": null,
   "metadata": {
    "collapsed": true
   },
   "outputs": [],
   "source": []
  }
 ],
 "metadata": {
  "kernelspec": {
   "display_name": "Python 2",
   "language": "python",
   "name": "python2"
  },
  "language_info": {
   "codemirror_mode": {
    "name": "ipython",
    "version": 2
   },
   "file_extension": ".py",
   "mimetype": "text/x-python",
   "name": "python",
   "nbconvert_exporter": "python",
   "pygments_lexer": "ipython2",
   "version": "2.7.6"
  }
 },
 "nbformat": 4,
 "nbformat_minor": 0
}
